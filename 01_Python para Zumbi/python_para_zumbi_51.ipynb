{
 "cells": [
  {
   "cell_type": "markdown",
   "metadata": {},
   "source": [
    "# aula 51 - 55"
   ]
  },
  {
   "cell_type": "code",
   "execution_count": null,
   "metadata": {},
   "outputs": [],
   "source": [
    "dicio = {}\n",
    "\n",
    "dicio[0] = 'gol'\n",
    "dicio[1] = 'fusca'\n",
    "dicio['mel'] = 'abelha'\n",
    "dicio"
   ]
  },
  {
   "cell_type": "code",
   "execution_count": null,
   "metadata": {},
   "outputs": [],
   "source": [
    "dicio.keys()"
   ]
  },
  {
   "cell_type": "code",
   "execution_count": null,
   "metadata": {},
   "outputs": [],
   "source": [
    "dicio.values()"
   ]
  },
  {
   "cell_type": "code",
   "execution_count": null,
   "metadata": {},
   "outputs": [],
   "source": [
    "import string\n",
    "string.punctuation\n",
    "\n"
   ]
  },
  {
   "cell_type": "code",
   "execution_count": null,
   "metadata": {},
   "outputs": [],
   "source": [
    "arq = open('alice.txt')\n",
    "texto = arq.read()\n",
    "texto = texto.lower()\n",
    "import string\n",
    "for c in string.punctuation:\n",
    "    texto = texto.replace(c, ' ')\n",
    "texto = texto.split()\n",
    "\n",
    "dic = {}\n",
    "for p in texto:\n",
    "    if p not in dic:\n",
    "        dic[p] = 1\n",
    "    else:\n",
    "        dic[p] += 1\n",
    "print ('Alice aparece %s vezes' %dic['alice'])\n",
    "arq.close()"
   ]
  },
  {
   "cell_type": "code",
   "execution_count": null,
   "metadata": {},
   "outputs": [],
   "source": [
    "class Tele():\n",
    "    def __init__(self):\n",
    "        self.canal = 2\n",
    "       \n",
    "    def canal_cima(self):\n",
    "        self.canal += 1\n",
    "        \n",
    "    def canal_baixo(self):\n",
    "        self.canal -= 1    \n",
    "        \n",
    "tv = Tele()\n",
    "tv.canal_cima()\n",
    "tv.canal\n",
    "\n"
   ]
  },
  {
   "cell_type": "markdown",
   "metadata": {},
   "source": [
    "# aula 55 / 56 versao 01"
   ]
  },
  {
   "cell_type": "code",
   "execution_count": null,
   "metadata": {},
   "outputs": [],
   "source": [
    "# versao 01\n",
    "from tatu import *\n",
    "\n",
    "joao = Cliente('Joao da Silva', '22999666333')\n",
    "maria = Cliente('Maria da Silva', '22999666333')\n",
    "\n",
    "print('Nome: {} - Celular: {}'.format(joao.nome, joao.celular))\n",
    "print('Nome: {} - Celular: {}'.format(maria.nome, maria.celular))\n",
    "\n",
    "print('Nome: %s. Telefone: %s.' %(joao.nome, joao.celular))\n",
    "print('Nome: %s. Telefone: %s.' %(maria.nome, maria.celular))\n",
    "\n",
    "conta1 = Conta([joao], 1, 1000)\n",
    "conta2 = Conta([joao, maria], 2, 500)\n",
    "\n",
    "conta1.resumo()\n",
    "conta2.resumo()"
   ]
  },
  {
   "cell_type": "markdown",
   "metadata": {},
   "source": [
    "# aula 55 / 56 versao 02"
   ]
  },
  {
   "cell_type": "code",
   "execution_count": null,
   "metadata": {},
   "outputs": [],
   "source": [
    "from tatu2 import Cliente\n",
    "from tatu2 import Conta\n",
    "\n",
    "joao = Cliente('JOAO DA SILVA', '222333666')\n",
    "maria = Cliente('MARIA DA SILVA', '444777555')\n",
    "\n",
    "print('Nome: %s. Telefone: %s.' %(joao.nome, joao.telefone))\n",
    "print('Nome: %s. Telefone: %s.' %(maria.nome, maria.telefone))\n",
    "\n",
    "conta1 = Conta([joao], 1, 1000)\n",
    "conta2 = Conta([joao, maria], 2, 500)\n",
    "\n",
    "conta1.saque(50)\n",
    "conta2.deposito(300)\n",
    "conta1.saque(190)\n",
    "conta2.deposito(95.15)\n",
    "conta2.saque(250)\n",
    "conta1.extrato()\n",
    "conta2.extrato()"
   ]
  },
  {
   "cell_type": "markdown",
   "metadata": {},
   "source": [
    "# aula 55 - 58"
   ]
  },
  {
   "cell_type": "code",
   "execution_count": null,
   "metadata": {},
   "outputs": [],
   "source": [
    "from tatu3 import Cliente\n",
    "from tatu3 import Conta, ContaEspecial\n",
    "\n",
    "joao = Cliente('JOAO DA SILVA', '222333666')\n",
    "maria = Cliente('MARIA DA SILVA', '444777555')\n",
    "\n",
    "print('Nome: %s. Telefone: %s.' %(joao.nome, joao.telefone))\n",
    "print('Nome: %s. Telefone: %s.' %(maria.nome, maria.telefone))\n",
    "\n",
    "conta1 = Conta([joao], 1, 1000)\n",
    "conta2 = ContaEspecial([joao, maria], 2, 500, 1000)\n",
    "\n",
    "conta1.saque(50)\n",
    "conta2.deposito(300)\n",
    "conta1.saque(190)\n",
    "conta2.deposito(95.15)\n",
    "conta2.saque(1500)\n",
    "conta1.extrato()\n",
    "conta2.extrato()"
   ]
  },
  {
   "cell_type": "code",
   "execution_count": null,
   "metadata": {},
   "outputs": [],
   "source": [
    "import datetime\n",
    "\n",
    "class Pessoa():\n",
    "    def __init__(self, nome, nascimento):\n",
    "        self.nome = nome\n",
    "        self.nascimento = nascimento\n",
    "        \n",
    "    def idade(self):\n",
    "        delta = datetime.date.today() - self.nascimento\n",
    "        return int(delta.days/365)\n",
    "    \n",
    "    def __str__(self):\n",
    "        return '%s, %d anos:' %(self.nome, self.idade())\n",
    "    \n",
    "gente = Pessoa('Gente', datetime.date(1980, 6, 30))   \n",
    "\n",
    "print(gente.idade())\n",
    "print(gente)"
   ]
  },
  {
   "cell_type": "markdown",
   "metadata": {},
   "source": [
    "# aula 59 - 68"
   ]
  },
  {
   "cell_type": "code",
   "execution_count": null,
   "metadata": {},
   "outputs": [],
   "source": [
    "class int42(int):\n",
    "    def __init__(self, n):\n",
    "        int.__init__(n)\n",
    "    \n",
    "    def __add__(a, b):\n",
    "        return 42\n",
    "    \n",
    "    def __str__(n):\n",
    "        return '46'\n",
    "    \n",
    "a = int42(7)  \n",
    "b = int42(67) \n",
    "c = b + a    \n",
    "print(int42(c))    "
   ]
  },
  {
   "cell_type": "code",
   "execution_count": null,
   "metadata": {},
   "outputs": [],
   "source": [
    "from random import randint\n",
    "chute = 0\n",
    "repeticoes = randint(1, 50)\n",
    "\n",
    "while chute != repeticoes:\n",
    "    chute = int(input('chute um numero: '))\n",
    "    if chute == repeticoes:\n",
    "        print('venceu')\n"
   ]
  },
  {
   "cell_type": "markdown",
   "metadata": {},
   "source": [
    " "
   ]
  },
  {
   "cell_type": "code",
   "execution_count": null,
   "metadata": {},
   "outputs": [],
   "source": []
  }
 ],
 "metadata": {
  "kernelspec": {
   "display_name": "Python 3",
   "language": "python",
   "name": "python3"
  },
  "language_info": {
   "codemirror_mode": {
    "name": "ipython",
    "version": 3
   },
   "file_extension": ".py",
   "mimetype": "text/x-python",
   "name": "python",
   "nbconvert_exporter": "python",
   "pygments_lexer": "ipython3",
   "version": "3.7.3"
  }
 },
 "nbformat": 4,
 "nbformat_minor": 2
}
