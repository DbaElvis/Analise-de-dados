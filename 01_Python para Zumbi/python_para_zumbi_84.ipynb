{
 "cells": [
  {
   "cell_type": "markdown",
   "metadata": {},
   "source": [
    "# AULA 084, 085 e 086"
   ]
  },
  {
   "cell_type": "code",
   "execution_count": 1,
   "metadata": {},
   "outputs": [
    {
     "name": "stdout",
     "output_type": "stream",
     "text": [
      "Johnny  8.65\n",
      "Juan  9.12\n",
      "Joseph  8.45\n",
      "Stacey  7.81\n",
      "Aideen 8.05\n",
      "Zack  7.21\n",
      "Aaron  8.31\n"
     ]
    }
   ],
   "source": [
    "f = open('surf.txt')\n",
    "for linha in f:\n",
    "    print (linha.strip())"
   ]
  },
  {
   "cell_type": "code",
   "execution_count": 2,
   "metadata": {},
   "outputs": [
    {
     "name": "stdout",
     "output_type": "stream",
     "text": [
      "9.12\n"
     ]
    }
   ],
   "source": [
    "f = open('surf.txt')\n",
    "\n",
    "maior = 0\n",
    "\n",
    "for linha in f:\n",
    "    nome, pontos = linha.split()\n",
    "    if float(pontos) > maior:\n",
    "        maior = float(pontos)\n",
    "\n",
    "f.close()\n",
    "print(maior)"
   ]
  },
  {
   "cell_type": "code",
   "execution_count": null,
   "metadata": {},
   "outputs": [],
   "source": [
    "f = open('surf.txt')\n",
    "\n",
    "notas = []\n",
    "\n",
    "for linha in f:\n",
    "    nome, pontos = linha.split()\n",
    "    notas.append(float(pontos))\n",
    "\n",
    "f.close()\n",
    "notas.sort(reverse=True)\n",
    "print(notas[0])\n",
    "print(notas[1])\n",
    "print(notas[2])"
   ]
  },
  {
   "cell_type": "code",
   "execution_count": null,
   "metadata": {},
   "outputs": [],
   "source": [
    "f = open('surf.txt')\n",
    "notas = {}\n",
    "for linha in f:\n",
    "    nome, pontos = linha.split()\n",
    "    notas[float(pontos)] = nome\n",
    "f.close()\n",
    "\n",
    "for nota in sorted(notas, reverse = True):\n",
    "    print ('%s tem nota %4.2f' %(notas[nota], nota))"
   ]
  },
  {
   "cell_type": "markdown",
   "metadata": {},
   "source": [
    "# AULA 087"
   ]
  },
  {
   "cell_type": "code",
   "execution_count": null,
   "metadata": {},
   "outputs": [],
   "source": [
    "import sqlite3 \n",
    "\n",
    "banco = sqlite3.connect(\"surfersDB.sdb\")\n",
    "\n",
    "banco.row_factory = sqlite3.Row \n",
    "\n",
    "cursor = banco.cursor() \n",
    "\n",
    "cursor.execute('''select * from surfers where age > 25''') \n",
    "linhas = cursor.fetchall()\n",
    "\n",
    "for linha in linhas:\n",
    "    print (\"Nome   :\", linha['name'])\n",
    "    print (\"Pais   :\", linha['country']) \n",
    "    print (\"Média  :\", linha['average']) \n",
    "    print (\"Estilo :\", linha['board']) \n",
    "    print (\"Idade  :\", linha['age']) \n",
    "    print()\n",
    "cursor.close() "
   ]
  },
  {
   "cell_type": "code",
   "execution_count": null,
   "metadata": {},
   "outputs": [],
   "source": [
    "import sqlite3 \n",
    "banco = sqlite3.connect(\"surfersDB.sdb\") \n",
    "banco.row_factory = sqlite3.Row \n",
    "cursor = banco.cursor() \n",
    "cursor.execute('''select name, average\n",
    "                  from surfers\n",
    "                  where age > 20\n",
    "                  order by average desc''') \n",
    "linhas = cursor.fetchall()\n",
    "for linha in linhas:\n",
    "    print (\"Nome   :\", linha['name'])\n",
    "    print (\"Média  :\", linha['average']) \n",
    "    print ()\n",
    "cursor.close() "
   ]
  },
  {
   "cell_type": "code",
   "execution_count": null,
   "metadata": {},
   "outputs": [],
   "source": [
    "import sqlite3\n",
    "\n",
    "con = sqlite3.connect('alunos.bd') \n",
    "cur = con.cursor()\n",
    "cur.execute('''create table alunos(login varchar(8),\n",
    "               ra integer)''')\n",
    "\n",
    "cur.close()\n",
    "con.close()"
   ]
  },
  {
   "cell_type": "code",
   "execution_count": null,
   "metadata": {},
   "outputs": [],
   "source": [
    "import sqlite3\n",
    "\n",
    "con = sqlite3.connect('alunos.bd') \n",
    "cur = con.cursor()\n",
    "\n",
    "cur.execute('insert into alunos values(\"masanori\", 42)')\n",
    "cur.execute('insert into alunos values(\"emengarda\", 666)')\n",
    "cur.execute('select * from alunos')\n",
    "\n",
    "for x in cur.fetchall():\n",
    "    print (x)\n",
    "cur.close()\n",
    "con.commit()\n",
    "con.close()"
   ]
  },
  {
   "cell_type": "markdown",
   "metadata": {},
   "source": [
    "# AULA 088"
   ]
  },
  {
   "cell_type": "code",
   "execution_count": null,
   "metadata": {},
   "outputs": [],
   "source": [
    "import dis\n",
    "\n",
    "dis.dis('c = a + b')"
   ]
  },
  {
   "cell_type": "code",
   "execution_count": null,
   "metadata": {},
   "outputs": [],
   "source": [
    "import dis\n",
    "\n",
    "def f(n):\n",
    "    k = 1\n",
    "    f = 1\n",
    "    while k <= n:\n",
    "        f = f * k\n",
    "        k = k + 1\n",
    "    return f     \n",
    "\n",
    "dis.dis(f)"
   ]
  },
  {
   "cell_type": "markdown",
   "metadata": {},
   "source": [
    "# AULA 089 e 090"
   ]
  },
  {
   "cell_type": "code",
   "execution_count": null,
   "metadata": {},
   "outputs": [],
   "source": [
    "import urllib.request\n",
    "import json\n",
    "from pprint import pprint\n",
    "\n",
    "url = 'https://graph.facebook.com/fmasanori'\n",
    "resp = urllib.request.urlopen(url).read()\n",
    "data = json.loads(resp.decode('utf-8'))\n",
    "\n",
    "\n",
    "pprint (data)"
   ]
  },
  {
   "cell_type": "markdown",
   "metadata": {},
   "source": [
    "# AULA 091"
   ]
  },
  {
   "cell_type": "code",
   "execution_count": null,
   "metadata": {},
   "outputs": [],
   "source": [
    "import urllib.request\n",
    "import json\n",
    "\n",
    "user = 'fmasanori'\n",
    "url = 'https://graph.facebook.com/'+user+'/picture?type=large'\n",
    "figura = urllib.request.urlopen(url).read()\n",
    "\n",
    "arquivo = user + '.jpg'\n",
    "f = open (arquivo, 'wb')\n",
    "f.write(figura)\n",
    "f.close()\n",
    "\n",
    "print (arquivo, 'gravado no seu diretório...')\n"
   ]
  },
  {
   "cell_type": "markdown",
   "metadata": {},
   "source": [
    "# AULA 092"
   ]
  },
  {
   "cell_type": "code",
   "execution_count": null,
   "metadata": {},
   "outputs": [],
   "source": [
    "import urllib.request\n",
    "import json\n",
    "\n",
    "#copie o formato no exemplo e pegue o access_token\n",
    "#em https://developers.facebook.com/tools/explorer\n",
    "url = 'copie aqui o link Connections Friends'\n",
    "resp = urllib.request.urlopen(url).read()\n",
    "data = json.loads(resp.decode('utf-8'))\n",
    "\n",
    "\n",
    "for amigo in data['data']:\n",
    "    print (amigo['name'])    "
   ]
  },
  {
   "cell_type": "markdown",
   "metadata": {},
   "source": [
    "# AULA 093"
   ]
  },
  {
   "cell_type": "code",
   "execution_count": null,
   "metadata": {},
   "outputs": [],
   "source": [
    "import urllib.request\n",
    "import json\n",
    "\n",
    "def save_image(friend):\n",
    "    size = '/picture?width=200&height=200'\n",
    "    url = 'https://graph.facebook.com/'+ friend['id'] + size\n",
    "    image = urllib.request.urlopen(url).read()\n",
    "    f = open(friend['name'] + '.jpg', 'wb')\n",
    "    f.write(image)\n",
    "    f.close()\n",
    "    print (friend['name'] + '.jpg impresso')\n",
    "#get the token https://developers.facebook.com/tools/explorer\n",
    "url = 'https://graph.facebook.com/me/friends?access_token=EAACEdEose0cBAD5XZCz5JXYvqyeJzcSvFZC42toHiWyfjhcZCMZBZCpE3uRJnEBsrhUEMRK1wWs6SsdiDFxsI1mYwyoNuMix2XZCpvsKbZB9TumtZBlcLeIpl4pa931Ce9rTinEAhtyVVZAAZAX4NmfpBUqWtzCRC0fX5GZBn7ZC28mPKAZDZD'\n",
    "resp = urllib.request.urlopen(url).read()\n",
    "data = json.loads(resp.decode('utf-8'))\n",
    "\n",
    "for friend in data['data']:\n",
    "    save_image(friend)    "
   ]
  },
  {
   "cell_type": "code",
   "execution_count": null,
   "metadata": {},
   "outputs": [],
   "source": [
    "import urllib.request\n",
    "import json\n",
    "\n",
    "def save_image(friend):\n",
    "  size = '/picture?width=200&height=200'\n",
    "  url = 'https://graph.facebook.com/'+ friend['id'] + size\n",
    "  image = urllib.request.urlopen(url).read()\n",
    "  f = open(friend['name'] + '.jpg', 'wb')\n",
    "  f.write(image)\n",
    "  f.close()\n",
    "  print (friend['name'] + '.jpg impresso')\n",
    "#get the token https://developers.facebook.com/tools/explorer\n",
    "url = 'https://graph.facebook.com/me/friends?access_token=EAACEdEose0cBAD5XZCz5JXYvqyeJzcSvFZC42toHiWyfjhcZCMZBZCpE3uRJnEBsrhUEMRK1wWs6SsdiDFxsI1mYwyoNuMix2XZCpvsKbZB9TumtZBlcLeIpl4pa931Ce9rTinEAhtyVVZAAZAX4NmfpBUqWtzCRC0fX5GZBn7ZC28mPKAZDZD'\n",
    "resp = urllib.request.urlopen(url).read()\n",
    "data = json.loads(resp.decode('utf-8'))\n",
    "\n",
    "for friend in data['data']:\n",
    "  save_image(friend)"
   ]
  },
  {
   "cell_type": "markdown",
   "metadata": {},
   "source": [
    "# AULA 094"
   ]
  },
  {
   "cell_type": "code",
   "execution_count": null,
   "metadata": {},
   "outputs": [],
   "source": [
    "import urllib.request\n",
    "import json\n",
    "\n",
    "def save_image(friend):\n",
    "    size = '/picture?width=200&height=200'\n",
    "    url = 'https://graph.facebook.com/'+ friend['id'] + size\n",
    "    image = urllib.request.urlopen(url).read()\n",
    "    f = open(friend['name'] + '.jpg', 'wb')\n",
    "    f.write(image)\n",
    "    f.close()\n",
    "    print (friend['name'] + '.jpg impresso')\n",
    "#get the token https://developers.facebook.com/tools/explorer\n",
    "url = 'https://graph.facebook.com/me/friends?access_token=EAACEdEose0cBAD5XZCz5JXYvqyeJzcSvFZC42toHiWyfjhcZCMZBZCpE3uRJnEBsrhUEMRK1wWs6SsdiDFxsI1mYwyoNuMix2XZCpvsKbZB9TumtZBlcLeIpl4pa931Ce9rTinEAhtyVVZAAZAX4NmfpBUqWtzCRC0fX5GZBn7ZC28mPKAZDZD'\n",
    "resp = urllib.request.urlopen(url).read()\n",
    "data = json.loads(resp.decode('utf-8'))\n",
    "\n",
    "for friend in data['data']:\n",
    "    save_image(friend)\n"
   ]
  },
  {
   "cell_type": "markdown",
   "metadata": {},
   "source": [
    "# AULA 095"
   ]
  },
  {
   "cell_type": "code",
   "execution_count": null,
   "metadata": {},
   "outputs": [],
   "source": [
    "import urllib.request\n",
    "import json\n",
    "\n",
    "def search(texto):\n",
    "  #pegue o access_token\n",
    "  #em https://developers.facebook.com/tools/explorer\n",
    "    url = 'https://graph.facebook.com/search?q='\n",
    "    tail = '&type=post&access_token=<copie aqui o access_token>'\n",
    "    resp = urllib.request.urlopen(url+texto+tail).read()\n",
    "    data = json.loads(resp.decode('utf-8'))\n",
    "    return data['data']\n",
    "\n",
    "for resp in search('CPRecife2'):\n",
    "    if 'message' in resp:\n",
    "    print (resp['from']['name'] + ': ' + resp['message'] + '\\n')\n"
   ]
  },
  {
   "cell_type": "markdown",
   "metadata": {},
   "source": [
    "# AULA 098"
   ]
  },
  {
   "cell_type": "code",
   "execution_count": null,
   "metadata": {},
   "outputs": [],
   "source": [
    "import urllib.request\n",
    "import json\n",
    "\n",
    "url = 'http://www.reddit.com/r/Python/.json'\n",
    "resp = urllib.request.urlopen(url).read()\n",
    "\n",
    "parsed = json.loads(resp.decode('utf-8'))\n",
    "\n",
    "for item in parsed['data']['children']:\n",
    "    doc = item['data']\n",
    "    print (doc['title'])\n",
    "    print ('#comments: %d' %doc['num_comments'])\n",
    "    print (doc['url'])\n",
    "    print ()\n"
   ]
  },
  {
   "cell_type": "markdown",
   "metadata": {},
   "source": [
    "# AULA 099"
   ]
  },
  {
   "cell_type": "code",
   "execution_count": null,
   "metadata": {},
   "outputs": [],
   "source": [
    "import json\n",
    "import urllib.request\n",
    "import pymongo\n",
    "\n",
    "connection = pymongo.Connection('mongodb://localhost', safe = True)\n",
    "\n",
    "db = connection.reddit\n",
    "stories = db.stories\n",
    "\n",
    "url = 'http://www.reddit.com/r/Python/.json'\n",
    "reddit_page = urllib.request.urlopen(url)\n",
    "\n",
    "parsed = json.loads(reddit_page.read().decode('utf-8'))                           \n",
    "\n",
    "for item in parsed['data']['children']:\n",
    "    print (item['data'])\n",
    "    stories.insert(item['data'])  "
   ]
  },
  {
   "cell_type": "markdown",
   "metadata": {},
   "source": [
    "# AULA 100"
   ]
  },
  {
   "cell_type": "code",
   "execution_count": null,
   "metadata": {},
   "outputs": [],
   "source": [
    "def salva_transação(preço, cartão_crédito, descrição):\n",
    "    file = open(\"transacoes.txt\", \"a\")\n",
    "    file.write(\"%16s%07d%16s\\n\"%(cartão_crédito, preço * 100, descrição))\n",
    "    file.close()\n",
    "\n",
    "itens   = [\"Esfiha\", \"Coxinha\", \"Pastel\", \"Pão de Queijo\"] \n",
    "preços  = [1.50, 2.20, 1.80, 1.20] \n",
    "rodando = True \n",
    "while rodando: \n",
    "    opção = 1 \n",
    "    for escolha in itens: \n",
    "        print(str(opção) + \". \" + escolha) \n",
    "        opção = opção + 1 \n",
    "    print(str(opção) + \". Finalizar\") \n",
    "    escolha = int(input(\"Escolha uma opção: \")) \n",
    "    if escolha == opção:\n",
    "        #escolheu a última opção Finalizar\n",
    "        rodando = False \n",
    "    else: \n",
    "        cartão = input(\"Número do cartão de crédito: \")\n",
    "        salva_transação(preços[escolha-1], cartão, itens[escolha-1])"
   ]
  },
  {
   "cell_type": "markdown",
   "metadata": {},
   "source": [
    "# AULA 101"
   ]
  },
  {
   "cell_type": "code",
   "execution_count": null,
   "metadata": {},
   "outputs": [],
   "source": [
    "from banco import *\n",
    "\n",
    "itens   = [\"Bauru\", \"X Salada\", \"Calafrango\"] \n",
    "preços  = [2.50, 3.0, 2.20] \n",
    "rodando = True \n",
    "\n",
    "while rodando: \n",
    "    opção = 1 \n",
    "    for escolha in itens: \n",
    "        print(str(opção) + \". \" + escolha) \n",
    "        opção = opção + 1 \n",
    "    print(str(opção) + \". Finalizar\") \n",
    "    escolha = int(input(\"Escolha uma opção: \")) \n",
    "    if escolha == opção:\n",
    "        #escolheu a última opção Finalizar\n",
    "        rodando = False \n",
    "    else: \n",
    "        cartão = input(\"Número do cartão de crédito: \")\n",
    "        salva_transação(preços[escolha - 1], cartão, itens[escolha - 1])"
   ]
  },
  {
   "cell_type": "code",
   "execution_count": null,
   "metadata": {},
   "outputs": [],
   "source": [
    "from banco import *\n",
    "\n",
    "itens   = [\"Esfiha\", \"Coxinha\", \"Pastel\", \"Pão de Queijo\"] \n",
    "preços  = [1.50, 2.20, 1.80, 1.20] \n",
    "rodando = True \n",
    "\n",
    "while rodando: \n",
    "    opção = 1 \n",
    "    for escolha in itens: \n",
    "        print(str(opção) + \". \" + escolha) \n",
    "        opção = opção + 1 \n",
    "    print(str(opção) + \". Finalizar\") \n",
    "    escolha = int(input(\"Escolha uma opção: \")) \n",
    "    if escolha == opção:\n",
    "        #escolheu a última opção Finalizar\n",
    "        rodando = False \n",
    "    else: \n",
    "        cartão = input(\"Número do cartão de crédito: \")\n",
    "        salva_transação(preços[escolha - 1], cartão, itens[escolha - 1])"
   ]
  },
  {
   "cell_type": "markdown",
   "metadata": {},
   "source": [
    "# AULA 102"
   ]
  },
  {
   "cell_type": "code",
   "execution_count": 5,
   "metadata": {},
   "outputs": [
    {
     "name": "stdout",
     "output_type": "stream",
     "text": [
      "1. Esfiha\n",
      "2. Coxinha\n",
      "3. Pastel\n",
      "4. Pão de Queijo\n",
      "5. Finalizar\n",
      "Escolha uma opção: 1\n",
      "Número do cartão de crédito: 1231231313132132\n",
      "1. Esfiha\n",
      "2. Coxinha\n",
      "3. Pastel\n",
      "4. Pão de Queijo\n",
      "5. Finalizar\n",
      "Escolha uma opção: 5\n"
     ]
    }
   ],
   "source": [
    "from banco import *\n",
    "from fatec import *\n",
    "\n",
    "itens   = [\"Esfiha\", \"Coxinha\", \"Pastel\", \"Pão de Queijo\"] \n",
    "preços  = [1.50, 2.20, 1.80, 1.20] \n",
    "rodando = True \n",
    "\n",
    "while rodando: \n",
    "    opção = 1 \n",
    "    for escolha in itens: \n",
    "        print(str(opção) + \". \" + escolha) \n",
    "        opção = opção + 1 \n",
    "    print(str(opção) + \". Finalizar\") \n",
    "    escolha = int(input(\"Escolha uma opção: \")) \n",
    "    if escolha == opção:\n",
    "        #escolheu a última opção Finalizar\n",
    "        rodando = False \n",
    "    else: \n",
    "        cartão = input(\"Número do cartão de crédito: \")\n",
    "        preço = desconto(preços[escolha - 1])\n",
    "        salva_transação(preço, cartão, itens[escolha - 1])\n",
    "        \n",
    "        "
   ]
  },
  {
   "cell_type": "code",
   "execution_count": null,
   "metadata": {},
   "outputs": [],
   "source": [
    "from banco import *\n",
    "import fatec\n",
    "import japa\n",
    "\n",
    "itens   = [\"Esfiha\", \"Coxinha\", \"Pastel\", \"Pão de Queijo\"] \n",
    "preços  = [1.50, 2.20, 1.80, 1.20] \n",
    "rodando = True \n",
    "\n",
    "while rodando: \n",
    "    opção = 1 \n",
    "    for escolha in itens: \n",
    "        print(str(opção) + \". \" + escolha) \n",
    "        opção = opção + 1 \n",
    "    print(str(opção) + \". Finalizar\") \n",
    "    escolha = int(input(\"Escolha uma opção: \")) \n",
    "    if escolha == opção:\n",
    "        #escolheu a última opção Finalizar\n",
    "        rodando = False \n",
    "    else: \n",
    "        cartão = input(\"Número do cartão de crédito: \")\n",
    "        preço = fatec.desconto(preços[escolha - 1])\n",
    "        if itens[escolha - 1] == 'Pastel':\n",
    "            preço = japa.desconto(preço)\n",
    "        salva_transação(preço, cartão, itens[escolha - 1])\n",
    "        \n",
    "print(escolha, preço)"
   ]
  },
  {
   "cell_type": "code",
   "execution_count": null,
   "metadata": {},
   "outputs": [],
   "source": []
  }
 ],
 "metadata": {
  "kernelspec": {
   "display_name": "Python 3",
   "language": "python",
   "name": "python3"
  },
  "language_info": {
   "codemirror_mode": {
    "name": "ipython",
    "version": 3
   },
   "file_extension": ".py",
   "mimetype": "text/x-python",
   "name": "python",
   "nbconvert_exporter": "python",
   "pygments_lexer": "ipython3",
   "version": "3.7.3"
  }
 },
 "nbformat": 4,
 "nbformat_minor": 2
}
