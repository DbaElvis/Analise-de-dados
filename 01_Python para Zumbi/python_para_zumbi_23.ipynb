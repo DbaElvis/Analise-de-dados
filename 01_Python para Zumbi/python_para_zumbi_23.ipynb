{
 "cells": [
  {
   "cell_type": "markdown",
   "metadata": {},
   "source": [
    "# aula 23 / 24"
   ]
  },
  {
   "cell_type": "code",
   "execution_count": null,
   "metadata": {},
   "outputs": [],
   "source": [
    "#primeiro programa\n",
    "num = int(input(\"Numero: \"))\n",
    "a, b = 1, 1\n",
    "k = 1\n",
    "\n",
    "while k <= num - 2:\n",
    "    a, b = a, a + b\n",
    "    k = k + 1   \n",
    "\n",
    "print(\"Fibonacci: {} - {}\".format(num, b))"
   ]
  },
  {
   "cell_type": "code",
   "execution_count": null,
   "metadata": {},
   "outputs": [],
   "source": [
    "#segundo programa\n",
    "a = int(input(\"Numero 1: \"))\n",
    "b = int(input(\"Numero 2: \"))\n",
    "\n",
    "while a % b != 0:    \n",
    "    a, b = a, a % b   \n",
    "print(\"M.D.C: {}\".format(b))"
   ]
  },
  {
   "cell_type": "markdown",
   "metadata": {},
   "source": [
    "# aula 25 / 26 / 27 / 28"
   ]
  },
  {
   "cell_type": "code",
   "execution_count": null,
   "metadata": {},
   "outputs": [],
   "source": [
    "#primeiro programa\n",
    "\n",
    "nomes = ['Couto', 'Silva', 'Ramos', 'Lima']\n",
    "\n",
    "notas = [9, 9, 9, 9, 9]\n",
    "\n",
    "soma = 0\n",
    "a = 0\n",
    "\n",
    "while a < 5:\n",
    "    \n",
    "    soma += notas[a]\n",
    "    a += 1\n",
    "    \n",
    "print(\"Media: {}\".format(soma/5))    "
   ]
  },
  {
   "cell_type": "code",
   "execution_count": null,
   "metadata": {},
   "outputs": [],
   "source": [
    "#segundo programa\n",
    "\n",
    "notas = [5, 6, 7, 8, 9]\n",
    "\n",
    "soma = 0\n",
    "a = 0\n",
    "\n",
    "while a < 5:\n",
    "    \n",
    "    x = notas[a]\n",
    "    a += 1\n",
    "    print(\"Elementos do vetor: {}\".format(x)) \n",
    "print(\"Vetor: {}\".format(notas)) "
   ]
  },
  {
   "cell_type": "code",
   "execution_count": null,
   "metadata": {},
   "outputs": [],
   "source": [
    "#terceiro programa\n",
    "\n",
    "notas = []\n",
    "\n",
    "soma = 0\n",
    "a = 0\n",
    "\n",
    "while a < 5:\n",
    "    b = int(input(\"Elementos: \"))\n",
    "    notas.append(b)\n",
    "    a += 1\n",
    "    print(\"Elementos do vetor: {}\".format(notas)) \n",
    "\n",
    "notas.sort()\n",
    "notas.reverse()\n",
    "print(\"Vetor: {}\".format(notas))"
   ]
  },
  {
   "cell_type": "code",
   "execution_count": null,
   "metadata": {},
   "outputs": [],
   "source": [
    "#quarto programa\n",
    "\n",
    "notas = []\n",
    "\n",
    "a = 1\n",
    "\n",
    "while a <=10:\n",
    "    b = int(input(\"Elementos: \"))\n",
    "    notas.append(b)\n",
    "    a += 1\n",
    "a = 9\n",
    "while a >= 9:\n",
    "    print(\"Elementos do vetor: {}\".format(a)) \n",
    "    a -= 1\n",
    "        "
   ]
  },
  {
   "cell_type": "markdown",
   "metadata": {},
   "source": [
    "# aula 29 / 30"
   ]
  },
  {
   "cell_type": "code",
   "execution_count": null,
   "metadata": {},
   "outputs": [],
   "source": [
    "notas = []\n",
    "soma = 0\n",
    "cont = 1\n",
    "while cont <= 4:\n",
    "    num = int(input(\"Coloque um numero: \"))\n",
    "    notas.append(num) \n",
    "    soma += num\n",
    "    cont = cont + 1\n",
    "print(\"Notas: {}\".format(notas))     \n",
    "print(\"Media: {}\".format(soma/4))"
   ]
  },
  {
   "cell_type": "code",
   "execution_count": null,
   "metadata": {},
   "outputs": [],
   "source": [
    "letras = []\n",
    "t = 1\n",
    "\n",
    "while t <= 10:\n",
    "    letras.append(input(\"letras: \"))\n",
    "    t += 1\n",
    "    \n",
    "t = 0\n",
    "cont = 0\n",
    "while t <= 9:\n",
    "    if letras[t] not in 'aeiou':\n",
    "        cont += 1\n",
    "    t += 1\n",
    "print(\"Consoantes lidas: {}\".format(cont)) "
   ]
  },
  {
   "cell_type": "markdown",
   "metadata": {},
   "source": [
    "# aula 32 / 33 / 34 / 35"
   ]
  },
  {
   "cell_type": "code",
   "execution_count": null,
   "metadata": {},
   "outputs": [],
   "source": [
    "palavra = input(\"Coloque uma palavra: \")\n",
    "\n",
    "if palavra == palavra[::-1]:\n",
    "    print(\"{} e palindromo\".format(palavra))\n",
    "else:\n",
    "    print(\"Nao e palindromo\")"
   ]
  },
  {
   "cell_type": "code",
   "execution_count": null,
   "metadata": {},
   "outputs": [],
   "source": [
    "texto = 'Alo mundo'\n",
    "\n",
    "texto1 = '###' + texto[1:-1]\n",
    "\n",
    "print (texto1)"
   ]
  },
  {
   "cell_type": "code",
   "execution_count": null,
   "metadata": {},
   "outputs": [],
   "source": [
    "texto = input(\"Coloque uma FRASE: \")\n",
    "\n",
    "k = 0\n",
    "troca = \"\"\n",
    "\n",
    "while k < len(texto):\n",
    "    if texto[k] in \"aeiouAEIOU\":\n",
    "        troca = troca + \"*\"\n",
    "    else:\n",
    "        troca = troca + texto[k]\n",
    "    k += 1\n",
    "print(\"Nova palavra {}\".format(troca))    \n",
    "    \n",
    "    \n",
    "    \n",
    "    "
   ]
  },
  {
   "cell_type": "code",
   "execution_count": null,
   "metadata": {},
   "outputs": [],
   "source": [
    "dia, mes, ano = input(\"Data nascimento: \").split('/')\n",
    "\n",
    "meses = ['jan','fev','mar','abr', 'mai', 'jun','jul','ago','set','out','nov','dez']\n",
    "\n",
    "print(\"Vc nasceu em: \")\n",
    "print(\"%s de %s de %s\" %(dia, meses[int(mes) -1], ano))\n",
    "print(\"{} de {} de {}\".format(dia, meses[int(mes)-1], ano))"
   ]
  },
  {
   "cell_type": "markdown",
   "metadata": {},
   "source": [
    "# aula 38 / 39 / 40 / 41 "
   ]
  },
  {
   "cell_type": "code",
   "execution_count": null,
   "metadata": {},
   "outputs": [],
   "source": [
    "def epar(x):\n",
    "    return x % 2 == 0\n",
    "\n",
    "epar(12)"
   ]
  },
  {
   "cell_type": "code",
   "execution_count": null,
   "metadata": {},
   "outputs": [],
   "source": [
    "def fat(x):\n",
    "    soma = 1\n",
    "    while x > 0:\n",
    "        soma *= x\n",
    "        x = x - 1\n",
    "    return soma    \n",
    "print(fat(5))        "
   ]
  },
  {
   "cell_type": "code",
   "execution_count": null,
   "metadata": {},
   "outputs": [],
   "source": [
    "xi = 5\n",
    "\n",
    "def imprime():\n",
    "    xi = 7\n",
    "    print('dentro da funcao {}'.format(xi))  \n",
    "print('antes de mudar {}'.format(xi))  \n",
    "imprime()\n",
    "print('depois de mudar {}'.format(xi))  "
   ]
  },
  {
   "cell_type": "code",
   "execution_count": null,
   "metadata": {},
   "outputs": [],
   "source": [
    "xi = 5\n",
    "\n",
    "def imprime():\n",
    "    global xi\n",
    "    xi = 7\n",
    "    print('dentro da funcao {}'.format(xi))  \n",
    "print('antes de mudar {}'.format(xi))  \n",
    "imprime()\n",
    "print('depois de mudar {}'.format(xi)) "
   ]
  },
  {
   "cell_type": "code",
   "execution_count": null,
   "metadata": {},
   "outputs": [],
   "source": [
    "import random\n",
    "lista = ['Catia', 'Luzia', 'Tania', 'Rosa', 'Pedro', 'Vania', 'Paulo', 'Ana', 'Maria']\n",
    "\n",
    "random.shuffle(lista)\n",
    "print(lista)"
   ]
  },
  {
   "cell_type": "code",
   "execution_count": null,
   "metadata": {},
   "outputs": [],
   "source": [
    "import random\n",
    "\n",
    "def embaralha(x):\n",
    "      lista = list(x)  \n",
    "      random.shuffle(lista)\n",
    "      return ''.join(lista)\n",
    "print(embaralha('embaralha'))"
   ]
  },
  {
   "cell_type": "markdown",
   "metadata": {},
   "source": [
    "# aula 42 / 43 / 44"
   ]
  },
  {
   "cell_type": "raw",
   "metadata": {},
   "source": [
    "import random\n",
    "\n",
    "lista = []\n",
    "\n",
    "n = 1\n",
    "\n",
    "while n <= 15:\n",
    "    a = random.randint(10, 100)\n",
    "    lista.append(a)\n",
    "    n += 1\n",
    "print(lista)"
   ]
  },
  {
   "cell_type": "code",
   "execution_count": null,
   "metadata": {},
   "outputs": [],
   "source": [
    "import random\n",
    "\n",
    "lista = []\n",
    "\n",
    "for k in range(15):\n",
    "        lista.append(random.randint(10, 100))\n",
    "        lista.sort()  \n",
    "print(lista)\n",
    "    "
   ]
  },
  {
   "cell_type": "code",
   "execution_count": null,
   "metadata": {},
   "outputs": [],
   "source": [
    "import random\n",
    "\n",
    "lista = []\n",
    "\n",
    "while len(lista) < 6:\n",
    "    k = random.randint(1, 60)\n",
    "    if k not in lista:\n",
    "        lista.append(k)\n",
    "        lista.sort()  \n",
    "print(lista)"
   ]
  },
  {
   "cell_type": "code",
   "execution_count": null,
   "metadata": {},
   "outputs": [],
   "source": [
    "x = 2\n",
    "y = 5\n",
    "\n",
    "if y > 8:\n",
    "    y = x * 2\n",
    "else:\n",
    "    x = x * 2\n",
    "    \n",
    "print(x + y)"
   ]
  },
  {
   "cell_type": "code",
   "execution_count": null,
   "metadata": {},
   "outputs": [],
   "source": [
    "for i in range(1, 9):\n",
    "    print(\"xxxxxxxxxxxxxxxxxxxxxxxxx\")\n",
    "    if i != 3:\n",
    "        for j in range(1, 6):\n",
    "            print(\"OI\")"
   ]
  },
  {
   "cell_type": "code",
   "execution_count": null,
   "metadata": {},
   "outputs": [],
   "source": [
    "cont = 0\n",
    "for x in range(1067, 3627):\n",
    "    if x % 2 == 0 and x % 7 == 0:\n",
    "        cont += 1\n",
    "print(cont)        "
   ]
  },
  {
   "cell_type": "markdown",
   "metadata": {},
   "source": [
    "# aula 45"
   ]
  },
  {
   "cell_type": "code",
   "execution_count": null,
   "metadata": {},
   "outputs": [],
   "source": [
    "def esconde(msg):\n",
    "    s = ''\n",
    "    for c in msg: s += chr(ord(c) + 30000)\n",
    "    return s\n",
    "\n",
    "def mostra(msg):\n",
    "    s = ''\n",
    "    for c in msg: s += chr(ord(c) - 30000)\n",
    "    return s\n",
    "\n",
    "esconde('Feliz todos os dias')"
   ]
  },
  {
   "cell_type": "markdown",
   "metadata": {},
   "source": [
    "# aula 46 / 47 / 48 / 49 - ARQUIVOS "
   ]
  },
  {
   "cell_type": "code",
   "execution_count": null,
   "metadata": {},
   "outputs": [],
   "source": [
    "arquivo = open('numeros.txt', 'w')\n",
    "\n",
    "for linha in range(1, 101):\n",
    "    arquivo.write('%d\\n' % linha)\n",
    "arquivo.close()"
   ]
  },
  {
   "cell_type": "code",
   "execution_count": null,
   "metadata": {},
   "outputs": [],
   "source": [
    "arquivo = open('numeros.txt', 'r')\n",
    "\n",
    "for linha in arquivo.readlines():\n",
    "    print(linha.rstrip())\n",
    "arquivo.close()"
   ]
  },
  {
   "cell_type": "code",
   "execution_count": null,
   "metadata": {},
   "outputs": [],
   "source": [
    "with open('numeros.txt', 'r') as f:\n",
    "    print(f.read())"
   ]
  },
  {
   "cell_type": "code",
   "execution_count": 47,
   "metadata": {},
   "outputs": [],
   "source": [
    "texto = open('mensagem.txt')\n",
    "saida = open('cripto.txt', 'w')\n",
    "\n",
    "for linha in texto.readlines():\n",
    "    for letra in linha:\n",
    "        if letra in 'aeiou':\n",
    "            saida.write('*')\n",
    "        else: \n",
    "            saida.write(letra)\n",
    "texto.close()\n",
    "saida.close()"
   ]
  },
  {
   "cell_type": "code",
   "execution_count": 48,
   "metadata": {},
   "outputs": [
    {
     "name": "stdout",
     "output_type": "stream",
     "text": [
      "t*d* c*rt* m**s *m* s*m*n* *b*nc**d* p*l* S*nh*r\n"
     ]
    }
   ],
   "source": [
    "with open('cripto.txt', 'r') as f:\n",
    "    print(f.read())"
   ]
  },
  {
   "cell_type": "markdown",
   "metadata": {},
   "source": [
    "# aula 50 "
   ]
  },
  {
   "cell_type": "code",
   "execution_count": 49,
   "metadata": {},
   "outputs": [],
   "source": [
    "def ip_ok(ip):\n",
    "    ip = ip.split('.')\n",
    "    for byte in ip:\n",
    "        if int(byte) > 255:\n",
    "            return False\n",
    "    return True\n",
    "arq = open('IPS.txt')\n",
    "validos = open('validos.txt', 'w')\n",
    "invalidos = open('invalidos.txt', 'w')\n",
    "for linha in arq.readlines():\n",
    "    if ip_ok(linha):\n",
    "        validos.write(linha)\n",
    "    else:\n",
    "        invalidos.write(linha)\n",
    "\n",
    "arq.close()\n",
    "validos.close()\n",
    "invalidos.close()"
   ]
  },
  {
   "cell_type": "code",
   "execution_count": 50,
   "metadata": {},
   "outputs": [
    {
     "name": "stdout",
     "output_type": "stream",
     "text": [
      "123.234.45.78\n",
      "245.213.65.90\n",
      "\n"
     ]
    }
   ],
   "source": [
    "with open('validos.txt', 'r') as f:\n",
    "    print(f.read())"
   ]
  },
  {
   "cell_type": "code",
   "execution_count": 51,
   "metadata": {},
   "outputs": [
    {
     "name": "stdout",
     "output_type": "stream",
     "text": [
      "267.56.21.78\n",
      "56.56.67.456\n"
     ]
    }
   ],
   "source": [
    "with open('invalidos.txt', 'r') as f:\n",
    "    print(f.read())"
   ]
  },
  {
   "cell_type": "code",
   "execution_count": null,
   "metadata": {},
   "outputs": [],
   "source": []
  }
 ],
 "metadata": {
  "kernelspec": {
   "display_name": "Python 3",
   "language": "python",
   "name": "python3"
  },
  "language_info": {
   "codemirror_mode": {
    "name": "ipython",
    "version": 3
   },
   "file_extension": ".py",
   "mimetype": "text/x-python",
   "name": "python",
   "nbconvert_exporter": "python",
   "pygments_lexer": "ipython3",
   "version": "3.7.3"
  }
 },
 "nbformat": 4,
 "nbformat_minor": 2
}
