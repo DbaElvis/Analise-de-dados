{
 "cells": [
  {
   "cell_type": "markdown",
   "metadata": {},
   "source": [
    "# AULA 069"
   ]
  },
  {
   "cell_type": "code",
   "execution_count": null,
   "metadata": {},
   "outputs": [],
   "source": [
    "import random\n",
    "\n",
    "nomes = 'Ana Bela Livia Luciana sabrina Sandra Lucia Luana Vanda Julia Felicia'.split()\n",
    "nomes.sort()\n",
    "print(''.join(nomes))\n",
    "\n",
    "sorteado = random.choice(nomes)\n",
    "chute = ''\n",
    "while chute != sorteado:\n",
    "    chute = input(\"Chute: \")\n",
    "    \n",
    "    if chute == sorteado:\n",
    "        print(\"Parabens\")\n",
    "    elif chute > sorteado:\n",
    "        print(\"Muito alto\")\n",
    "    else:\n",
    "        print(\"Muito baixo\")    "
   ]
  },
  {
   "cell_type": "markdown",
   "metadata": {},
   "source": [
    "# AULA 070"
   ]
  },
  {
   "cell_type": "code",
   "execution_count": null,
   "metadata": {},
   "outputs": [],
   "source": [
    "from random import randint\n",
    "\n",
    "secreta = randint(1, 100)\n",
    "\n",
    "while True:\n",
    "    chute = int(input('chute um numero: '))\n",
    "    if chute == secreta:\n",
    "        print('venceu')\n",
    "        break\n",
    "    else:\n",
    "        print(\"Alto\" if chute > secreta else \"Baixo\")\n",
    "        print(secreta)\n",
    "        \n",
    "print(\"Fim de Jogo\") \n"
   ]
  },
  {
   "cell_type": "code",
   "execution_count": null,
   "metadata": {},
   "outputs": [],
   "source": [
    "from random import randint\n",
    "\n",
    "while True:\n",
    "    chute = int(input('chute um numero: '))\n",
    "    repeticoes = randint(1, 10)\n",
    "    if chute == repeticoes:\n",
    "        print('venceu')\n",
    "        break\n",
    "    else:\n",
    "        print(\"Alto\" if chute > repeticoes else \"Baixo\")\n",
    "        print(repeticoes)\n",
    "print(\"Fim de Jogo\")        "
   ]
  },
  {
   "cell_type": "markdown",
   "metadata": {},
   "source": [
    "# AULA 071"
   ]
  },
  {
   "cell_type": "code",
   "execution_count": null,
   "metadata": {},
   "outputs": [],
   "source": [
    "def dormir(dia_semana, feriado):\n",
    "    if not dia_semana:\n",
    "        return True\n",
    "    if dia_semana and not feriado:\n",
    "        return False\n",
    "    return\n",
    "\n",
    "def aluno_problema(a_sorrir, b_sorrir):\n",
    "    if not dia_semana:\n",
    "        return True\n",
    "    if dia_semana and not feriado:\n",
    "        return False\n",
    "    return\n",
    "\n",
    "def teste(obtido, esperado):\n",
    "    if obtido == esperado:\n",
    "        prefixo = \"Parabens\"    \n",
    "    else:\n",
    "        prefixo = \"Ainda Nao\" \n",
    "    print('%s obtido: %s esperado: %s'%(prefixo, obtido, esperado))\n",
    "    \n",
    "def main():\n",
    "\n",
    "    print ('Oba! Hoje vou ficar dormindo!')\n",
    "    test(dormir(False, False), True)\n",
    "    test(dormir(True, False), False)\n",
    "    test(dormir(False, True), True)\n",
    "    test(dormir(True, True), True)\n",
    "\n",
    "    print ()\n",
    "    print ('Alunos problema')\n",
    "    test(alunos_problema(True, True), True)\n",
    "    test(alunos_problema(False, False), True)\n",
    "    test(alunos_problema(True, False), False)\n",
    "    test(alunos_problema(False, True), False)\n",
    "    \n",
    "main()    "
   ]
  },
  {
   "cell_type": "code",
   "execution_count": null,
   "metadata": {},
   "outputs": [],
   "source": [
    "#!/usr/bin/python -tt\n",
    "# Exercícios by Nick Parlante (CodingBat)\n",
    "\n",
    "\n",
    "# C. soma_dobro\n",
    "# dados dois números inteiros retorna sua soma\n",
    "# porém se os números forem iguais retorna o dobro da soma\n",
    "# soma_dobro(1, 2) -> 3\n",
    "# soma_dobro(2, 2) -> 8\n",
    "def soma_dobro(a, b):\n",
    "  return 2*(a + b) if a == b else a + b\n",
    "\n",
    "# D. diff21\n",
    "# dado um inteiro n retorna a diferença absoluta entre n e 21\n",
    "# porém se o número for maior que 21 retorna dobro da diferença absoluta\n",
    "# diff21(19) -> 2\n",
    "# diff21(25) -> 8\n",
    "# dica: abs(x) retorna o valor absoluto de x\n",
    "def diff21(n):\n",
    "  return 2*abs(n - 21) if n > 21 else abs(n - 21)\n",
    "\n",
    "# E. papagaio\n",
    "# temos um papagaio que fala alto\n",
    "# hora é um parâmetro entre 0 e 23\n",
    "# temos problemas se o papagaio estiver falando\n",
    "# antes da 7 ou depois das 20\n",
    "def papagaio(falando, hora):\n",
    "  return falando and (hora < 7 or hora > 20)\n",
    "\n",
    "# F. dez\n",
    "# dados dois inteiros a e b\n",
    "# retorna True se um dos dois é 10 ou a soma é 10\n",
    "def dez(a, b):\n",
    "  return a == 10 or b == 10 or a + b == 10\n",
    "\n",
    "# G. dista10\n",
    "# seja um inteiro n\n",
    "# retorna True se a diferença absoluta entre n e 100 ou n e 200\n",
    "# for menor ou igual a 10\n",
    "# dista10(93) -> True\n",
    "# dista10(90) -> True\n",
    "# dista10(89) -> False\n",
    "def dista10(n):\n",
    "  return abs(n - 100) <= 10 or abs(n - 200) <= 10\n",
    "\n",
    "# H. apaga\n",
    "# seja uma string s e um inteiro n\n",
    "# retorna uma nova string sem a posição n\n",
    "# apaga('kitten', 1) -> 'ktten'\n",
    "# apaga('kitten', 4) -> 'kittn'\n",
    "def apaga(s, n):\n",
    "  return s[:n] + s[n+1:]\n",
    "\n",
    "# I. troca\n",
    "# seja uma string s\n",
    "# se s tiver tamanho <= 1 retorna ela mesma\n",
    "# caso contrário troca a primeira e última letra\n",
    "# troca('code') -> 'eodc'\n",
    "# troca('a') -> 'a'\n",
    "# troca('ab') -> 'ba'\n",
    "def troca(s):\n",
    "  return s if len(s) <= 1 else s[-1] + s[1:-1] + s[0]\n",
    "\n",
    "# Provided simple test() function used in main() to print\n",
    "# what each function returns vs. what it's supposed to return.\n",
    "def test(obtido, esperado):\n",
    "  if obtido == esperado:\n",
    "    prefixo = ' Parabéns!'\n",
    "  else:\n",
    "    prefixo = ' Ainda não'\n",
    "  print ('%s obtido: %s esperado: %s'\n",
    "         % (prefixo, repr(obtido), repr(esperado)))\n",
    "\n",
    "def main():\n",
    " \n",
    "  print ()\n",
    "  print ('Soma dobro')\n",
    "  test(soma_dobro(1, 2), 3)\n",
    "  test(soma_dobro(3, 2), 5)\n",
    "  test(soma_dobro(2, 2), 8)\n",
    "  test(soma_dobro(-1, 0), -1)\n",
    "  test(soma_dobro(0, 0), 0)\n",
    "  test(soma_dobro(0, 1), 1)\n",
    "\n",
    "  print ()\n",
    "  print ('Diff21')\n",
    "  test(diff21(19), 2)\n",
    "  test(diff21(10), 11)\n",
    "  test(diff21(21), 0)\n",
    "  test(diff21(22), 2)\n",
    "  test(diff21(25), 8)\n",
    "  test(diff21(30), 18)\n",
    "\n",
    "  print ()\n",
    "  print ('Papagaio')\n",
    "  test(papagaio(True, 6), True)\n",
    "  test(papagaio(True, 7), False)\n",
    "  test(papagaio(False, 6), False)\n",
    "  test(papagaio(True, 21), True)\n",
    "  test(papagaio(False, 21), False)\n",
    "  test(papagaio(True, 23), True)\n",
    "  test(papagaio(True, 20), False)\n",
    "\n",
    "  print ()\n",
    "  print ('Dez')\n",
    "  test(dez(9, 10), True)\n",
    "  test(dez(9, 9), False)\n",
    "  test(dez(1, 9), True)\n",
    "  test(dez(10, 1), True)\n",
    "  test(dez(10, 10), True)\n",
    "  test(dez(8, 2), True)\n",
    "  test(dez(8, 3), False)\n",
    "  test(dez(10, 42), True)\n",
    "  test(dez(12, -2), True)\n",
    "\n",
    "  print ()\n",
    "  print ('Dista 10')\n",
    "  test(dista10(93), True)\n",
    "  test(dista10(90), True)\n",
    "  test(dista10(89), False)\n",
    "  test(dista10(110), True)\n",
    "  test(dista10(111), False)\n",
    "  test(dista10(121), False)\n",
    "  test(dista10(0), False)\n",
    "  test(dista10(5), False)\n",
    "  test(dista10(191), True)\n",
    "  test(dista10(189), False)\n",
    "  test(dista10(190), True)\n",
    "  test(dista10(200), True)\n",
    "  test(dista10(210), True)\n",
    "  test(dista10(211), False)\n",
    "  test(dista10(290), False)\n",
    "\n",
    "  print ()\n",
    "  print ('Apaga')\n",
    "  test(apaga('kitten', 1), 'ktten')\n",
    "  test(apaga('kitten', 0), 'itten') \n",
    "  test(apaga('kitten', 4), 'kittn')\n",
    "  test(apaga('Hi', 0), 'i')\n",
    "  test(apaga('Hi', 1), 'H')\n",
    "  test(apaga('code', 0), 'ode')\n",
    "  test(apaga('code', 1), 'cde')\n",
    "  test(apaga('code', 2), 'coe')\n",
    "  test(apaga('code', 3), 'cod')\n",
    "  test(apaga('chocolate', 8), 'chocolat')\n",
    "\n",
    "  print ()\n",
    "  print ('Troca letras')\n",
    "  test(troca('code'), 'eodc')\t    \n",
    "  test(troca('a'), 'a')\n",
    "  test(troca('ab'), 'ba')\n",
    "  test(troca('abc'), 'cba')\n",
    "  test(troca(''), '')\n",
    "  test(troca('Chocolate'), 'ehocolatC')\n",
    "  test(troca('nythoP'), 'Python')\n",
    "  test(troca('hello'), 'oellh')\n",
    "  \n",
    "if __name__ == '__main__':\n",
    "  main()\n"
   ]
  },
  {
   "cell_type": "markdown",
   "metadata": {},
   "source": [
    "# AULA 072"
   ]
  },
  {
   "cell_type": "code",
   "execution_count": null,
   "metadata": {},
   "outputs": [],
   "source": [
    "import urllib.request\n",
    "\n",
    "pagina = urllib.request.urlopen(\n",
    "    'http://beans.itcarlow.ie/prices.html')\n",
    "\n",
    "texto = pagina.read().decode('utf8')\n",
    "print(texto)"
   ]
  },
  {
   "cell_type": "markdown",
   "metadata": {},
   "source": [
    "# AULA 073"
   ]
  },
  {
   "cell_type": "code",
   "execution_count": null,
   "metadata": {},
   "outputs": [],
   "source": [
    "import urllib.request\n",
    "\n",
    "pagina = urllib.request.urlopen('http://beans.itcarlow.ie/prices.html') \n",
    "\n",
    "texto = pagina.read().decode('utf8') \n",
    "\n",
    "preço = texto[234:238]\n",
    "\n",
    "print (preço)"
   ]
  },
  {
   "cell_type": "markdown",
   "metadata": {},
   "source": [
    "# AULA 074"
   ]
  },
  {
   "cell_type": "code",
   "execution_count": null,
   "metadata": {},
   "outputs": [],
   "source": [
    "import urllib.request\n",
    "\n",
    "pagina = urllib.request.urlopen('http://beans.itcarlow.ie/prices-loyalty.html') \n",
    "\n",
    "texto = pagina.read().decode('utf8') \n",
    "\n",
    "preço = texto[234:238]\n",
    "\n",
    "print (preço)"
   ]
  },
  {
   "cell_type": "markdown",
   "metadata": {},
   "source": [
    "# AULA 075"
   ]
  },
  {
   "cell_type": "code",
   "execution_count": null,
   "metadata": {},
   "outputs": [],
   "source": [
    "import urllib.request\n",
    "\n",
    "pagina = urllib.request.urlopen(\n",
    "    'http://beans.itcarlow.ie/prices-loyalty.html') \n",
    "\n",
    "texto = pagina.read().decode('utf8') \n",
    "\n",
    "onde = texto.find('>$')\n",
    "\n",
    "inicio = onde + 2\n",
    "fim = inicio + 4\n",
    "\n",
    "preço = texto[inicio:fim]\n",
    "\n",
    "print (preço)"
   ]
  },
  {
   "cell_type": "markdown",
   "metadata": {},
   "source": [
    "# AULA 076"
   ]
  },
  {
   "cell_type": "code",
   "execution_count": null,
   "metadata": {},
   "outputs": [],
   "source": [
    "import urllib.request\n",
    "\n",
    "pagina = urllib.request.urlopen(\n",
    "    'http://beans.itcarlow.ie/prices-loyalty.html') \n",
    "\n",
    "texto = pagina.read().decode('utf8') \n",
    "\n",
    "onde = texto.find('>$')\n",
    "\n",
    "inicio = onde + 2\n",
    "fim = inicio + 4\n",
    "\n",
    "preço = float(texto[inicio:fim])\n",
    "\n",
    "if preço < 4.74:\n",
    "    print (preço)"
   ]
  },
  {
   "cell_type": "markdown",
   "metadata": {},
   "source": [
    "# AULA 077 e 078"
   ]
  },
  {
   "cell_type": "code",
   "execution_count": null,
   "metadata": {},
   "outputs": [],
   "source": [
    "import urllib.request\n",
    "pagina = urllib.request.urlopen('http://beans.itcarlow.ie/prices-loyalty.html') \n",
    "texto = pagina.read().decode('utf8') \n",
    "onde = texto.find('>$')\n",
    "inicio = onde + 2\n",
    "fim = inicio + 4\n",
    "preço = float(texto[inicio:fim])\n",
    "if preço < 4.74:\n",
    "    print ('Comprar! Preço: %5.2f' %preço)"
   ]
  },
  {
   "cell_type": "markdown",
   "metadata": {},
   "source": [
    "# AULA 079"
   ]
  },
  {
   "cell_type": "code",
   "execution_count": null,
   "metadata": {},
   "outputs": [],
   "source": [
    "import urllib.request\n",
    "import time\n",
    "preço = 99.99\n",
    "while preço >= 4.74:\n",
    "    pagina = urllib.request.urlopen('http://beans.itcarlow.ie/prices-loyalty.html') \n",
    "    texto = pagina.read().decode('utf8') \n",
    "    onde = texto.find('>$')\n",
    "    inicio = onde + 2\n",
    "    fim = inicio + 4\n",
    "    preço = float(texto[inicio:fim])\n",
    "    if preço >= 4.74:\n",
    "        time.sleep(5) \n",
    "print ('Comprar! Preço: %5.2f' %preço)"
   ]
  },
  {
   "cell_type": "markdown",
   "metadata": {},
   "source": [
    "# AULA 080, 081"
   ]
  },
  {
   "cell_type": "code",
   "execution_count": 7,
   "metadata": {},
   "outputs": [
    {
     "name": "stdout",
     "output_type": "stream",
     "text": [
      "Deseja comprar já? (S/N)S\n",
      "Comprar! Preço:  4.27\n"
     ]
    }
   ],
   "source": [
    "import urllib.request\n",
    "import time\n",
    "opção = input('Deseja comprar já? (S/N)')\n",
    "if opção == 'S':\n",
    "    pagina = urllib.request.urlopen(\n",
    "    'http://beans.itcarlow.ie/prices-loyalty.html') \n",
    "    texto = pagina.read().decode('utf8') \n",
    "    onde = texto.find('>$')\n",
    "    inicio = onde + 2\n",
    "    fim = inicio + 4\n",
    "    preço = float(texto[inicio:fim])\n",
    "    print ('Comprar! Preço: %5.2f' %preço)\n",
    "else:\n",
    "    preço = 99.99\n",
    "    while preço >= 4.74:\n",
    "        pagina = urllib.request.urlopen(\n",
    "        'http://beans.itcarlow.ie/prices-loyalty.html') \n",
    "        texto = pagina.read().decode('utf8') \n",
    "        onde = texto.find('>$')\n",
    "        inicio = onde + 2\n",
    "        fim = inicio + 4\n",
    "        preço = float(texto[inicio:fim])\n",
    "        if preço >= 4.74:\n",
    "            time.sleep(600) \n",
    "    print ('Comprar! Preço: %5.2f' %preço)"
   ]
  },
  {
   "cell_type": "code",
   "execution_count": null,
   "metadata": {},
   "outputs": [],
   "source": [
    "import urllib.request\n",
    "import time\n",
    "def pega_preço():\n",
    "    pagina = urllib.request.urlopen(\n",
    "    'http://beans.itcarlow.ie/prices-loyalty.html') \n",
    "    texto = pagina.read().decode('utf8') \n",
    "    onde = texto.find('>$')\n",
    "    inicio = onde + 2\n",
    "    fim = inicio + 4\n",
    "    return float(texto[inicio:fim])\n",
    "\n",
    "opção = input('Deseja comprar já? (S/N)')\n",
    "if opção == 'S':\n",
    "    preço = pega_preço()\n",
    "    print ('Comprar! Preço: %5.2f' %preço)\n",
    "else:\n",
    "    preço = 99.99\n",
    "    while preço >= 4.74:\n",
    "        preço = pega_preço()\n",
    "        if preço >= 4.74:\n",
    "            time.sleep(600) \n",
    "    print ('Comprar! Preço: %5.2f' %preço)"
   ]
  },
  {
   "cell_type": "markdown",
   "metadata": {},
   "source": [
    "# AULA 082 e 083"
   ]
  },
  {
   "cell_type": "code",
   "execution_count": 1,
   "metadata": {},
   "outputs": [
    {
     "name": "stdout",
     "output_type": "stream",
     "text": [
      "Chuck Norris burst the dot com bubble.\n"
     ]
    }
   ],
   "source": [
    "import urllib.request\n",
    "import json\n",
    "\n",
    "url = 'http://api.icndb.com/jokes/random?limitTo=[nerdy]'\n",
    "\n",
    "resp = urllib.request.urlopen(url).read()\n",
    "data = json.loads(resp.decode('utf-8'))\n",
    "\n",
    "print (data['value']['joke'])"
   ]
  },
  {
   "cell_type": "code",
   "execution_count": null,
   "metadata": {},
   "outputs": [],
   "source": []
  }
 ],
 "metadata": {
  "kernelspec": {
   "display_name": "Python 3",
   "language": "python",
   "name": "python3"
  },
  "language_info": {
   "codemirror_mode": {
    "name": "ipython",
    "version": 3
   },
   "file_extension": ".py",
   "mimetype": "text/x-python",
   "name": "python",
   "nbconvert_exporter": "python",
   "pygments_lexer": "ipython3",
   "version": "3.7.3"
  }
 },
 "nbformat": 4,
 "nbformat_minor": 2
}
