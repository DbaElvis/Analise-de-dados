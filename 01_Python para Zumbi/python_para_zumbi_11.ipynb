{
 "cells": [
  {
   "cell_type": "markdown",
   "metadata": {},
   "source": [
    "# aula 11"
   ]
  },
  {
   "cell_type": "code",
   "execution_count": null,
   "metadata": {},
   "outputs": [],
   "source": [
    "vel = int(input(\"Digite a velocidade: \"))\n",
    "\n",
    "if vel > 110:\n",
    "    print(\"voce foi multado\")\n",
    "    multa = (vel - 110) * 5\n",
    "else:    \n",
    "    print(\"voce NAO foi multado\")\n",
    "\n",
    "print(\"Valor da tua multa R$ %6.2f\" %(multa))    "
   ]
  },
  {
   "cell_type": "markdown",
   "metadata": {},
   "source": [
    "# aula 12"
   ]
  },
  {
   "cell_type": "code",
   "execution_count": null,
   "metadata": {},
   "outputs": [],
   "source": [
    "qtd = int(input(\"Qtd de minutos: \"))\n",
    "\n",
    "if qtd < 200:\n",
    "    valor = qtd * 0.20\n",
    "    print(\"Valor da tua CONTA R$ %5.2f\" %(valor)) \n",
    "elif qtd > 200 and qtd <= 400:\n",
    "    valor = qtd * 0.18\n",
    "    print(\"Valor da tua CONTA R$ %5.2f\" %(valor)) \n",
    "elif qtd > 400 and qtd <= 600:\n",
    "    valor = qtd * 0.15\n",
    "    print(\"Valor da tua CONTA R$ %5.2f\" %(valor))  \n",
    "elif qtd > 600 and qtd <= 800:\n",
    "    valor = qtd * 0.12\n",
    "    print(\"Valor da tua CONTA R$ %5.2f\" %(valor))    \n",
    "else:\n",
    "    valor = qtd * 0.08\n",
    "    print(\"Valor da tua CONTA R$ %5.2f\" %(valor))"
   ]
  },
  {
   "cell_type": "markdown",
   "metadata": {},
   "source": [
    "# aula 13"
   ]
  },
  {
   "cell_type": "code",
   "execution_count": null,
   "metadata": {},
   "outputs": [],
   "source": [
    "num1 = int(input(\"Primeiro: \"))\n",
    "num2 = int(input(\"Segundo: \"))\n",
    "num3 = int(input(\"Terceiro: \"))\n",
    "\n",
    "if num1 >= num2 and num1 >= num3:\n",
    "    print(\"O maior\", num1)  \n",
    "elif num2 >= num1 and num2 >= num3:\n",
    "    print(\"O maior\", num2)\n",
    "else:\n",
    "    print(\"O maior\", num3)    "
   ]
  },
  {
   "cell_type": "code",
   "execution_count": null,
   "metadata": {},
   "outputs": [],
   "source": [
    "num1 = int(input(\"Primeiro: \"))\n",
    "num2 = int(input(\"Segundo: \"))\n",
    "num3 = int(input(\"Terceiro: \"))\n",
    "\n",
    "if num1 >= num2 and num1 >= num3:\n",
    "    print(\"O maior\", num1)  \n",
    "elif num2 >= num3:\n",
    "    print(\"O maior\", num2)\n",
    "else:\n",
    "    print(\"O maior\", num3) "
   ]
  },
  {
   "cell_type": "markdown",
   "metadata": {},
   "source": [
    "# aula 14"
   ]
  },
  {
   "cell_type": "code",
   "execution_count": null,
   "metadata": {},
   "outputs": [],
   "source": [
    "qtd = int(input(\"Qtd de minutos: \"))\n",
    "\n",
    "if qtd < 200:\n",
    "    print(\"Valor da tua CONTA R$ %5.2f\" %(qtd * 0.20)) \n",
    "    \n",
    "elif qtd > 200 and qtd <= 400:\n",
    "    print(\"Valor da tua CONTA R$ %5.2f\" %(qtd * 0.18)) \n",
    "    \n",
    "elif qtd > 400 and qtd <= 600:\n",
    "    print(\"Valor da tua CONTA R$ %5.2f\" %(qtd * 0.15)) \n",
    "    \n",
    "elif qtd > 600 and qtd <= 800:\n",
    "    print(\"Valor da tua CONTA R$ %5.2f\" %(qtd * 0.12)) \n",
    "    \n",
    "else:\n",
    "    print(\"Valor da tua CONTA R$ %5.2f\" %(qtd * 0.08))"
   ]
  },
  {
   "cell_type": "code",
   "execution_count": null,
   "metadata": {},
   "outputs": [],
   "source": [
    "qtd = int(input(\"Qtd de minutos: \"))\n",
    "\n",
    "if qtd < 200:\n",
    "    preco = 0.20\n",
    "    \n",
    "elif qtd <= 400:\n",
    "    preco = 0.18\n",
    "    \n",
    "elif qtd <= 600:\n",
    "    preco = 0.15\n",
    "    \n",
    "elif qtd <= 800:\n",
    "    preco = 0.12\n",
    "    \n",
    "else:\n",
    "    preco = 0.08\n",
    "    \n",
    "print(\"Valor da tua CONTA R$ %5.2f\" %(qtd * preco))    \n",
    "print(preco) "
   ]
  },
  {
   "cell_type": "markdown",
   "metadata": {},
   "source": [
    "# aula 15"
   ]
  },
  {
   "cell_type": "code",
   "execution_count": null,
   "metadata": {},
   "outputs": [],
   "source": [
    "area = int(input(\"Area para pintura: \"))\n",
    "\n",
    "if area % 54 != 0:\n",
    "    latas = (area // 54) + 1\n",
    "else:\n",
    "    latas = area / 54\n",
    "\n",
    "custo = latas * 80    \n",
    "\n",
    "print(\"Quantidade de lata: {} ao custo R$ {}\".format(latas, custo))"
   ]
  },
  {
   "cell_type": "code",
   "execution_count": null,
   "metadata": {},
   "outputs": [],
   "source": []
  },
  {
   "cell_type": "markdown",
   "metadata": {},
   "source": [
    "# aula 16 / 17 / 18 / 19"
   ]
  },
  {
   "cell_type": "code",
   "execution_count": null,
   "metadata": {},
   "outputs": [],
   "source": [
    "#primeiro programa\n",
    "\n",
    "x = 0\n",
    "\n",
    "while x <= 3:\n",
    "    print(\"Valores de X: {}\".format(x))\n",
    "    x += 1"
   ]
  },
  {
   "cell_type": "code",
   "execution_count": null,
   "metadata": {},
   "outputs": [],
   "source": [
    "#segundo programa\n",
    "num = int(input(\"Digite UM Numero: \"))\n",
    "x = 1\n",
    "\n",
    "while x <= num:\n",
    "    print(\"Valores de X: {}\".format(x))\n",
    "    x += 1"
   ]
  },
  {
   "cell_type": "code",
   "execution_count": null,
   "metadata": {},
   "outputs": [],
   "source": [
    "#terceiro programa\n",
    "num = int(input(\"Digite UM Numero: \"))\n",
    "x = 0\n",
    "\n",
    "while x <= num:\n",
    "    if x % 2 == 0:\n",
    "        print(\"Valores de X: {}\".format(x))\n",
    "    x += 1"
   ]
  },
  {
   "cell_type": "code",
   "execution_count": null,
   "metadata": {},
   "outputs": [],
   "source": [
    "#quarto programa\n",
    "num = int(input(\"Digite UM Numero: \"))\n",
    "x = 0\n",
    "\n",
    "while x <= num:\n",
    "    print(\"Valores de X: {}\".format(x))\n",
    "    x += 2"
   ]
  },
  {
   "cell_type": "code",
   "execution_count": null,
   "metadata": {},
   "outputs": [],
   "source": [
    "#quinto programa\n",
    "num = int(input(\"Digite UM Numero: \"))\n",
    "x = 1\n",
    "\n",
    "while x <= num:\n",
    "    print(\"Valores de X: {}\".format(x))\n",
    "    x += 2"
   ]
  },
  {
   "cell_type": "code",
   "execution_count": null,
   "metadata": {},
   "outputs": [],
   "source": [
    "#sexto programa\n",
    "num = int(input(\"Digite UM Numero: \"))\n",
    "x = 1\n",
    "\n",
    "while x <= num:\n",
    "    if x % 3 == 0:\n",
    "        print(\"Valores de X: {}\".format(x))\n",
    "    x += 1"
   ]
  },
  {
   "cell_type": "code",
   "execution_count": null,
   "metadata": {},
   "outputs": [],
   "source": [
    "#setimo programa\n",
    "\n",
    "n = 1\n",
    "soma = 0\n",
    "\n",
    "while n <= 4:\n",
    "    num = int(input(\"Digite UM Numero: {} - \".format(n)))\n",
    "    soma += num\n",
    "    n = n + 1\n",
    "\n",
    "print(\"Soma: {}\".format(soma))\n",
    "    "
   ]
  },
  {
   "cell_type": "markdown",
   "metadata": {},
   "source": [
    "# aula 20 / 21 / 22"
   ]
  },
  {
   "cell_type": "code",
   "execution_count": null,
   "metadata": {},
   "outputs": [],
   "source": [
    "#primeiro programa\n",
    "x = int(input(\"Digite as entradas: \"))\n",
    "n = 1\n",
    "soma = 0\n",
    "\n",
    "while n <= x:\n",
    "    num = int(input(\"Digite UM Numero: {} - \".format(n)))\n",
    "    soma += num\n",
    "    n = n + 1\n",
    "\n",
    "print(\"Média : {}\".format(soma / x))"
   ]
  },
  {
   "cell_type": "code",
   "execution_count": 3,
   "metadata": {},
   "outputs": [
    {
     "name": "stdout",
     "output_type": "stream",
     "text": [
      "Soma: 120\n"
     ]
    }
   ],
   "source": [
    "#segundo programa\n",
    "\n",
    "k = 1\n",
    "fat = 1\n",
    "\n",
    "while k <= 5:\n",
    "    fat *= k\n",
    "    k += 1\n",
    "\n",
    "print(\"Soma: {}\".format(fat))"
   ]
  },
  {
   "cell_type": "code",
   "execution_count": 5,
   "metadata": {},
   "outputs": [
    {
     "name": "stdout",
     "output_type": "stream",
     "text": [
      "Digite as entradas: 6\n",
      "Numero: 6 Soma: 720\n"
     ]
    }
   ],
   "source": [
    "#terceiro programa\n",
    "x = int(input(\"Digite as entradas: \"))\n",
    "k = 1\n",
    "fat = 1\n",
    "\n",
    "while k <= x:\n",
    "    fat *= k\n",
    "    k += 1\n",
    "\n",
    "print(\"Numero: {} Soma: {}\".format(x, fat))"
   ]
  },
  {
   "cell_type": "code",
   "execution_count": null,
   "metadata": {},
   "outputs": [],
   "source": [
    "#terceiro programa\n",
    "num1 = 0\n",
    "while True:\n",
    "    num = int(input(\"Digite um numero ( 0 sai): \"))\n",
    "    if num == 0:\n",
    "        break\n",
    "    num1 += num    \n",
    "\n",
    "print(\"Soma: {}\".format(num1))"
   ]
  },
  {
   "cell_type": "code",
   "execution_count": null,
   "metadata": {},
   "outputs": [],
   "source": [
    "#quarto programa\n",
    "tab = 1\n",
    "\n",
    "while tab <= 10:\n",
    "    n = 1\n",
    "    print(\"Tabuada: {}\".format(tab))\n",
    "    while n <= 10:\n",
    "         print(\"Tabuada: {} x {} : {}\".format(tab, n, (tab * n)))\n",
    "         n += 1\n",
    "    tab +=1"
   ]
  },
  {
   "cell_type": "code",
   "execution_count": null,
   "metadata": {},
   "outputs": [],
   "source": []
  }
 ],
 "metadata": {
  "kernelspec": {
   "display_name": "Python 3",
   "language": "python",
   "name": "python3"
  },
  "language_info": {
   "codemirror_mode": {
    "name": "ipython",
    "version": 3
   },
   "file_extension": ".py",
   "mimetype": "text/x-python",
   "name": "python",
   "nbconvert_exporter": "python",
   "pygments_lexer": "ipython3",
   "version": "3.7.3"
  }
 },
 "nbformat": 4,
 "nbformat_minor": 2
}
