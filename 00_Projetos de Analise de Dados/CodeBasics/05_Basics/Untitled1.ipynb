{
 "cells": [
  {
   "cell_type": "code",
   "execution_count": null,
   "metadata": {},
   "outputs": [
    {
     "name": "stdin",
     "output_type": "stream",
     "text": [
      "Enter a command(options: new,get,save):  new\n",
      "Enter name of the person elvis\n",
      "Phone number:  22999\n",
      "Address:  rua\n",
      "Enter a command(options: new,get,save):  get\n",
      "Enter name of the person elvis\n"
     ]
    },
    {
     "name": "stdout",
     "output_type": "stream",
     "text": [
      "{'phone': '22999', 'address': 'rua'}\n"
     ]
    }
   ],
   "source": [
    "import json\n",
    "f = open(\"C:\\\\data\\\\book.txt\",\"w+\")\n",
    "phone_book = {}\n",
    "command = \"\"\n",
    "\n",
    "\n",
    "while command != 'exit':\n",
    "    command = input('Enter a command(options: new,get,save): ')\n",
    "    \n",
    "    \n",
    "    if command == \"new\":\n",
    "        name = input('Enter name of the person')\n",
    "        p = input('Phone number: ')\n",
    "        a = input('Address: ')\n",
    "        phone_book[name] = {'phone': p, 'address': a}\n",
    "        \n",
    "        \n",
    "    elif command == 'get':\n",
    "        name = input('Enter name of the person')\n",
    "        if name in phone_book:\n",
    "            print(phone_book[name])\n",
    "        else:\n",
    "            print('person not found in address book')\n",
    "            \n",
    "    elif command == 'save':\n",
    "        f.write(json.dumps(phone_book))"
   ]
  },
  {
   "cell_type": "code",
   "execution_count": null,
   "metadata": {},
   "outputs": [],
   "source": []
  }
 ],
 "metadata": {
  "kernelspec": {
   "display_name": "Python 3",
   "language": "python",
   "name": "python3"
  },
  "language_info": {
   "codemirror_mode": {
    "name": "ipython",
    "version": 3
   },
   "file_extension": ".py",
   "mimetype": "text/x-python",
   "name": "python",
   "nbconvert_exporter": "python",
   "pygments_lexer": "ipython3",
   "version": "3.7.6"
  }
 },
 "nbformat": 4,
 "nbformat_minor": 4
}
