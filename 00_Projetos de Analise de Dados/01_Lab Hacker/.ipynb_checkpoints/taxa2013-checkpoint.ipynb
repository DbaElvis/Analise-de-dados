{
 "cells": [
  {
   "cell_type": "markdown",
   "metadata": {},
   "source": [
    "# Mapa da educação 2013"
   ]
  },
  {
   "cell_type": "code",
   "execution_count": 7,
   "metadata": {},
   "outputs": [],
   "source": [
    "import pandas as pd\n",
    "%matplotlib inline\n",
    "import folium"
   ]
  },
  {
   "cell_type": "code",
   "execution_count": 10,
   "metadata": {},
   "outputs": [
    {
     "name": "stdout",
     "output_type": "stream",
     "text": [
      "<class 'pandas.core.frame.DataFrame'>\n",
      "RangeIndex: 495 entries, 0 to 494\n",
      "Data columns (total 5 columns):\n",
      "Município                                  495 non-null object\n",
      "ibge                                       495 non-null int64\n",
      "latitude                                   495 non-null float64\n",
      "longitude                                  495 non-null float64\n",
      "/Educação/Ens...de Série/Total 2013 (-)    495 non-null object\n",
      "dtypes: float64(2), int64(1), object(2)\n",
      "memory usage: 19.4+ KB\n"
     ]
    }
   ],
   "source": [
    "df = pd.read_csv('taxa2013.csv', encoding='latin1', skiprows=1)\n",
    "\n",
    "df.info()"
   ]
  },
  {
   "cell_type": "code",
   "execution_count": 11,
   "metadata": {},
   "outputs": [
    {
     "data": {
      "text/html": [
       "<div>\n",
       "<style scoped>\n",
       "    .dataframe tbody tr th:only-of-type {\n",
       "        vertical-align: middle;\n",
       "    }\n",
       "\n",
       "    .dataframe tbody tr th {\n",
       "        vertical-align: top;\n",
       "    }\n",
       "\n",
       "    .dataframe thead th {\n",
       "        text-align: right;\n",
       "    }\n",
       "</style>\n",
       "<table border=\"1\" class=\"dataframe\">\n",
       "  <thead>\n",
       "    <tr style=\"text-align: right;\">\n",
       "      <th></th>\n",
       "      <th>Município</th>\n",
       "      <th>ibge</th>\n",
       "      <th>latitude</th>\n",
       "      <th>longitude</th>\n",
       "      <th>/Educação/Ens...de Série/Total 2013 (-)</th>\n",
       "    </tr>\n",
       "  </thead>\n",
       "  <tbody>\n",
       "    <tr>\n",
       "      <th>0</th>\n",
       "      <td>Aceguá</td>\n",
       "      <td>4300034</td>\n",
       "      <td>-31.86076</td>\n",
       "      <td>-54.16706</td>\n",
       "      <td>25,7</td>\n",
       "    </tr>\n",
       "    <tr>\n",
       "      <th>1</th>\n",
       "      <td>Água Santa</td>\n",
       "      <td>4300059</td>\n",
       "      <td>-28.16720</td>\n",
       "      <td>-52.03100</td>\n",
       "      <td>14,7</td>\n",
       "    </tr>\n",
       "    <tr>\n",
       "      <th>2</th>\n",
       "      <td>Agudo</td>\n",
       "      <td>4300109</td>\n",
       "      <td>-29.64470</td>\n",
       "      <td>-53.25150</td>\n",
       "      <td>26,4</td>\n",
       "    </tr>\n",
       "    <tr>\n",
       "      <th>3</th>\n",
       "      <td>Ajuricaba</td>\n",
       "      <td>4300208</td>\n",
       "      <td>-28.23420</td>\n",
       "      <td>-53.77570</td>\n",
       "      <td>24,1</td>\n",
       "    </tr>\n",
       "    <tr>\n",
       "      <th>4</th>\n",
       "      <td>Alecrim</td>\n",
       "      <td>4300307</td>\n",
       "      <td>-27.65790</td>\n",
       "      <td>-54.76490</td>\n",
       "      <td>18,9</td>\n",
       "    </tr>\n",
       "  </tbody>\n",
       "</table>\n",
       "</div>"
      ],
      "text/plain": [
       "    Município     ibge  latitude  longitude  \\\n",
       "0      Aceguá  4300034 -31.86076  -54.16706   \n",
       "1  Água Santa  4300059 -28.16720  -52.03100   \n",
       "2       Agudo  4300109 -29.64470  -53.25150   \n",
       "3   Ajuricaba  4300208 -28.23420  -53.77570   \n",
       "4     Alecrim  4300307 -27.65790  -54.76490   \n",
       "\n",
       "  /Educação/Ens...de Série/Total 2013 (-)  \n",
       "0                                    25,7  \n",
       "1                                    14,7  \n",
       "2                                    26,4  \n",
       "3                                    24,1  \n",
       "4                                    18,9  "
      ]
     },
     "execution_count": 11,
     "metadata": {},
     "output_type": "execute_result"
    }
   ],
   "source": [
    "df.head()"
   ]
  },
  {
   "cell_type": "code",
   "execution_count": 13,
   "metadata": {},
   "outputs": [
    {
     "data": {
      "text/html": [
       "<div>\n",
       "<style scoped>\n",
       "    .dataframe tbody tr th:only-of-type {\n",
       "        vertical-align: middle;\n",
       "    }\n",
       "\n",
       "    .dataframe tbody tr th {\n",
       "        vertical-align: top;\n",
       "    }\n",
       "\n",
       "    .dataframe thead th {\n",
       "        text-align: right;\n",
       "    }\n",
       "</style>\n",
       "<table border=\"1\" class=\"dataframe\">\n",
       "  <thead>\n",
       "    <tr style=\"text-align: right;\">\n",
       "      <th></th>\n",
       "      <th>Município</th>\n",
       "      <th>ibge</th>\n",
       "      <th>latitude</th>\n",
       "      <th>longitude</th>\n",
       "      <th>tx_distorcao</th>\n",
       "    </tr>\n",
       "  </thead>\n",
       "  <tbody>\n",
       "    <tr>\n",
       "      <th>0</th>\n",
       "      <td>Aceguá</td>\n",
       "      <td>4300034</td>\n",
       "      <td>-31.86076</td>\n",
       "      <td>-54.16706</td>\n",
       "      <td>25,7</td>\n",
       "    </tr>\n",
       "    <tr>\n",
       "      <th>1</th>\n",
       "      <td>Água Santa</td>\n",
       "      <td>4300059</td>\n",
       "      <td>-28.16720</td>\n",
       "      <td>-52.03100</td>\n",
       "      <td>14,7</td>\n",
       "    </tr>\n",
       "    <tr>\n",
       "      <th>2</th>\n",
       "      <td>Agudo</td>\n",
       "      <td>4300109</td>\n",
       "      <td>-29.64470</td>\n",
       "      <td>-53.25150</td>\n",
       "      <td>26,4</td>\n",
       "    </tr>\n",
       "    <tr>\n",
       "      <th>3</th>\n",
       "      <td>Ajuricaba</td>\n",
       "      <td>4300208</td>\n",
       "      <td>-28.23420</td>\n",
       "      <td>-53.77570</td>\n",
       "      <td>24,1</td>\n",
       "    </tr>\n",
       "    <tr>\n",
       "      <th>4</th>\n",
       "      <td>Alecrim</td>\n",
       "      <td>4300307</td>\n",
       "      <td>-27.65790</td>\n",
       "      <td>-54.76490</td>\n",
       "      <td>18,9</td>\n",
       "    </tr>\n",
       "  </tbody>\n",
       "</table>\n",
       "</div>"
      ],
      "text/plain": [
       "    Município     ibge  latitude  longitude tx_distorcao\n",
       "0      Aceguá  4300034 -31.86076  -54.16706         25,7\n",
       "1  Água Santa  4300059 -28.16720  -52.03100         14,7\n",
       "2       Agudo  4300109 -29.64470  -53.25150         26,4\n",
       "3   Ajuricaba  4300208 -28.23420  -53.77570         24,1\n",
       "4     Alecrim  4300307 -27.65790  -54.76490         18,9"
      ]
     },
     "execution_count": 13,
     "metadata": {},
     "output_type": "execute_result"
    }
   ],
   "source": [
    "df.rename(columns={'/Educação/Ens...de Série/Total 2013 (-)':'tx_distorcao'}, inplace=True)\n",
    "df.head()"
   ]
  },
  {
   "cell_type": "code",
   "execution_count": 14,
   "metadata": {},
   "outputs": [
    {
     "name": "stdout",
     "output_type": "stream",
     "text": [
      "<class 'pandas.core.frame.DataFrame'>\n",
      "RangeIndex: 495 entries, 0 to 494\n",
      "Data columns (total 5 columns):\n",
      "Município       495 non-null object\n",
      "ibge            495 non-null int64\n",
      "latitude        495 non-null float64\n",
      "longitude       495 non-null float64\n",
      "tx_distorcao    495 non-null object\n",
      "dtypes: float64(2), int64(1), object(2)\n",
      "memory usage: 19.4+ KB\n"
     ]
    }
   ],
   "source": [
    "df.info()"
   ]
  },
  {
   "cell_type": "code",
   "execution_count": 16,
   "metadata": {},
   "outputs": [],
   "source": [
    "df['tx_distorcao'] = df['tx_distorcao'].str.replace(',', '.')"
   ]
  },
  {
   "cell_type": "code",
   "execution_count": 18,
   "metadata": {},
   "outputs": [
    {
     "data": {
      "text/html": [
       "<div>\n",
       "<style scoped>\n",
       "    .dataframe tbody tr th:only-of-type {\n",
       "        vertical-align: middle;\n",
       "    }\n",
       "\n",
       "    .dataframe tbody tr th {\n",
       "        vertical-align: top;\n",
       "    }\n",
       "\n",
       "    .dataframe thead th {\n",
       "        text-align: right;\n",
       "    }\n",
       "</style>\n",
       "<table border=\"1\" class=\"dataframe\">\n",
       "  <thead>\n",
       "    <tr style=\"text-align: right;\">\n",
       "      <th></th>\n",
       "      <th>Município</th>\n",
       "      <th>ibge</th>\n",
       "      <th>latitude</th>\n",
       "      <th>longitude</th>\n",
       "      <th>tx_distorcao</th>\n",
       "    </tr>\n",
       "  </thead>\n",
       "  <tbody>\n",
       "    <tr>\n",
       "      <th>0</th>\n",
       "      <td>Aceguá</td>\n",
       "      <td>4300034</td>\n",
       "      <td>-31.86076</td>\n",
       "      <td>-54.16706</td>\n",
       "      <td>25.7</td>\n",
       "    </tr>\n",
       "    <tr>\n",
       "      <th>1</th>\n",
       "      <td>Água Santa</td>\n",
       "      <td>4300059</td>\n",
       "      <td>-28.16720</td>\n",
       "      <td>-52.03100</td>\n",
       "      <td>14.7</td>\n",
       "    </tr>\n",
       "    <tr>\n",
       "      <th>2</th>\n",
       "      <td>Agudo</td>\n",
       "      <td>4300109</td>\n",
       "      <td>-29.64470</td>\n",
       "      <td>-53.25150</td>\n",
       "      <td>26.4</td>\n",
       "    </tr>\n",
       "    <tr>\n",
       "      <th>3</th>\n",
       "      <td>Ajuricaba</td>\n",
       "      <td>4300208</td>\n",
       "      <td>-28.23420</td>\n",
       "      <td>-53.77570</td>\n",
       "      <td>24.1</td>\n",
       "    </tr>\n",
       "    <tr>\n",
       "      <th>4</th>\n",
       "      <td>Alecrim</td>\n",
       "      <td>4300307</td>\n",
       "      <td>-27.65790</td>\n",
       "      <td>-54.76490</td>\n",
       "      <td>18.9</td>\n",
       "    </tr>\n",
       "  </tbody>\n",
       "</table>\n",
       "</div>"
      ],
      "text/plain": [
       "    Município     ibge  latitude  longitude tx_distorcao\n",
       "0      Aceguá  4300034 -31.86076  -54.16706         25.7\n",
       "1  Água Santa  4300059 -28.16720  -52.03100         14.7\n",
       "2       Agudo  4300109 -29.64470  -53.25150         26.4\n",
       "3   Ajuricaba  4300208 -28.23420  -53.77570         24.1\n",
       "4     Alecrim  4300307 -27.65790  -54.76490         18.9"
      ]
     },
     "execution_count": 18,
     "metadata": {},
     "output_type": "execute_result"
    }
   ],
   "source": [
    "df.head()"
   ]
  },
  {
   "cell_type": "code",
   "execution_count": 19,
   "metadata": {},
   "outputs": [
    {
     "name": "stdout",
     "output_type": "stream",
     "text": [
      "<class 'pandas.core.frame.DataFrame'>\n",
      "RangeIndex: 495 entries, 0 to 494\n",
      "Data columns (total 5 columns):\n",
      "Município       495 non-null object\n",
      "ibge            495 non-null int64\n",
      "latitude        495 non-null float64\n",
      "longitude       495 non-null float64\n",
      "tx_distorcao    495 non-null float64\n",
      "dtypes: float64(3), int64(1), object(1)\n",
      "memory usage: 19.4+ KB\n"
     ]
    }
   ],
   "source": [
    "df['tx_distorcao'] = df['tx_distorcao'].astype(float)\n",
    "\n",
    "df.info()"
   ]
  },
  {
   "cell_type": "code",
   "execution_count": 20,
   "metadata": {},
   "outputs": [
    {
     "data": {
      "text/html": [
       "<div>\n",
       "<style scoped>\n",
       "    .dataframe tbody tr th:only-of-type {\n",
       "        vertical-align: middle;\n",
       "    }\n",
       "\n",
       "    .dataframe tbody tr th {\n",
       "        vertical-align: top;\n",
       "    }\n",
       "\n",
       "    .dataframe thead th {\n",
       "        text-align: right;\n",
       "    }\n",
       "</style>\n",
       "<table border=\"1\" class=\"dataframe\">\n",
       "  <thead>\n",
       "    <tr style=\"text-align: right;\">\n",
       "      <th></th>\n",
       "      <th>Município</th>\n",
       "      <th>ibge</th>\n",
       "      <th>latitude</th>\n",
       "      <th>longitude</th>\n",
       "      <th>tx_distorcao</th>\n",
       "    </tr>\n",
       "  </thead>\n",
       "  <tbody>\n",
       "    <tr>\n",
       "      <th>490</th>\n",
       "      <td>Vista Alegre do Prata</td>\n",
       "      <td>4323606</td>\n",
       "      <td>-28.8052</td>\n",
       "      <td>-51.7946</td>\n",
       "      <td>2.6</td>\n",
       "    </tr>\n",
       "    <tr>\n",
       "      <th>375</th>\n",
       "      <td>Santo Antônio do Palma</td>\n",
       "      <td>4317558</td>\n",
       "      <td>-28.4956</td>\n",
       "      <td>-52.0267</td>\n",
       "      <td>4.3</td>\n",
       "    </tr>\n",
       "    <tr>\n",
       "      <th>28</th>\n",
       "      <td>Áurea</td>\n",
       "      <td>4301552</td>\n",
       "      <td>-27.6936</td>\n",
       "      <td>-52.0505</td>\n",
       "      <td>5.8</td>\n",
       "    </tr>\n",
       "    <tr>\n",
       "      <th>268</th>\n",
       "      <td>Nicolau Vergueiro</td>\n",
       "      <td>4312674</td>\n",
       "      <td>-28.5298</td>\n",
       "      <td>-52.4676</td>\n",
       "      <td>7.0</td>\n",
       "    </tr>\n",
       "    <tr>\n",
       "      <th>128</th>\n",
       "      <td>Derrubadas</td>\n",
       "      <td>4306320</td>\n",
       "      <td>-27.2642</td>\n",
       "      <td>-53.8645</td>\n",
       "      <td>7.4</td>\n",
       "    </tr>\n",
       "    <tr>\n",
       "      <th>119</th>\n",
       "      <td>Cotiporã</td>\n",
       "      <td>4305959</td>\n",
       "      <td>-28.9891</td>\n",
       "      <td>-51.6971</td>\n",
       "      <td>7.5</td>\n",
       "    </tr>\n",
       "    <tr>\n",
       "      <th>68</th>\n",
       "      <td>Campestre da Serra</td>\n",
       "      <td>4303673</td>\n",
       "      <td>-28.7926</td>\n",
       "      <td>-51.0941</td>\n",
       "      <td>7.6</td>\n",
       "    </tr>\n",
       "    <tr>\n",
       "      <th>476</th>\n",
       "      <td>Vanini</td>\n",
       "      <td>4322558</td>\n",
       "      <td>-28.4758</td>\n",
       "      <td>-51.8447</td>\n",
       "      <td>7.8</td>\n",
       "    </tr>\n",
       "    <tr>\n",
       "      <th>236</th>\n",
       "      <td>Linha Nova</td>\n",
       "      <td>4311643</td>\n",
       "      <td>-29.4679</td>\n",
       "      <td>-51.2003</td>\n",
       "      <td>8.0</td>\n",
       "    </tr>\n",
       "    <tr>\n",
       "      <th>392</th>\n",
       "      <td>São José do Inhacorá</td>\n",
       "      <td>4318499</td>\n",
       "      <td>-27.7251</td>\n",
       "      <td>-54.1275</td>\n",
       "      <td>8.0</td>\n",
       "    </tr>\n",
       "  </tbody>\n",
       "</table>\n",
       "</div>"
      ],
      "text/plain": [
       "                  Município     ibge  latitude  longitude  tx_distorcao\n",
       "490   Vista Alegre do Prata  4323606  -28.8052   -51.7946           2.6\n",
       "375  Santo Antônio do Palma  4317558  -28.4956   -52.0267           4.3\n",
       "28                    Áurea  4301552  -27.6936   -52.0505           5.8\n",
       "268       Nicolau Vergueiro  4312674  -28.5298   -52.4676           7.0\n",
       "128              Derrubadas  4306320  -27.2642   -53.8645           7.4\n",
       "119                Cotiporã  4305959  -28.9891   -51.6971           7.5\n",
       "68       Campestre da Serra  4303673  -28.7926   -51.0941           7.6\n",
       "476                  Vanini  4322558  -28.4758   -51.8447           7.8\n",
       "236              Linha Nova  4311643  -29.4679   -51.2003           8.0\n",
       "392    São José do Inhacorá  4318499  -27.7251   -54.1275           8.0"
      ]
     },
     "execution_count": 20,
     "metadata": {},
     "output_type": "execute_result"
    }
   ],
   "source": [
    "df.nsmallest(10, 'tx_distorcao')"
   ]
  },
  {
   "cell_type": "code",
   "execution_count": 21,
   "metadata": {},
   "outputs": [
    {
     "data": {
      "text/plain": [
       "<matplotlib.axes._subplots.AxesSubplot at 0xb57b710>"
      ]
     },
     "execution_count": 21,
     "metadata": {},
     "output_type": "execute_result"
    },
    {
     "data": {
      "image/png": "[encoded data removed]",
      "text/plain": [
       "<Figure size 432x288 with 1 Axes>"
      ]
     },
     "metadata": {
      "needs_background": "light"
     },
     "output_type": "display_data"
    }
   ],
   "source": [
    "df['tx_distorcao'].plot.hist(bins=100)"
   ]
  },
  {
   "cell_type": "code",
   "execution_count": 23,
   "metadata": {},
   "outputs": [
    {
     "data": {
      "text/plain": [
       "Município       17\n",
       "ibge            17\n",
       "latitude        17\n",
       "longitude       17\n",
       "tx_distorcao    17\n",
       "dtype: int64"
      ]
     },
     "execution_count": 23,
     "metadata": {},
     "output_type": "execute_result"
    }
   ],
   "source": [
    "df[df['tx_distorcao'] <= 10].count()"
   ]
  },
  {
   "cell_type": "code",
   "execution_count": 25,
   "metadata": {},
   "outputs": [],
   "source": [
    "brasil = folium.Map(\n",
    "    location=[-13.6603615, -69.6775883],\n",
    "    zoom_start=4\n",
    ")"
   ]
  },
  {
   "cell_type": "code",
   "execution_count": 26,
   "metadata": {},
   "outputs": [
    {
     "data": {
      "text/html": [
       "<div style=\"width:100%;\"><div style=\"position:relative;width:100%;height:0;padding-bottom:60%;\"><iframe src=\"data:text/html;charset=utf-8;base64,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\" style=\"position:absolute;width:100%;height:100%;left:0;top:0;border:none !important;\" allowfullscreen webkitallowfullscreen mozallowfullscreen></iframe></div></div>"
      ],
      "text/plain": [
       "<folium.folium.Map at 0xb8e1208>"
      ]
     },
     "execution_count": 26,
     "metadata": {},
     "output_type": "execute_result"
    }
   ],
   "source": [
    "brasil"
   ]
  },
  {
   "cell_type": "code",
   "execution_count": 27,
   "metadata": {},
   "outputs": [
    {
     "data": {
      "text/html": [
       "<div style=\"width:100%;\"><div style=\"position:relative;width:100%;height:0;padding-bottom:60%;\"><iframe src=\"data:text/html;charset=utf-8;base64,PCFET0NUWVBFIGh0bWw+CjxoZWFkPiAgICAKICAgIDxtZXRhIGh0dHAtZXF1aXY9ImNvbnRlbnQtdHlwZSIgY29udGVudD0idGV4dC9odG1sOyBjaGFyc2V0PVVURi04IiAvPgogICAgCiAgICAgICAgPHNjcmlwdD4KICAgICAgICAgICAgTF9OT19UT1VDSCA9IGZhbHNlOwogICAgICAgICAgICBMX0RJU0FCTEVfM0QgPSBmYWxzZTsKICAgICAgICA8L3NjcmlwdD4KICAgIAogICAgPHNjcmlwdCBzcmM9Imh0dHBzOi8vY2RuLmpzZGVsaXZyLm5ldC9ucG0vbGVhZmxldEAxLjUuMS9kaXN0L2xlYWZsZXQuanMiPjwvc2NyaXB0PgogICAgPHNjcmlwdCBzcmM9Imh0dHBzOi8vY29kZS5qcXVlcnkuY29tL2pxdWVyeS0xLjEyLjQubWluLmpzIj48L3NjcmlwdD4KICAgIDxzY3JpcHQgc3JjPSJodHRwczovL21heGNkbi5ib290c3RyYXBjZG4uY29tL2Jvb3RzdHJhcC8zLjIuMC9qcy9ib290c3RyYXAubWluLmpzIj48L3NjcmlwdD4KICAgIDxzY3JpcHQgc3JjPSJodHRwczovL2NkbmpzLmNsb3VkZmxhcmUuY29tL2FqYXgvbGlicy9MZWFmbGV0LmF3ZXNvbWUtbWFya2Vycy8yLjAuMi9sZWFmbGV0LmF3ZXNvbWUtbWFya2Vycy5qcyI+PC9zY3JpcHQ+CiAgICA8bGluayByZWw9InN0eWxlc2hlZXQiIGhyZWY9Imh0dHBzOi8vY2RuLmpzZGVsaXZyLm5ldC9ucG0vbGVhZmxldEAxLjUuMS9kaXN0L2xlYWZsZXQuY3NzIi8+CiAgICA8bGluayByZWw9InN0eWxlc2hlZXQiIGhyZWY9Imh0dHBzOi8vbWF4Y2RuLmJvb3RzdHJhcGNkbi5jb20vYm9vdHN0cmFwLzMuMi4wL2Nzcy9ib290c3RyYXAubWluLmNzcyIvPgogICAgPGxpbmsgcmVsPSJzdHlsZXNoZWV0IiBocmVmPSJodHRwczovL21heGNkbi5ib290c3RyYXBjZG4uY29tL2Jvb3RzdHJhcC8zLjIuMC9jc3MvYm9vdHN0cmFwLXRoZW1lLm1pbi5jc3MiLz4KICAgIDxsaW5rIHJlbD0ic3R5bGVzaGVldCIgaHJlZj0iaHR0cHM6Ly9tYXhjZG4uYm9vdHN0cmFwY2RuLmNvbS9mb250LWF3ZXNvbWUvNC42LjMvY3NzL2ZvbnQtYXdlc29tZS5taW4uY3NzIi8+CiAgICA8bGluayByZWw9InN0eWxlc2hlZXQiIGhyZWY9Imh0dHBzOi8vY2RuanMuY2xvdWRmbGFyZS5jb20vYWpheC9saWJzL0xlYWZsZXQuYXdlc29tZS1tYXJrZXJzLzIuMC4yL2xlYWZsZXQuYXdlc29tZS1tYXJrZXJzLmNzcyIvPgogICAgPGxpbmsgcmVsPSJzdHlsZXNoZWV0IiBocmVmPSJodHRwczovL3Jhd2Nkbi5naXRoYWNrLmNvbS9weXRob24tdmlzdWFsaXphdGlvbi9mb2xpdW0vbWFzdGVyL2ZvbGl1bS90ZW1wbGF0ZXMvbGVhZmxldC5hd2Vzb21lLnJvdGF0ZS5jc3MiLz4KICAgIDxzdHlsZT5odG1sLCBib2R5IHt3aWR0aDogMTAwJTtoZWlnaHQ6IDEwMCU7bWFyZ2luOiAwO3BhZGRpbmc6IDA7fTwvc3R5bGU+CiAgICA8c3R5bGU+I21hcCB7cG9zaXRpb246YWJzb2x1dGU7dG9wOjA7Ym90dG9tOjA7cmlnaHQ6MDtsZWZ0OjA7fTwvc3R5bGU+CiAgICAKICAgICAgICAgICAgPG1ldGEgbmFtZT0idmlld3BvcnQiIGNvbnRlbnQ9IndpZHRoPWRldmljZS13aWR0aCwKICAgICAgICAgICAgICAgIGluaXRpYWwtc2NhbGU9MS4wLCBtYXhpbXVtLXNjYWxlPTEuMCwgdXNlci1zY2FsYWJsZT1ubyIgLz4KICAgICAgICAgICAgPHN0eWxlPgogICAgICAgICAgICAgICAgI21hcF82ODEzYjgxNjQzMzU0MDBiOTM5MDA1ODljMmZmMTZlZSB7CiAgICAgICAgICAgICAgICAgICAgcG9zaXRpb246IHJlbGF0aXZlOwogICAgICAgICAgICAgICAgICAgIHdpZHRoOiAxMDAuMCU7CiAgICAgICAgICAgICAgICAgICAgaGVpZ2h0OiAxMDAuMCU7CiAgICAgICAgICAgICAgICAgICAgbGVmdDogMC4wJTsKICAgICAgICAgICAgICAgICAgICB0b3A6IDAuMCU7CiAgICAgICAgICAgICAgICB9CiAgICAgICAgICAgIDwvc3R5bGU+CiAgICAgICAgCjwvaGVhZD4KPGJvZHk+ICAgIAogICAgCiAgICAgICAgICAgIDxkaXYgY2xhc3M9ImZvbGl1bS1tYXAiIGlkPSJtYXBfNjgxM2I4MTY0MzM1NDAwYjkzOTAwNTg5YzJmZjE2ZWUiID48L2Rpdj4KICAgICAgICAKPC9ib2R5Pgo8c2NyaXB0PiAgICAKICAgIAogICAgICAgICAgICB2YXIgbWFwXzY4MTNiODE2NDMzNTQwMGI5MzkwMDU4OWMyZmYxNmVlID0gTC5tYXAoCiAgICAgICAgICAgICAgICAibWFwXzY4MTNiODE2NDMzNTQwMGI5MzkwMDU4OWMyZmYxNmVlIiwKICAgICAgICAgICAgICAgIHsKICAgICAgICAgICAgICAgICAgICBjZW50ZXI6IFstMzAuMzM4Nzk3NiwgLTU4LjE2NDY3NTJdLAogICAgICAgICAgICAgICAgICAgIGNyczogTC5DUlMuRVBTRzM4NTcsCiAgICAgICAgICAgICAgICAgICAgem9vbTogNCwKICAgICAgICAgICAgICAgICAgICB6b29tQ29udHJvbDogdHJ1ZSwKICAgICAgICAgICAgICAgICAgICBwcmVmZXJDYW52YXM6IGZhbHNlLAogICAgICAgICAgICAgICAgfQogICAgICAgICAgICApOwoKICAgICAgICAgICAgCgogICAgICAgIAogICAgCiAgICAgICAgICAgIHZhciB0aWxlX2xheWVyXzMxMzQzYzcxNGI2MzRjOGU5ZDY5YTQwYWYwNmRlNzgyID0gTC50aWxlTGF5ZXIoCiAgICAgICAgICAgICAgICAiaHR0cHM6Ly97c30udGlsZS5vcGVuc3RyZWV0bWFwLm9yZy97en0ve3h9L3t5fS5wbmciLAogICAgICAgICAgICAgICAgeyJhdHRyaWJ1dGlvbiI6ICJEYXRhIGJ5IFx1MDAyNmNvcHk7IFx1MDAzY2EgaHJlZj1cImh0dHA6Ly9vcGVuc3RyZWV0bWFwLm9yZ1wiXHUwMDNlT3BlblN0cmVldE1hcFx1MDAzYy9hXHUwMDNlLCB1bmRlciBcdTAwM2NhIGhyZWY9XCJodHRwOi8vd3d3Lm9wZW5zdHJlZXRtYXAub3JnL2NvcHlyaWdodFwiXHUwMDNlT0RiTFx1MDAzYy9hXHUwMDNlLiIsICJkZXRlY3RSZXRpbmEiOiBmYWxzZSwgIm1heE5hdGl2ZVpvb20iOiAxOCwgIm1heFpvb20iOiAxOCwgIm1pblpvb20iOiAwLCAibm9XcmFwIjogZmFsc2UsICJvcGFjaXR5IjogMSwgInN1YmRvbWFpbnMiOiAiYWJjIiwgInRtcyI6IGZhbHNlfQogICAgICAgICAgICApLmFkZFRvKG1hcF82ODEzYjgxNjQzMzU0MDBiOTM5MDA1ODljMmZmMTZlZSk7CiAgICAgICAgCjwvc2NyaXB0Pg==\" style=\"position:absolute;width:100%;height:100%;left:0;top:0;border:none !important;\" allowfullscreen webkitallowfullscreen mozallowfullscreen></iframe></div></div>"
      ],
      "text/plain": [
       "<folium.folium.Map at 0xb988128>"
      ]
     },
     "execution_count": 27,
     "metadata": {},
     "output_type": "execute_result"
    }
   ],
   "source": [
    "rgrande = folium.Map(\n",
    "    location=[-30.3387976,-58.1646752],\n",
    "    zoom_start=4\n",
    ") \n",
    "\n",
    "rgrande"
   ]
  },
  {
   "cell_type": "code",
   "execution_count": 35,
   "metadata": {},
   "outputs": [],
   "source": [
    "for indice, municipio in df[df['tx_distorcao']<=10].iterrows():\n",
    "    folium.Marker(\n",
    "        location=[ municipio['latitude'], municipio['longitude']],\n",
    "        popup=municipio['Município'],\n",
    "        icon=folium.map.Icon(color='green')\n",
    "    ).add_to(rgrande)"
   ]
  },
  {
   "cell_type": "code",
   "execution_count": 36,
   "metadata": {},
   "outputs": [
    {
     "data": {
      "text/html": [
       "<div style=\"width:100%;\"><div style=\"position:relative;width:100%;height:0;padding-bottom:60%;\"><iframe src=\"data:text/html;charset=utf-8;base64,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\" style=\"position:absolute;width:100%;height:100%;left:0;top:0;border:none !important;\" allowfullscreen webkitallowfullscreen mozallowfullscreen></iframe></div></div>"
      ],
      "text/plain": [
       "<folium.folium.Map at 0xb988128>"
      ]
     },
     "execution_count": 36,
     "metadata": {},
     "output_type": "execute_result"
    }
   ],
   "source": [
    "rgrande"
   ]
  },
  {
   "cell_type": "code",
   "execution_count": 38,
   "metadata": {},
   "outputs": [
    {
     "data": {
      "text/html": [
       "<div style=\"width:100%;\"><div style=\"position:relative;width:100%;height:0;padding-bottom:60%;\"><iframe src=\"data:text/html;charset=utf-8;base64,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\" style=\"position:absolute;width:100%;height:100%;left:0;top:0;border:none !important;\" allowfullscreen webkitallowfullscreen mozallowfullscreen></iframe></div></div>"
      ],
      "text/plain": [
       "<folium.folium.Map at 0xb988128>"
      ]
     },
     "execution_count": 38,
     "metadata": {},
     "output_type": "execute_result"
    }
   ],
   "source": [
    "for indice, municipio in df[df['tx_distorcao']>=45].iterrows():\n",
    "    folium.Marker(\n",
    "        location=[ municipio['latitude'], municipio['longitude']],\n",
    "        popup=municipio['Município'],\n",
    "        icon=folium.map.Icon(color='red')\n",
    "    ).add_to(rgrande)\n",
    "rgrande    "
   ]
  },
  {
   "cell_type": "code",
   "execution_count": 39,
   "metadata": {},
   "outputs": [
    {
     "data": {
      "text/plain": [
       "325    32.3\n",
       "Name: tx_distorcao, dtype: float64"
      ]
     },
     "execution_count": 39,
     "metadata": {},
     "output_type": "execute_result"
    }
   ],
   "source": [
    "df[df['Município'] == 'Porto Alegre']['tx_distorcao']"
   ]
  },
  {
   "cell_type": "code",
   "execution_count": null,
   "metadata": {},
   "outputs": [],
   "source": []
  }
 ],
 "metadata": {
  "kernelspec": {
   "display_name": "Python 3",
   "language": "python",
   "name": "python3"
  },
  "language_info": {
   "codemirror_mode": {
    "name": "ipython",
    "version": 3
   },
   "file_extension": ".py",
   "mimetype": "text/x-python",
   "name": "python",
   "nbconvert_exporter": "python",
   "pygments_lexer": "ipython3",
   "version": "3.7.3"
  }
 },
 "nbformat": 4,
 "nbformat_minor": 2
}
