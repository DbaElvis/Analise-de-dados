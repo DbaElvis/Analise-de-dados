{
 "cells": [
  {
   "cell_type": "markdown",
   "metadata": {
    "colab_type": "text",
    "id": "wSFbIMb87cHu"
   },
   "source": [
    "# **Bioinformatics Project - Computational Drug Discovery [Part 1] Download Bioactivity Data (Concised version)**\n",
    "\n",
    "Chanin Nantasenamat\n",
    "\n",
    "[*'Data Professor' YouTube channel*](http://youtube.com/dataprofessor)\n",
    "\n",
    "In this Jupyter notebook, we will be building a real-life **data science project** that you can include in your **data science portfolio**. Particularly, we will be building a machine learning model using the ChEMBL bioactivity data.\n",
    "\n",
    "In **Part 1**, we will be performing Data Collection and Pre-Processing from the ChEMBL Database.\n",
    "\n",
    "Note for this Concised Version:\n",
    "* Redundant code cells were deleted.\n",
    "* Code cells for saving files to Google Drive has been deleted.\n",
    "\n",
    "---"
   ]
  },
  {
   "cell_type": "markdown",
   "metadata": {
    "colab_type": "text",
    "id": "3iQiERxumDor"
   },
   "source": [
    "## **ChEMBL Database**\n",
    "\n",
    "The [*ChEMBL Database*](https://www.ebi.ac.uk/chembl/) is a database that contains curated bioactivity data of more than 2 million compounds. It is compiled from more than 76,000 documents, 1.2 million assays and the data spans 13,000 targets and 1,800 cells and 33,000 indications.\n",
    "[Data as of March 25, 2020; ChEMBL version 26]."
   ]
  },
  {
   "cell_type": "markdown",
   "metadata": {
    "colab_type": "text",
    "id": "iryGAwAIQ4yf"
   },
   "source": [
    "## **Installing libraries**"
   ]
  },
  {
   "cell_type": "markdown",
   "metadata": {
    "colab_type": "text",
    "id": "toGT1U_B7F2i"
   },
   "source": [
    "Install the ChEMBL web service package so that we can retrieve bioactivity data from the ChEMBL Database."
   ]
  },
  {
   "cell_type": "code",
   "execution_count": 1,
   "metadata": {
    "colab": {
     "base_uri": "https://localhost:8080/",
     "height": 343
    },
    "colab_type": "code",
    "id": "cJGExHQBfLh7",
    "outputId": "dbeeb7ab-426b-481f-ca15-897f6c09451c"
   },
   "outputs": [
    {
     "name": "stdout",
     "output_type": "stream",
     "text": [
      "Collecting chembl_webresource_client\n",
      "  Downloading chembl-webresource-client-0.10.2.tar.gz (51 kB)\n",
      "\u001b[K     |████████████████████████████████| 51 kB 46 kB/s  eta 0:00:011\n",
      "\u001b[?25hRequirement already satisfied: urllib3 in /home/elvis/.local/lib/python3.7/site-packages (from chembl_webresource_client) (1.25.9)\n",
      "Requirement already satisfied: requests>=2.18.4 in /home/elvis/.local/lib/python3.7/site-packages (from chembl_webresource_client) (2.24.0)\n",
      "Collecting requests-cache>=0.4.7\n",
      "  Downloading requests_cache-0.5.2-py2.py3-none-any.whl (22 kB)\n",
      "Collecting easydict\n",
      "  Downloading easydict-1.9.tar.gz (6.4 kB)\n",
      "Requirement already satisfied: certifi>=2017.4.17 in /home/elvis/.local/lib/python3.7/site-packages (from requests>=2.18.4->chembl_webresource_client) (2019.9.11)\n",
      "Requirement already satisfied: idna<3,>=2.5 in /home/elvis/.local/lib/python3.7/site-packages (from requests>=2.18.4->chembl_webresource_client) (2.10)\n",
      "Requirement already satisfied: chardet<4,>=3.0.2 in /home/elvis/anaconda3/lib/python3.7/site-packages (from requests>=2.18.4->chembl_webresource_client) (3.0.4)\n",
      "Building wheels for collected packages: chembl-webresource-client, easydict\n",
      "  Building wheel for chembl-webresource-client (setup.py) ... \u001b[?25ldone\n",
      "\u001b[?25h  Created wheel for chembl-webresource-client: filename=chembl_webresource_client-0.10.2-py3-none-any.whl size=55661 sha256=ad41b82e1616ad64d79523102bd32d01111dbcca12030d4c44476f3d1b120664\n",
      "  Stored in directory: /home/elvis/.cache/pip/wheels/6b/b6/01/3ac263f66b426db41f56f1f93e9afab34deea55cefa34b3253\n",
      "  Building wheel for easydict (setup.py) ... \u001b[?25ldone\n",
      "\u001b[?25h  Created wheel for easydict: filename=easydict-1.9-py3-none-any.whl size=6349 sha256=d58efcd7e6f0510779553cdaac0b2269a8af04caa82c76cafc3da98d5f779192\n",
      "  Stored in directory: /home/elvis/.cache/pip/wheels/88/96/68/c2be18e7406804be2e593e1c37845f2dd20ac2ce1381ce40b0\n",
      "Successfully built chembl-webresource-client easydict\n",
      "Installing collected packages: requests-cache, easydict, chembl-webresource-client\n",
      "Successfully installed chembl-webresource-client-0.10.2 easydict-1.9 requests-cache-0.5.2\n"
     ]
    }
   ],
   "source": [
    "! pip install chembl_webresource_client"
   ]
  },
  {
   "cell_type": "markdown",
   "metadata": {
    "colab_type": "text",
    "id": "J0kJjL8gb5nX"
   },
   "source": [
    "## **Importing libraries**"
   ]
  },
  {
   "cell_type": "code",
   "execution_count": 2,
   "metadata": {
    "colab": {},
    "colab_type": "code",
    "id": "RXoCvMPPfNrv"
   },
   "outputs": [],
   "source": [
    "# Import necessary libraries\n",
    "import pandas as pd\n",
    "from chembl_webresource_client.new_client import new_client"
   ]
  },
  {
   "cell_type": "markdown",
   "metadata": {
    "colab_type": "text",
    "id": "1FgUai1bfigC"
   },
   "source": [
    "## **Search for Target protein**"
   ]
  },
  {
   "cell_type": "markdown",
   "metadata": {
    "colab_type": "text",
    "id": "7lBsDrD0gAqH"
   },
   "source": [
    "### **Target search for Acetylcholinesterase**"
   ]
  },
  {
   "cell_type": "code",
   "execution_count": 4,
   "metadata": {
    "colab": {
     "base_uri": "https://localhost:8080/",
     "height": 1000
    },
    "colab_type": "code",
    "id": "Vxtp79so4ZjF",
    "outputId": "92e78250-8b71-4912-f0eb-dd48bb563aaa"
   },
   "outputs": [
    {
     "data": {
      "text/html": [
       "<div>\n",
       "<style scoped>\n",
       "    .dataframe tbody tr th:only-of-type {\n",
       "        vertical-align: middle;\n",
       "    }\n",
       "\n",
       "    .dataframe tbody tr th {\n",
       "        vertical-align: top;\n",
       "    }\n",
       "\n",
       "    .dataframe thead th {\n",
       "        text-align: right;\n",
       "    }\n",
       "</style>\n",
       "<table border=\"1\" class=\"dataframe\">\n",
       "  <thead>\n",
       "    <tr style=\"text-align: right;\">\n",
       "      <th></th>\n",
       "      <th>cross_references</th>\n",
       "      <th>organism</th>\n",
       "      <th>pref_name</th>\n",
       "      <th>score</th>\n",
       "      <th>species_group_flag</th>\n",
       "      <th>target_chembl_id</th>\n",
       "      <th>target_components</th>\n",
       "      <th>target_type</th>\n",
       "      <th>tax_id</th>\n",
       "    </tr>\n",
       "  </thead>\n",
       "  <tbody>\n",
       "    <tr>\n",
       "      <th>0</th>\n",
       "      <td>[{'xref_id': 'P22303', 'xref_name': None, 'xre...</td>\n",
       "      <td>Homo sapiens</td>\n",
       "      <td>Acetylcholinesterase</td>\n",
       "      <td>27.0</td>\n",
       "      <td>False</td>\n",
       "      <td>CHEMBL220</td>\n",
       "      <td>[{'accession': 'P22303', 'component_descriptio...</td>\n",
       "      <td>SINGLE PROTEIN</td>\n",
       "      <td>9606</td>\n",
       "    </tr>\n",
       "    <tr>\n",
       "      <th>1</th>\n",
       "      <td>[]</td>\n",
       "      <td>Homo sapiens</td>\n",
       "      <td>Cholinesterases; ACHE &amp; BCHE</td>\n",
       "      <td>27.0</td>\n",
       "      <td>False</td>\n",
       "      <td>CHEMBL2095233</td>\n",
       "      <td>[{'accession': 'P06276', 'component_descriptio...</td>\n",
       "      <td>SELECTIVITY GROUP</td>\n",
       "      <td>9606</td>\n",
       "    </tr>\n",
       "    <tr>\n",
       "      <th>2</th>\n",
       "      <td>[]</td>\n",
       "      <td>Drosophila melanogaster</td>\n",
       "      <td>Acetylcholinesterase</td>\n",
       "      <td>17.0</td>\n",
       "      <td>False</td>\n",
       "      <td>CHEMBL2242744</td>\n",
       "      <td>[{'accession': 'P07140', 'component_descriptio...</td>\n",
       "      <td>SINGLE PROTEIN</td>\n",
       "      <td>7227</td>\n",
       "    </tr>\n",
       "    <tr>\n",
       "      <th>3</th>\n",
       "      <td>[]</td>\n",
       "      <td>Nephotettix cincticeps</td>\n",
       "      <td>Ace-orthologous acetylcholinesterase</td>\n",
       "      <td>17.0</td>\n",
       "      <td>False</td>\n",
       "      <td>CHEMBL2366514</td>\n",
       "      <td>[{'accession': 'Q9NJH6', 'component_descriptio...</td>\n",
       "      <td>SINGLE PROTEIN</td>\n",
       "      <td>94400</td>\n",
       "    </tr>\n",
       "    <tr>\n",
       "      <th>4</th>\n",
       "      <td>[{'xref_id': 'P04058', 'xref_name': None, 'xre...</td>\n",
       "      <td>Torpedo californica</td>\n",
       "      <td>Acetylcholinesterase</td>\n",
       "      <td>15.0</td>\n",
       "      <td>False</td>\n",
       "      <td>CHEMBL4780</td>\n",
       "      <td>[{'accession': 'P04058', 'component_descriptio...</td>\n",
       "      <td>SINGLE PROTEIN</td>\n",
       "      <td>7787</td>\n",
       "    </tr>\n",
       "    <tr>\n",
       "      <th>5</th>\n",
       "      <td>[{'xref_id': 'P21836', 'xref_name': None, 'xre...</td>\n",
       "      <td>Mus musculus</td>\n",
       "      <td>Acetylcholinesterase</td>\n",
       "      <td>15.0</td>\n",
       "      <td>False</td>\n",
       "      <td>CHEMBL3198</td>\n",
       "      <td>[{'accession': 'P21836', 'component_descriptio...</td>\n",
       "      <td>SINGLE PROTEIN</td>\n",
       "      <td>10090</td>\n",
       "    </tr>\n",
       "    <tr>\n",
       "      <th>6</th>\n",
       "      <td>[{'xref_id': 'P37136', 'xref_name': None, 'xre...</td>\n",
       "      <td>Rattus norvegicus</td>\n",
       "      <td>Acetylcholinesterase</td>\n",
       "      <td>15.0</td>\n",
       "      <td>False</td>\n",
       "      <td>CHEMBL3199</td>\n",
       "      <td>[{'accession': 'P37136', 'component_descriptio...</td>\n",
       "      <td>SINGLE PROTEIN</td>\n",
       "      <td>10116</td>\n",
       "    </tr>\n",
       "    <tr>\n",
       "      <th>7</th>\n",
       "      <td>[{'xref_id': 'O42275', 'xref_name': None, 'xre...</td>\n",
       "      <td>Electrophorus electricus</td>\n",
       "      <td>Acetylcholinesterase</td>\n",
       "      <td>15.0</td>\n",
       "      <td>False</td>\n",
       "      <td>CHEMBL4078</td>\n",
       "      <td>[{'accession': 'O42275', 'component_descriptio...</td>\n",
       "      <td>SINGLE PROTEIN</td>\n",
       "      <td>8005</td>\n",
       "    </tr>\n",
       "    <tr>\n",
       "      <th>8</th>\n",
       "      <td>[{'xref_id': 'P23795', 'xref_name': None, 'xre...</td>\n",
       "      <td>Bos taurus</td>\n",
       "      <td>Acetylcholinesterase</td>\n",
       "      <td>15.0</td>\n",
       "      <td>False</td>\n",
       "      <td>CHEMBL4768</td>\n",
       "      <td>[{'accession': 'P23795', 'component_descriptio...</td>\n",
       "      <td>SINGLE PROTEIN</td>\n",
       "      <td>9913</td>\n",
       "    </tr>\n",
       "    <tr>\n",
       "      <th>9</th>\n",
       "      <td>[]</td>\n",
       "      <td>Anopheles gambiae</td>\n",
       "      <td>Acetylcholinesterase</td>\n",
       "      <td>15.0</td>\n",
       "      <td>False</td>\n",
       "      <td>CHEMBL2046266</td>\n",
       "      <td>[{'accession': 'Q869C3', 'component_descriptio...</td>\n",
       "      <td>SINGLE PROTEIN</td>\n",
       "      <td>7165</td>\n",
       "    </tr>\n",
       "    <tr>\n",
       "      <th>10</th>\n",
       "      <td>[]</td>\n",
       "      <td>Leptinotarsa decemlineata</td>\n",
       "      <td>Acetylcholinesterase</td>\n",
       "      <td>15.0</td>\n",
       "      <td>False</td>\n",
       "      <td>CHEMBL2366490</td>\n",
       "      <td>[{'accession': 'Q27677', 'component_descriptio...</td>\n",
       "      <td>SINGLE PROTEIN</td>\n",
       "      <td>7539</td>\n",
       "    </tr>\n",
       "    <tr>\n",
       "      <th>11</th>\n",
       "      <td>[]</td>\n",
       "      <td>Gallus gallus</td>\n",
       "      <td>Acetylcholinesterase</td>\n",
       "      <td>15.0</td>\n",
       "      <td>False</td>\n",
       "      <td>CHEMBL3227914</td>\n",
       "      <td>[{'accession': 'P36196', 'component_descriptio...</td>\n",
       "      <td>SINGLE PROTEIN</td>\n",
       "      <td>9031</td>\n",
       "    </tr>\n",
       "    <tr>\n",
       "      <th>12</th>\n",
       "      <td>[]</td>\n",
       "      <td>Danio rerio</td>\n",
       "      <td>Acetylcholinesterase</td>\n",
       "      <td>15.0</td>\n",
       "      <td>False</td>\n",
       "      <td>CHEMBL3308995</td>\n",
       "      <td>[{'accession': 'Q9DDE3', 'component_descriptio...</td>\n",
       "      <td>SINGLE PROTEIN</td>\n",
       "      <td>7955</td>\n",
       "    </tr>\n",
       "    <tr>\n",
       "      <th>13</th>\n",
       "      <td>[]</td>\n",
       "      <td>Aedes aegypti</td>\n",
       "      <td>Acetylcholinesterase</td>\n",
       "      <td>15.0</td>\n",
       "      <td>False</td>\n",
       "      <td>CHEMBL4295607</td>\n",
       "      <td>[{'accession': 'Q6A2E2', 'component_descriptio...</td>\n",
       "      <td>SINGLE PROTEIN</td>\n",
       "      <td>7159</td>\n",
       "    </tr>\n",
       "    <tr>\n",
       "      <th>14</th>\n",
       "      <td>[{'xref_id': 'Q95P20', 'xref_name': None, 'xre...</td>\n",
       "      <td>Musca domestica</td>\n",
       "      <td>Acetylcholinesterase</td>\n",
       "      <td>14.0</td>\n",
       "      <td>False</td>\n",
       "      <td>CHEMBL5752</td>\n",
       "      <td>[{'accession': 'Q95P20', 'component_descriptio...</td>\n",
       "      <td>SINGLE PROTEIN</td>\n",
       "      <td>7370</td>\n",
       "    </tr>\n",
       "    <tr>\n",
       "      <th>15</th>\n",
       "      <td>[]</td>\n",
       "      <td>Plutella xylostella</td>\n",
       "      <td>Acetylcholinesterase</td>\n",
       "      <td>14.0</td>\n",
       "      <td>False</td>\n",
       "      <td>CHEMBL2242729</td>\n",
       "      <td>[{'accession': 'Q8MZM0', 'component_descriptio...</td>\n",
       "      <td>SINGLE PROTEIN</td>\n",
       "      <td>51655</td>\n",
       "    </tr>\n",
       "    <tr>\n",
       "      <th>16</th>\n",
       "      <td>[]</td>\n",
       "      <td>Musca domestica</td>\n",
       "      <td>Acetylcholinesterase</td>\n",
       "      <td>14.0</td>\n",
       "      <td>False</td>\n",
       "      <td>CHEMBL2242743</td>\n",
       "      <td>[{'accession': 'Q7YWJ9', 'component_descriptio...</td>\n",
       "      <td>SINGLE PROTEIN</td>\n",
       "      <td>7370</td>\n",
       "    </tr>\n",
       "    <tr>\n",
       "      <th>17</th>\n",
       "      <td>[]</td>\n",
       "      <td>Pediculus humanus capitis</td>\n",
       "      <td>Acetylcholinesterase</td>\n",
       "      <td>14.0</td>\n",
       "      <td>False</td>\n",
       "      <td>CHEMBL2362988</td>\n",
       "      <td>[{'accession': 'A2PZ98', 'component_descriptio...</td>\n",
       "      <td>SINGLE PROTEIN</td>\n",
       "      <td>121226</td>\n",
       "    </tr>\n",
       "    <tr>\n",
       "      <th>18</th>\n",
       "      <td>[]</td>\n",
       "      <td>Spodoptera litura</td>\n",
       "      <td>Acetylcholinesterase</td>\n",
       "      <td>14.0</td>\n",
       "      <td>False</td>\n",
       "      <td>CHEMBL2366422</td>\n",
       "      <td>[{'accession': 'C5IU80', 'component_descriptio...</td>\n",
       "      <td>SINGLE PROTEIN</td>\n",
       "      <td>69820</td>\n",
       "    </tr>\n",
       "    <tr>\n",
       "      <th>19</th>\n",
       "      <td>[]</td>\n",
       "      <td>Laodelphax striatella</td>\n",
       "      <td>Acetylcholinesterase</td>\n",
       "      <td>14.0</td>\n",
       "      <td>False</td>\n",
       "      <td>CHEMBL2366446</td>\n",
       "      <td>[{'accession': 'K4JQ36', 'component_descriptio...</td>\n",
       "      <td>SINGLE PROTEIN</td>\n",
       "      <td>195883</td>\n",
       "    </tr>\n",
       "    <tr>\n",
       "      <th>20</th>\n",
       "      <td>[]</td>\n",
       "      <td>Schizaphis graminum</td>\n",
       "      <td>Acetylcholinesterase</td>\n",
       "      <td>14.0</td>\n",
       "      <td>False</td>\n",
       "      <td>CHEMBL2366511</td>\n",
       "      <td>[{'accession': 'Q9BMJ1', 'component_descriptio...</td>\n",
       "      <td>SINGLE PROTEIN</td>\n",
       "      <td>13262</td>\n",
       "    </tr>\n",
       "    <tr>\n",
       "      <th>21</th>\n",
       "      <td>[]</td>\n",
       "      <td>Caenorhabditis elegans</td>\n",
       "      <td>Acetylcholinesterase 1</td>\n",
       "      <td>14.0</td>\n",
       "      <td>False</td>\n",
       "      <td>CHEMBL3341583</td>\n",
       "      <td>[{'accession': 'P38433', 'component_descriptio...</td>\n",
       "      <td>SINGLE PROTEIN</td>\n",
       "      <td>6239</td>\n",
       "    </tr>\n",
       "    <tr>\n",
       "      <th>22</th>\n",
       "      <td>[]</td>\n",
       "      <td>Rattus norvegicus</td>\n",
       "      <td>Acetylcholinesterase and butyrylcholinesterase...</td>\n",
       "      <td>13.0</td>\n",
       "      <td>False</td>\n",
       "      <td>CHEMBL2111475</td>\n",
       "      <td>[{'accession': 'P37136', 'component_descriptio...</td>\n",
       "      <td>SELECTIVITY GROUP</td>\n",
       "      <td>10116</td>\n",
       "    </tr>\n",
       "  </tbody>\n",
       "</table>\n",
       "</div>"
      ],
      "text/plain": [
       "                                     cross_references  \\\n",
       "0   [{'xref_id': 'P22303', 'xref_name': None, 'xre...   \n",
       "1                                                  []   \n",
       "2                                                  []   \n",
       "3                                                  []   \n",
       "4   [{'xref_id': 'P04058', 'xref_name': None, 'xre...   \n",
       "5   [{'xref_id': 'P21836', 'xref_name': None, 'xre...   \n",
       "6   [{'xref_id': 'P37136', 'xref_name': None, 'xre...   \n",
       "7   [{'xref_id': 'O42275', 'xref_name': None, 'xre...   \n",
       "8   [{'xref_id': 'P23795', 'xref_name': None, 'xre...   \n",
       "9                                                  []   \n",
       "10                                                 []   \n",
       "11                                                 []   \n",
       "12                                                 []   \n",
       "13                                                 []   \n",
       "14  [{'xref_id': 'Q95P20', 'xref_name': None, 'xre...   \n",
       "15                                                 []   \n",
       "16                                                 []   \n",
       "17                                                 []   \n",
       "18                                                 []   \n",
       "19                                                 []   \n",
       "20                                                 []   \n",
       "21                                                 []   \n",
       "22                                                 []   \n",
       "\n",
       "                     organism  \\\n",
       "0                Homo sapiens   \n",
       "1                Homo sapiens   \n",
       "2     Drosophila melanogaster   \n",
       "3      Nephotettix cincticeps   \n",
       "4         Torpedo californica   \n",
       "5                Mus musculus   \n",
       "6           Rattus norvegicus   \n",
       "7    Electrophorus electricus   \n",
       "8                  Bos taurus   \n",
       "9           Anopheles gambiae   \n",
       "10  Leptinotarsa decemlineata   \n",
       "11              Gallus gallus   \n",
       "12                Danio rerio   \n",
       "13              Aedes aegypti   \n",
       "14            Musca domestica   \n",
       "15        Plutella xylostella   \n",
       "16            Musca domestica   \n",
       "17  Pediculus humanus capitis   \n",
       "18          Spodoptera litura   \n",
       "19      Laodelphax striatella   \n",
       "20        Schizaphis graminum   \n",
       "21     Caenorhabditis elegans   \n",
       "22          Rattus norvegicus   \n",
       "\n",
       "                                            pref_name  score  \\\n",
       "0                                Acetylcholinesterase   27.0   \n",
       "1                        Cholinesterases; ACHE & BCHE   27.0   \n",
       "2                                Acetylcholinesterase   17.0   \n",
       "3                Ace-orthologous acetylcholinesterase   17.0   \n",
       "4                                Acetylcholinesterase   15.0   \n",
       "5                                Acetylcholinesterase   15.0   \n",
       "6                                Acetylcholinesterase   15.0   \n",
       "7                                Acetylcholinesterase   15.0   \n",
       "8                                Acetylcholinesterase   15.0   \n",
       "9                                Acetylcholinesterase   15.0   \n",
       "10                               Acetylcholinesterase   15.0   \n",
       "11                               Acetylcholinesterase   15.0   \n",
       "12                               Acetylcholinesterase   15.0   \n",
       "13                               Acetylcholinesterase   15.0   \n",
       "14                               Acetylcholinesterase   14.0   \n",
       "15                               Acetylcholinesterase   14.0   \n",
       "16                               Acetylcholinesterase   14.0   \n",
       "17                               Acetylcholinesterase   14.0   \n",
       "18                               Acetylcholinesterase   14.0   \n",
       "19                               Acetylcholinesterase   14.0   \n",
       "20                               Acetylcholinesterase   14.0   \n",
       "21                             Acetylcholinesterase 1   14.0   \n",
       "22  Acetylcholinesterase and butyrylcholinesterase...   13.0   \n",
       "\n",
       "    species_group_flag target_chembl_id  \\\n",
       "0                False        CHEMBL220   \n",
       "1                False    CHEMBL2095233   \n",
       "2                False    CHEMBL2242744   \n",
       "3                False    CHEMBL2366514   \n",
       "4                False       CHEMBL4780   \n",
       "5                False       CHEMBL3198   \n",
       "6                False       CHEMBL3199   \n",
       "7                False       CHEMBL4078   \n",
       "8                False       CHEMBL4768   \n",
       "9                False    CHEMBL2046266   \n",
       "10               False    CHEMBL2366490   \n",
       "11               False    CHEMBL3227914   \n",
       "12               False    CHEMBL3308995   \n",
       "13               False    CHEMBL4295607   \n",
       "14               False       CHEMBL5752   \n",
       "15               False    CHEMBL2242729   \n",
       "16               False    CHEMBL2242743   \n",
       "17               False    CHEMBL2362988   \n",
       "18               False    CHEMBL2366422   \n",
       "19               False    CHEMBL2366446   \n",
       "20               False    CHEMBL2366511   \n",
       "21               False    CHEMBL3341583   \n",
       "22               False    CHEMBL2111475   \n",
       "\n",
       "                                    target_components        target_type  \\\n",
       "0   [{'accession': 'P22303', 'component_descriptio...     SINGLE PROTEIN   \n",
       "1   [{'accession': 'P06276', 'component_descriptio...  SELECTIVITY GROUP   \n",
       "2   [{'accession': 'P07140', 'component_descriptio...     SINGLE PROTEIN   \n",
       "3   [{'accession': 'Q9NJH6', 'component_descriptio...     SINGLE PROTEIN   \n",
       "4   [{'accession': 'P04058', 'component_descriptio...     SINGLE PROTEIN   \n",
       "5   [{'accession': 'P21836', 'component_descriptio...     SINGLE PROTEIN   \n",
       "6   [{'accession': 'P37136', 'component_descriptio...     SINGLE PROTEIN   \n",
       "7   [{'accession': 'O42275', 'component_descriptio...     SINGLE PROTEIN   \n",
       "8   [{'accession': 'P23795', 'component_descriptio...     SINGLE PROTEIN   \n",
       "9   [{'accession': 'Q869C3', 'component_descriptio...     SINGLE PROTEIN   \n",
       "10  [{'accession': 'Q27677', 'component_descriptio...     SINGLE PROTEIN   \n",
       "11  [{'accession': 'P36196', 'component_descriptio...     SINGLE PROTEIN   \n",
       "12  [{'accession': 'Q9DDE3', 'component_descriptio...     SINGLE PROTEIN   \n",
       "13  [{'accession': 'Q6A2E2', 'component_descriptio...     SINGLE PROTEIN   \n",
       "14  [{'accession': 'Q95P20', 'component_descriptio...     SINGLE PROTEIN   \n",
       "15  [{'accession': 'Q8MZM0', 'component_descriptio...     SINGLE PROTEIN   \n",
       "16  [{'accession': 'Q7YWJ9', 'component_descriptio...     SINGLE PROTEIN   \n",
       "17  [{'accession': 'A2PZ98', 'component_descriptio...     SINGLE PROTEIN   \n",
       "18  [{'accession': 'C5IU80', 'component_descriptio...     SINGLE PROTEIN   \n",
       "19  [{'accession': 'K4JQ36', 'component_descriptio...     SINGLE PROTEIN   \n",
       "20  [{'accession': 'Q9BMJ1', 'component_descriptio...     SINGLE PROTEIN   \n",
       "21  [{'accession': 'P38433', 'component_descriptio...     SINGLE PROTEIN   \n",
       "22  [{'accession': 'P37136', 'component_descriptio...  SELECTIVITY GROUP   \n",
       "\n",
       "    tax_id  \n",
       "0     9606  \n",
       "1     9606  \n",
       "2     7227  \n",
       "3    94400  \n",
       "4     7787  \n",
       "5    10090  \n",
       "6    10116  \n",
       "7     8005  \n",
       "8     9913  \n",
       "9     7165  \n",
       "10    7539  \n",
       "11    9031  \n",
       "12    7955  \n",
       "13    7159  \n",
       "14    7370  \n",
       "15   51655  \n",
       "16    7370  \n",
       "17  121226  \n",
       "18   69820  \n",
       "19  195883  \n",
       "20   13262  \n",
       "21    6239  \n",
       "22   10116  "
      ]
     },
     "execution_count": 4,
     "metadata": {},
     "output_type": "execute_result"
    }
   ],
   "source": [
    "# Target search for coronavirus\n",
    "target = new_client.target\n",
    "target_query = target.search('acetylcholinesterase')\n",
    "targets = pd.DataFrame.from_dict(target_query)\n",
    "targets"
   ]
  },
  {
   "cell_type": "markdown",
   "metadata": {
    "colab_type": "text",
    "id": "Y5OPfEALjAfZ"
   },
   "source": [
    "### **Select and retrieve bioactivity data for *Human Acetylcholinesterase* (first entry)**"
   ]
  },
  {
   "cell_type": "markdown",
   "metadata": {
    "colab_type": "text",
    "id": "gSQ3aroOgML7"
   },
   "source": [
    "We will assign the fifth entry (which corresponds to the target protein, *Human Acetylcholinesterase*) to the ***selected_target*** variable "
   ]
  },
  {
   "cell_type": "code",
   "execution_count": 5,
   "metadata": {
    "colab": {
     "base_uri": "https://localhost:8080/",
     "height": 34
    },
    "colab_type": "code",
    "id": "StrcHMVLha7u",
    "outputId": "6cd12d1e-46b2-47ce-efcb-7d3c49fa3712"
   },
   "outputs": [
    {
     "data": {
      "text/plain": [
       "'CHEMBL220'"
      ]
     },
     "execution_count": 5,
     "metadata": {},
     "output_type": "execute_result"
    }
   ],
   "source": [
    "selected_target = targets.target_chembl_id[0]\n",
    "selected_target"
   ]
  },
  {
   "cell_type": "markdown",
   "metadata": {
    "colab_type": "text",
    "id": "GWd2DRalgjzB"
   },
   "source": [
    "Here, we will retrieve only bioactivity data for *Human Acetylcholinesterase* (CHEMBL220) that are reported as pChEMBL values."
   ]
  },
  {
   "cell_type": "code",
   "execution_count": 6,
   "metadata": {
    "colab": {},
    "colab_type": "code",
    "id": "LeFbV_CsSP8D"
   },
   "outputs": [],
   "source": [
    "activity = new_client.activity\n",
    "res = activity.filter(target_chembl_id=selected_target).filter(standard_type=\"IC50\")"
   ]
  },
  {
   "cell_type": "code",
   "execution_count": null,
   "metadata": {
    "colab": {},
    "colab_type": "code",
    "id": "LrzAcEFnYzBY"
   },
   "outputs": [],
   "source": [
    "df = pd.DataFrame.from_dict(res)"
   ]
  },
  {
   "cell_type": "code",
   "execution_count": null,
   "metadata": {
    "colab": {
     "base_uri": "https://localhost:8080/",
     "height": 779
    },
    "colab_type": "code",
    "id": "s9iUAXFdSkoM",
    "outputId": "bb88ea44-9a54-44bf-b178-07558a80edb6"
   },
   "outputs": [],
   "source": [
    "df"
   ]
  },
  {
   "cell_type": "markdown",
   "metadata": {
    "colab_type": "text",
    "id": "fQ78N26Fg15T"
   },
   "source": [
    "Finally we will save the resulting bioactivity data to a CSV file **bioactivity_data.csv**."
   ]
  },
  {
   "cell_type": "code",
   "execution_count": null,
   "metadata": {
    "colab": {},
    "colab_type": "code",
    "id": "ZvUUEIVxTOH1"
   },
   "outputs": [],
   "source": [
    "df.to_csv('acetylcholinesterase_01_bioactivity_data_raw.csv', index=False)"
   ]
  },
  {
   "cell_type": "markdown",
   "metadata": {
    "colab_type": "text",
    "id": "_GXMpFNUOn_8"
   },
   "source": [
    "## **Handling missing data**\n",
    "If any compounds has missing value for the **standard_value** and **canonical_smiles** column then drop it."
   ]
  },
  {
   "cell_type": "code",
   "execution_count": null,
   "metadata": {
    "colab": {
     "base_uri": "https://localhost:8080/",
     "height": 813
    },
    "colab_type": "code",
    "id": "hkVOdk6ZR396",
    "outputId": "f8a638fe-75d1-4fae-d4c8-b3b1e6458174"
   },
   "outputs": [],
   "source": [
    "df2 = df[df.standard_value.notna()]\n",
    "df2 = df2[df.canonical_smiles.notna()]\n",
    "df2"
   ]
  },
  {
   "cell_type": "code",
   "execution_count": null,
   "metadata": {
    "colab": {
     "base_uri": "https://localhost:8080/",
     "height": 34
    },
    "colab_type": "code",
    "id": "wCkuaeVNbdtM",
    "outputId": "9da80bc3-c1cb-4348-ce04-f90f57217995"
   },
   "outputs": [],
   "source": [
    "len(df2.canonical_smiles.unique())"
   ]
  },
  {
   "cell_type": "code",
   "execution_count": null,
   "metadata": {
    "colab": {
     "base_uri": "https://localhost:8080/",
     "height": 779
    },
    "colab_type": "code",
    "id": "JbAK3K7wclkS",
    "outputId": "1c623da3-bb53-44e8-8704-24161fa54d74"
   },
   "outputs": [],
   "source": [
    "df2_nr = df2.drop_duplicates(['canonical_smiles'])\n",
    "df2_nr"
   ]
  },
  {
   "cell_type": "markdown",
   "metadata": {
    "colab_type": "text",
    "id": "5H4sSFAWhV9B"
   },
   "source": [
    "## **Data pre-processing of the bioactivity data**"
   ]
  },
  {
   "cell_type": "markdown",
   "metadata": {
    "colab_type": "text",
    "id": "Nv2dzid_hzKd"
   },
   "source": [
    "### **Combine the 3 columns (molecule_chembl_id,canonical_smiles,standard_value) and bioactivity_class into a DataFrame**"
   ]
  },
  {
   "cell_type": "code",
   "execution_count": null,
   "metadata": {
    "colab": {
     "base_uri": "https://localhost:8080/",
     "height": 419
    },
    "colab_type": "code",
    "id": "0NCLYmrASgha",
    "outputId": "d85ee5a6-e7bc-4be6-a621-6df526d065f9"
   },
   "outputs": [],
   "source": [
    "selection = ['molecule_chembl_id','canonical_smiles','standard_value']\n",
    "df3 = df2_nr[selection]\n",
    "df3"
   ]
  },
  {
   "cell_type": "markdown",
   "metadata": {
    "colab_type": "text",
    "id": "d0ObVWGmkj_L"
   },
   "source": [
    "Saves dataframe to CSV file"
   ]
  },
  {
   "cell_type": "code",
   "execution_count": null,
   "metadata": {
    "colab": {},
    "colab_type": "code",
    "id": "pAzJTVu4kMd_"
   },
   "outputs": [],
   "source": [
    "df3.to_csv('acetylcholinesterase_02_bioactivity_data_preprocessed.csv', index=False)"
   ]
  },
  {
   "cell_type": "markdown",
   "metadata": {
    "colab_type": "text",
    "id": "tO22XVlzhkXR"
   },
   "source": [
    "### **Labeling compounds as either being active, inactive or intermediate**\n",
    "The bioactivity data is in the IC50 unit. Compounds having values of less than 1000 nM will be considered to be **active** while those greater than 10,000 nM will be considered to be **inactive**. As for those values in between 1,000 and 10,000 nM will be referred to as **intermediate**. "
   ]
  },
  {
   "cell_type": "code",
   "execution_count": null,
   "metadata": {
    "colab": {},
    "colab_type": "code",
    "id": "Ck9Z2M9CkRy_"
   },
   "outputs": [],
   "source": [
    "df4 = pd.read_csv('acetylcholinesterase_02_bioactivity_data_preprocessed.csv')"
   ]
  },
  {
   "cell_type": "code",
   "execution_count": null,
   "metadata": {
    "colab": {},
    "colab_type": "code",
    "id": "1E8rz7oMOd-5"
   },
   "outputs": [],
   "source": [
    "bioactivity_threshold = []\n",
    "for i in df4.standard_value:\n",
    "  if float(i) >= 10000:\n",
    "    bioactivity_threshold.append(\"inactive\")\n",
    "  elif float(i) <= 1000:\n",
    "    bioactivity_threshold.append(\"active\")\n",
    "  else:\n",
    "    bioactivity_threshold.append(\"intermediate\")"
   ]
  },
  {
   "cell_type": "code",
   "execution_count": null,
   "metadata": {
    "colab": {
     "base_uri": "https://localhost:8080/",
     "height": 419
    },
    "colab_type": "code",
    "id": "Li64nUiZQ-y2",
    "outputId": "18546d01-c66f-4f6e-aca8-14562339ba17"
   },
   "outputs": [],
   "source": [
    "bioactivity_class = pd.Series(bioactivity_threshold, name='class')\n",
    "df5 = pd.concat([df4, bioactivity_class], axis=1)\n",
    "df5"
   ]
  },
  {
   "cell_type": "markdown",
   "metadata": {
    "colab_type": "text",
    "id": "9tlgyexWh7YJ"
   },
   "source": [
    "Saves dataframe to CSV file"
   ]
  },
  {
   "cell_type": "code",
   "execution_count": null,
   "metadata": {
    "colab": {},
    "colab_type": "code",
    "id": "nSNia7suXstR"
   },
   "outputs": [],
   "source": [
    "df5.to_csv('acetylcholinesterase_03_bioactivity_data_curated.csv', index=False)"
   ]
  },
  {
   "cell_type": "code",
   "execution_count": null,
   "metadata": {
    "colab": {
     "base_uri": "https://localhost:8080/",
     "height": 68
    },
    "colab_type": "code",
    "id": "0eCQTu9MnzyH",
    "outputId": "bb0dd61b-5a21-44cb-cb12-f356784c7b7e"
   },
   "outputs": [],
   "source": [
    "! zip acetylcholinesterase.zip *.csv"
   ]
  },
  {
   "cell_type": "code",
   "execution_count": null,
   "metadata": {
    "colab": {
     "base_uri": "https://localhost:8080/",
     "height": 119
    },
    "colab_type": "code",
    "id": "UuZf5-MEd-H5",
    "outputId": "d27dac4e-a925-4645-9e0d-ab43127b4eb2"
   },
   "outputs": [],
   "source": [
    "! ls -l"
   ]
  },
  {
   "cell_type": "markdown",
   "metadata": {
    "colab_type": "text",
    "id": "ZywB5K_Dlawb"
   },
   "source": [
    "---"
   ]
  }
 ],
 "metadata": {
  "colab": {
   "collapsed_sections": [],
   "name": "CDD-ML-Part-1-Bioactivity-Data-Concised-Acetylcholinesterase.ipynb",
   "provenance": []
  },
  "kernelspec": {
   "display_name": "Python 3",
   "language": "python",
   "name": "python3"
  },
  "language_info": {
   "codemirror_mode": {
    "name": "ipython",
    "version": 3
   },
   "file_extension": ".py",
   "mimetype": "text/x-python",
   "name": "python",
   "nbconvert_exporter": "python",
   "pygments_lexer": "ipython3",
   "version": "3.7.6"
  }
 },
 "nbformat": 4,
 "nbformat_minor": 4
}
