{
 "cells": [
  {
   "cell_type": "markdown",
   "metadata": {},
   "source": [
    "# Simulação de caixa eletronico, onde o cliente terá saldo, o caixa terá notas disponiveis"
   ]
  },
  {
   "cell_type": "code",
   "execution_count": 27,
   "metadata": {},
   "outputs": [
    {
     "name": "stdout",
     "output_type": "stream",
     "text": [
      "Informe o numero da CONTA: 12\n",
      "Deseja criar uma conta ou sair? 1(criar) - 2 (sair): 2\n",
      "Encerrado\n",
      "Tenha uma Boa Tarde\n",
      "13:28\n"
     ]
    }
   ],
   "source": [
    "import time as tm\n",
    "from datetime import datetime, time\n",
    "\n",
    "hora = time(hour=12, minute=0).isoformat(timespec='minutes')\n",
    "hora1 = time(hour=18, minute=0).isoformat(timespec='minutes')\n",
    "\n",
    "horatual = tm.localtime()\n",
    "\n",
    "display = tm.strftime(\"%H:%M\",horatual)\n",
    "\n",
    "def acessar():\n",
    "    n_conta = 1234\n",
    "    conta = int(input(\"Informe o numero da CONTA: \"))\n",
    "    if conta == n_conta:\n",
    "        sacar()\n",
    "    else:\n",
    "        n_conta = int(input(\"Deseja criar uma conta ou sair? 1(criar) - 2 (sair): \"))\n",
    "        if n_conta == 1:\n",
    "            criar()\n",
    "        else:    \n",
    "            sair()\n",
    "        \n",
    "def sacar():\n",
    "    print(\"   XXXXX - CAIXA ELETRONICO - XXXXX\")\n",
    "    print(\"valor Minimo #$ 10 e Maximo R$ 500\")\n",
    "    saque = int(input('Digite o valor para o saque: '))\n",
    "\n",
    "    # notas disponiveis no caixa eletronico\n",
    "    notas_cem = 50\n",
    "    notas_cinquenta = 40\n",
    "    notas_vinte = 100\n",
    "    #saldo do cliente\n",
    "    saldo = 150\n",
    "\n",
    "    if saque > saldo:\n",
    "        print('saldo insuficiente')\n",
    "        print('Saldo disponível: {}'.format(saldo))\n",
    "        sacar()\n",
    "    else:\n",
    "        if 10 < saque <= 500 and saque % 10 == 0:\n",
    "            cem = saque // 100\n",
    "            if cem > notas_cem: \n",
    "                print('pode sacar')\n",
    "        else:    \n",
    "             print('digite um valor valido')\n",
    "             sacar()\n",
    "\n",
    "def criar():\n",
    "    print('CRIAR conta')\n",
    "    pass\n",
    "\n",
    "\n",
    "def sair():\n",
    "    print('Encerrado')\n",
    "    if str(display) > str(hora1):\n",
    "        print('Tenha uma Boa Noite')\n",
    "        print(display)\n",
    "\n",
    "\n",
    "    elif  str(hora) < str(display) < str(hora1):\n",
    "        print('Tenha uma Boa Tarde')\n",
    "        print(display)\n",
    "    else:\n",
    "        print('Tenha um Boa Dia')\n",
    "        print(display)\n",
    "                \n",
    "acessar()            "
   ]
  },
  {
   "cell_type": "code",
   "execution_count": 39,
   "metadata": {},
   "outputs": [
    {
     "data": {
      "text/plain": [
       "array([1, 6])"
      ]
     },
     "execution_count": 39,
     "metadata": {},
     "output_type": "execute_result"
    }
   ],
   "source": [
    "import numpy as np\n",
    "\n",
    "array = np.arange(15)\n",
    "array[1:9:5]"
   ]
  },
  {
   "cell_type": "code",
   "execution_count": 44,
   "metadata": {},
   "outputs": [
    {
     "data": {
      "text/plain": [
       "8"
      ]
     },
     "execution_count": 44,
     "metadata": {},
     "output_type": "execute_result"
    }
   ],
   "source": [
    "ara = np.array([4, 6, 7, 8, 9, 2, 4, 3, 6])\n",
    "ara[::-1]\n",
    "ara[3]"
   ]
  },
  {
   "cell_type": "code",
   "execution_count": null,
   "metadata": {},
   "outputs": [],
   "source": []
  }
 ],
 "metadata": {
  "kernelspec": {
   "display_name": "Python 3",
   "language": "python",
   "name": "python3"
  },
  "language_info": {
   "codemirror_mode": {
    "name": "ipython",
    "version": 3
   },
   "file_extension": ".py",
   "mimetype": "text/x-python",
   "name": "python",
   "nbconvert_exporter": "python",
   "pygments_lexer": "ipython3",
   "version": "3.7.3"
  }
 },
 "nbformat": 4,
 "nbformat_minor": 2
}
