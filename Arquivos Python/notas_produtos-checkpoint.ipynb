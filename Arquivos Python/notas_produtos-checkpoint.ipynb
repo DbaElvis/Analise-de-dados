{
 "cells": [
  {
   "cell_type": "code",
   "execution_count": 4,
   "metadata": {},
   "outputs": [
    {
     "name": "stdout",
     "output_type": "stream",
     "text": [
      "12:00\n",
      "2019-09-07 22:19:13.203290\n",
      "True\n",
      "Boa Noite\n"
     ]
    }
   ],
   "source": [
    "import datetime as tm\n",
    "from datetime import datetime, time\n",
    "\n",
    "hora = time(hour=12, minute=0).isoformat(timespec='minutes')\n",
    "hora1 = time(hour=18, minute=0).isoformat(timespec='minutes')\n",
    "agora = datetime.now( )\n",
    "\n",
    "\n",
    "\n",
    "print(hora)\n",
    "print(agora)\n",
    "\n",
    "print(str(agora) > str(hora))\n",
    "\n",
    "if str(agora) > str(hora1):\n",
    "    print('Boa Noite')\n",
    "\n",
    "\n",
    "elif  str(agora) > str(hora):\n",
    "    print('Boa Tarde')\n",
    "\n",
    "else:\n",
    "    print('Boa Dia')"
   ]
  },
  {
   "cell_type": "code",
   "execution_count": 1,
   "metadata": {},
   "outputs": [
    {
     "name": "stdout",
     "output_type": "stream",
     "text": [
      "XXX MENU DE OPÇÕES XXX\n",
      "1 - Entrada\n",
      "2 - Saida\n",
      "3 - Relatorio\n",
      "Escolha uma das opções: 3\n",
      "Relatorio de materiais\n",
      "\n",
      "\n",
      "  100      sasa\n",
      "\n",
      "       sal   1000.00   0.50    500.00\n",
      "\n",
      "      alho   2000.00   2.80   5600.00\n",
      "\n",
      "  200       Fox\n",
      "\n",
      "      tela     20.00 300.00   6000.00\n",
      "\n",
      "     mouse     50.00   9.00    450.00\n",
      "\n",
      "  900     refor    2019-09-07T21:43\n",
      "\n",
      "   monitor     10.00 190.00   1900.00\n",
      "\n",
      "   process     30.00 490.00  14700.00\n",
      "\n"
     ]
    }
   ],
   "source": [
    "import datetime as tm\n",
    "from datetime import datetime, time\n",
    "\n",
    "hora = time(hour=12, minute=00).isoformat(timespec='minutes')\n",
    "hora1 = time(hour=18, minute=00).isoformat(timespec='minutes')\n",
    "agora = datetime.now( ).isoformat(timespec='minutes')\n",
    "\n",
    "def nota():   \n",
    "    produto = input('Descricao: ')\n",
    "    qtd = float(input('Quantidade: '))\n",
    "    preco = float(input('Preço unitario: '))\n",
    "    f = open('notas.txt', 'a')\n",
    "    f.write(\"%10s%10.2f%7.2f%10.2f\\n\"%(produto, qtd, preco, preco * qtd))\n",
    "    f.close()\n",
    "    print()\n",
    "    nota()\n",
    "\n",
    "\n",
    "\n",
    "def entrada():\n",
    "    print('Entrada de materiais')\n",
    "    numero = int(input('Numero da nota: '))\n",
    "    fornecedor = input('Fornecedor: ')\n",
    "    f = open('notas.txt', 'a')\n",
    "    f.write(\"%5i%10s%20s\\n\"%(numero, fornecedor, agora))\n",
    "    f.close()\n",
    "    print()\n",
    "    nota()\n",
    "    \n",
    "def saida():\n",
    "    print('Saida de materiais')\n",
    "    \n",
    "def relatorio():\n",
    "    print('Relatorio de materiais')\n",
    "    f = open('notas.txt', 'r')\n",
    "    for x in f:\n",
    "        print(x)\n",
    "    f.close()\n",
    "    \n",
    "    \n",
    "print('XXX MENU DE OPÇÕES XXX')\n",
    "opcoes = ['1 - Entrada', '2 - Saida', '3 - Relatorio']\n",
    "\n",
    "for x in opcoes:\n",
    "    print(x)\n",
    "    \n",
    "opc = int(input('Escolha uma das opções: '))\n",
    "\n",
    "if opc == 1:\n",
    "    entrada()\n",
    "        \n",
    "if opc == 2:\n",
    "    saida()\n",
    "        \n",
    "if opc == 3:\n",
    "    relatorio()\n",
    "        \n"
   ]
  },
  {
   "cell_type": "code",
   "execution_count": 2,
   "metadata": {},
   "outputs": [
    {
     "name": "stdout",
     "output_type": "stream",
     "text": [
      "\n",
      "\n",
      "  100      sasa\n",
      "\n",
      "       sal   1000.00   0.50    500.00\n",
      "\n",
      "      alho   2000.00   2.80   5600.00\n",
      "\n",
      "  200       Fox\n",
      "\n",
      "      tela     20.00 300.00   6000.00\n",
      "\n",
      "     mouse     50.00   9.00    450.00\n",
      "\n",
      "  900     refor    2019-09-07T21:43\n",
      "\n",
      "   monitor     10.00 190.00   1900.00\n",
      "\n",
      "   process     30.00 490.00  14700.00\n",
      "\n"
     ]
    }
   ],
   "source": [
    "f = open('notas.txt', 'r')\n",
    "\n",
    "for x in f:\n",
    "    \n",
    "    print(x)\n",
    "    "
   ]
  },
  {
   "cell_type": "code",
   "execution_count": 9,
   "metadata": {},
   "outputs": [
    {
     "name": "stdout",
     "output_type": "stream",
     "text": [
      "_________________________________________\n",
      "        Saída de Data e Hora\n",
      "_________________________________________\n",
      "\n",
      "Hoje e dia: 21/09/2019 19:43:11\n",
      "Data : 21/09/2019\n",
      "Horas : 19:43:11\n",
      "\n",
      "_________________________________________\n",
      "       Formatação de Data e Hora\n",
      "_________________________________________\n",
      "\n",
      "Hoje e dia: 21/09/2019\n",
      "Aniversario: 05/06/1974\n",
      "Hoje e: sabado\n",
      "Mes: setembro\n",
      "Somando-se 2 dias: 23/09/2019\n",
      "Somando-se 2 semanas: 05/10/2019\n",
      "Somando-se 3 meses: 20/12/2019\n",
      "Somando-se 1 ano: 20/09/2020\n",
      "Idade: 45.326027397260276 To ficando veio...\n",
      "dia do ano: 264 contagem\n",
      "\n",
      "_________________________________________\n"
     ]
    }
   ],
   "source": [
    "from datetime import *\n",
    "\n",
    "\n",
    "agora = datetime.now()\n",
    "\n",
    "print(\"_________________________________________\")\n",
    "print(\"        Saída de Data e Hora\")\n",
    "print(\"_________________________________________\")\n",
    "\n",
    "print()\n",
    "print ('Hoje e dia:', agora.strftime('%d/%m/%Y %H:%M:%S'))\n",
    "\n",
    "print ('Data :', agora.strftime('%d/%m/%Y'))\n",
    "\n",
    "print ('Horas :', agora.strftime('%H:%M:%S'))\n",
    "\n",
    "print()\n",
    "\n",
    "\n",
    "import datetime\n",
    "\n",
    "Diasemana = ('segunda feira','terceira feira','quarta feira',\n",
    "             'quinta feira','sexta feira','sabado','domingo')\n",
    "Meses=('janeiro','fevereiro','mar','abril','maio','junho',\n",
    "       'julho','agosto','setembro','outubro','novembro','dezembro')\n",
    "agora = datetime.date.today()\n",
    "aniversario =datetime.date(1974, 6, 5)\n",
    "\n",
    "mes=(agora.month-1)\n",
    "diadoano=(agora.strftime('%j'))\n",
    "diadasemana = datetime.date.weekday(agora)\n",
    "print(\"_________________________________________\")\n",
    "print(\"       Formatação de Data e Hora\")\n",
    "print(\"_________________________________________\")\n",
    "print()\n",
    "print ('Hoje e dia:', agora.strftime('%d/%m/%Y'))\n",
    "print ('Aniversario:', aniversario.strftime('%d/%m/%Y'))\n",
    "print ('Hoje e:' ,Diasemana[diadasemana])\n",
    "print ('Mes:', Meses[mes])\n",
    "print ('Somando-se 2 dias:', (agora + datetime.timedelta(days=2)).strftime('%d/%m/%Y'))\n",
    "print ('Somando-se 2 semanas:', (agora + datetime.timedelta(weeks=2)).strftime('%d/%m/%Y'))\n",
    "print ('Somando-se 3 meses:', (agora + datetime.timedelta(days=90)).strftime('%d/%m/%Y'))\n",
    "print ('Somando-se 1 ano:', (agora + datetime.timedelta(days=365)).strftime('%d/%m/%Y'))\n",
    "\n",
    "idade=(agora - aniversario)\n",
    "\n",
    "print ('Idade:', (idade.days)/365 , 'To ficando veio...')\n",
    "\n",
    "print ('dia do ano:', diadoano , 'contagem')\n",
    "print()\n",
    "print(\"_________________________________________\")\n",
    "\n",
    "        \n",
    "    "
   ]
  },
  {
   "cell_type": "code",
   "execution_count": null,
   "metadata": {},
   "outputs": [],
   "source": []
  },
  {
   "cell_type": "code",
   "execution_count": null,
   "metadata": {},
   "outputs": [],
   "source": []
  },
  {
   "cell_type": "code",
   "execution_count": null,
   "metadata": {},
   "outputs": [],
   "source": []
  },
  {
   "cell_type": "code",
   "execution_count": null,
   "metadata": {},
   "outputs": [],
   "source": []
  },
  {
   "cell_type": "code",
   "execution_count": null,
   "metadata": {},
   "outputs": [],
   "source": []
  },
  {
   "cell_type": "code",
   "execution_count": null,
   "metadata": {},
   "outputs": [],
   "source": []
  },
  {
   "cell_type": "code",
   "execution_count": null,
   "metadata": {},
   "outputs": [],
   "source": []
  },
  {
   "cell_type": "code",
   "execution_count": null,
   "metadata": {},
   "outputs": [],
   "source": []
  },
  {
   "cell_type": "code",
   "execution_count": null,
   "metadata": {},
   "outputs": [],
   "source": []
  },
  {
   "cell_type": "code",
   "execution_count": null,
   "metadata": {},
   "outputs": [],
   "source": []
  },
  {
   "cell_type": "code",
   "execution_count": null,
   "metadata": {},
   "outputs": [],
   "source": []
  },
  {
   "cell_type": "code",
   "execution_count": null,
   "metadata": {},
   "outputs": [],
   "source": []
  },
  {
   "cell_type": "code",
   "execution_count": null,
   "metadata": {},
   "outputs": [],
   "source": []
  },
  {
   "cell_type": "code",
   "execution_count": null,
   "metadata": {},
   "outputs": [],
   "source": []
  }
 ],
 "metadata": {
  "kernelspec": {
   "display_name": "Python 3",
   "language": "python",
   "name": "python3"
  },
  "language_info": {
   "codemirror_mode": {
    "name": "ipython",
    "version": 3
   },
   "file_extension": ".py",
   "mimetype": "text/x-python",
   "name": "python",
   "nbconvert_exporter": "python",
   "pygments_lexer": "ipython3",
   "version": "3.7.3"
  }
 },
 "nbformat": 4,
 "nbformat_minor": 2
}
