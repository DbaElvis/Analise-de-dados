{
 "cells": [
  {
   "cell_type": "code",
   "execution_count": 3,
   "metadata": {},
   "outputs": [],
   "source": [
    "import pandas as pd\n",
    "import numpy as np\n",
    "import matplotlib.pyplot as plt\n",
    "%matplotlib inline"
   ]
  },
  {
   "cell_type": "code",
   "execution_count": 4,
   "metadata": {},
   "outputs": [
    {
     "data": {
      "text/html": [
       "<div>\n",
       "<style scoped>\n",
       "    .dataframe tbody tr th:only-of-type {\n",
       "        vertical-align: middle;\n",
       "    }\n",
       "\n",
       "    .dataframe tbody tr th {\n",
       "        vertical-align: top;\n",
       "    }\n",
       "\n",
       "    .dataframe thead th {\n",
       "        text-align: right;\n",
       "    }\n",
       "</style>\n",
       "<table border=\"1\" class=\"dataframe\">\n",
       "  <thead>\n",
       "    <tr style=\"text-align: right;\">\n",
       "      <th></th>\n",
       "      <th>Unnamed: 0</th>\n",
       "      <th>DataPedido</th>\n",
       "      <th>Regiao</th>\n",
       "      <th>Estado</th>\n",
       "      <th>Vendedor</th>\n",
       "      <th>Item</th>\n",
       "      <th>Unidades</th>\n",
       "      <th>PrecoUnidade</th>\n",
       "    </tr>\n",
       "  </thead>\n",
       "  <tbody>\n",
       "    <tr>\n",
       "      <th>0</th>\n",
       "      <td>0</td>\n",
       "      <td>2016-06-07</td>\n",
       "      <td>Nordeste</td>\n",
       "      <td>Pernambuco</td>\n",
       "      <td>Tobias</td>\n",
       "      <td>Geladeira</td>\n",
       "      <td>62</td>\n",
       "      <td>400.99</td>\n",
       "    </tr>\n",
       "    <tr>\n",
       "      <th>1</th>\n",
       "      <td>1</td>\n",
       "      <td>2016-07-11</td>\n",
       "      <td>Nordeste</td>\n",
       "      <td>Paraíba</td>\n",
       "      <td>Nadia</td>\n",
       "      <td>Microondas</td>\n",
       "      <td>29</td>\n",
       "      <td>100.99</td>\n",
       "    </tr>\n",
       "    <tr>\n",
       "      <th>2</th>\n",
       "      <td>2</td>\n",
       "      <td>2016-07-20</td>\n",
       "      <td>Sudeste</td>\n",
       "      <td>Minas Gerais</td>\n",
       "      <td>Carlos</td>\n",
       "      <td>Geladeira</td>\n",
       "      <td>55</td>\n",
       "      <td>1200.49</td>\n",
       "    </tr>\n",
       "    <tr>\n",
       "      <th>3</th>\n",
       "      <td>3</td>\n",
       "      <td>2016-07-19</td>\n",
       "      <td>Nordeste</td>\n",
       "      <td>Bahia</td>\n",
       "      <td>Tania</td>\n",
       "      <td>Microondas</td>\n",
       "      <td>81</td>\n",
       "      <td>1900.99</td>\n",
       "    </tr>\n",
       "    <tr>\n",
       "      <th>4</th>\n",
       "      <td>4</td>\n",
       "      <td>2016-08-16</td>\n",
       "      <td>Sudeste</td>\n",
       "      <td>Rio de Janeiro</td>\n",
       "      <td>Pedro</td>\n",
       "      <td>Geladeira</td>\n",
       "      <td>42</td>\n",
       "      <td>2300.95</td>\n",
       "    </tr>\n",
       "  </tbody>\n",
       "</table>\n",
       "</div>"
      ],
      "text/plain": [
       "   Unnamed: 0  DataPedido    Regiao          Estado Vendedor        Item  \\\n",
       "0           0  2016-06-07  Nordeste      Pernambuco   Tobias   Geladeira   \n",
       "1           1  2016-07-11  Nordeste         Paraíba    Nadia  Microondas   \n",
       "2           2  2016-07-20   Sudeste    Minas Gerais   Carlos   Geladeira   \n",
       "3           3  2016-07-19  Nordeste           Bahia    Tania  Microondas   \n",
       "4           4  2016-08-16   Sudeste  Rio de Janeiro    Pedro   Geladeira   \n",
       "\n",
       "   Unidades  PrecoUnidade  \n",
       "0        62        400.99  \n",
       "1        29        100.99  \n",
       "2        55       1200.49  \n",
       "3        81       1900.99  \n",
       "4        42       2300.95  "
      ]
     },
     "execution_count": 4,
     "metadata": {},
     "output_type": "execute_result"
    }
   ],
   "source": [
    "df1 = pd.read_csv('01_pedidosnovo.csv', dayfirst=True)\n",
    "\n",
    "df1.head()"
   ]
  },
  {
   "cell_type": "code",
   "execution_count": 3,
   "metadata": {},
   "outputs": [],
   "source": [
    "df1.rename(columns={'Unidades':'Uni','PrecoUnidade':'PreUni'}, inplace=True)"
   ]
  },
  {
   "cell_type": "code",
   "execution_count": 4,
   "metadata": {},
   "outputs": [
    {
     "data": {
      "text/html": [
       "<div>\n",
       "<style scoped>\n",
       "    .dataframe tbody tr th:only-of-type {\n",
       "        vertical-align: middle;\n",
       "    }\n",
       "\n",
       "    .dataframe tbody tr th {\n",
       "        vertical-align: top;\n",
       "    }\n",
       "\n",
       "    .dataframe thead th {\n",
       "        text-align: right;\n",
       "    }\n",
       "</style>\n",
       "<table border=\"1\" class=\"dataframe\">\n",
       "  <thead>\n",
       "    <tr style=\"text-align: right;\">\n",
       "      <th></th>\n",
       "      <th>Unnamed: 0</th>\n",
       "      <th>DataPedido</th>\n",
       "      <th>Regiao</th>\n",
       "      <th>Estado</th>\n",
       "      <th>Vendedor</th>\n",
       "      <th>Item</th>\n",
       "      <th>Uni</th>\n",
       "      <th>PreUni</th>\n",
       "    </tr>\n",
       "  </thead>\n",
       "  <tbody>\n",
       "    <tr>\n",
       "      <th>0</th>\n",
       "      <td>0</td>\n",
       "      <td>2016-06-07</td>\n",
       "      <td>Nordeste</td>\n",
       "      <td>Pernambuco</td>\n",
       "      <td>Tobias</td>\n",
       "      <td>Geladeira</td>\n",
       "      <td>62</td>\n",
       "      <td>400.99</td>\n",
       "    </tr>\n",
       "    <tr>\n",
       "      <th>1</th>\n",
       "      <td>1</td>\n",
       "      <td>2016-07-11</td>\n",
       "      <td>Nordeste</td>\n",
       "      <td>Paraíba</td>\n",
       "      <td>Nadia</td>\n",
       "      <td>Microondas</td>\n",
       "      <td>29</td>\n",
       "      <td>100.99</td>\n",
       "    </tr>\n",
       "    <tr>\n",
       "      <th>2</th>\n",
       "      <td>2</td>\n",
       "      <td>2016-07-20</td>\n",
       "      <td>Sudeste</td>\n",
       "      <td>Minas Gerais</td>\n",
       "      <td>Carlos</td>\n",
       "      <td>Geladeira</td>\n",
       "      <td>55</td>\n",
       "      <td>1200.49</td>\n",
       "    </tr>\n",
       "    <tr>\n",
       "      <th>3</th>\n",
       "      <td>3</td>\n",
       "      <td>2016-07-19</td>\n",
       "      <td>Nordeste</td>\n",
       "      <td>Bahia</td>\n",
       "      <td>Tania</td>\n",
       "      <td>Microondas</td>\n",
       "      <td>81</td>\n",
       "      <td>1900.99</td>\n",
       "    </tr>\n",
       "    <tr>\n",
       "      <th>4</th>\n",
       "      <td>4</td>\n",
       "      <td>2016-08-16</td>\n",
       "      <td>Sudeste</td>\n",
       "      <td>Rio de Janeiro</td>\n",
       "      <td>Pedro</td>\n",
       "      <td>Geladeira</td>\n",
       "      <td>42</td>\n",
       "      <td>2300.95</td>\n",
       "    </tr>\n",
       "  </tbody>\n",
       "</table>\n",
       "</div>"
      ],
      "text/plain": [
       "   Unnamed: 0  DataPedido    Regiao          Estado Vendedor        Item  Uni  \\\n",
       "0           0  2016-06-07  Nordeste      Pernambuco   Tobias   Geladeira   62   \n",
       "1           1  2016-07-11  Nordeste         Paraíba    Nadia  Microondas   29   \n",
       "2           2  2016-07-20   Sudeste    Minas Gerais   Carlos   Geladeira   55   \n",
       "3           3  2016-07-19  Nordeste           Bahia    Tania  Microondas   81   \n",
       "4           4  2016-08-16   Sudeste  Rio de Janeiro    Pedro   Geladeira   42   \n",
       "\n",
       "    PreUni  \n",
       "0   400.99  \n",
       "1   100.99  \n",
       "2  1200.49  \n",
       "3  1900.99  \n",
       "4  2300.95  "
      ]
     },
     "execution_count": 4,
     "metadata": {},
     "output_type": "execute_result"
    }
   ],
   "source": [
    "df1.head()"
   ]
  },
  {
   "cell_type": "code",
   "execution_count": 5,
   "metadata": {},
   "outputs": [
    {
     "data": {
      "text/plain": [
       "'Minas Gerais'"
      ]
     },
     "execution_count": 5,
     "metadata": {},
     "output_type": "execute_result"
    }
   ],
   "source": [
    "df1.loc[2, 'Estado']"
   ]
  },
  {
   "cell_type": "code",
   "execution_count": 7,
   "metadata": {},
   "outputs": [
    {
     "data": {
      "text/plain": [
       "'Geladeira'"
      ]
     },
     "execution_count": 7,
     "metadata": {},
     "output_type": "execute_result"
    }
   ],
   "source": [
    "df1.iloc[2, 5]"
   ]
  },
  {
   "cell_type": "code",
   "execution_count": null,
   "metadata": {},
   "outputs": [],
   "source": []
  }
 ],
 "metadata": {
  "kernelspec": {
   "display_name": "Python 3",
   "language": "python",
   "name": "python3"
  },
  "language_info": {
   "codemirror_mode": {
    "name": "ipython",
    "version": 3
   },
   "file_extension": ".py",
   "mimetype": "text/x-python",
   "name": "python",
   "nbconvert_exporter": "python",
   "pygments_lexer": "ipython3",
   "version": "3.7.6"
  }
 },
 "nbformat": 4,
 "nbformat_minor": 4
}
