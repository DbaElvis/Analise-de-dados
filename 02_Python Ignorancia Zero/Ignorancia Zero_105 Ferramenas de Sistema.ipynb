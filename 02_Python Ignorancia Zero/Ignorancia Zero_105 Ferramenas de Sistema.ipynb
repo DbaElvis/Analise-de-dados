{
 "cells": [
  {
   "cell_type": "markdown",
   "metadata": {},
   "source": [
    "# AULA 105 visto\n",
    "27/09/2019"
   ]
  },
  {
   "cell_type": "code",
   "execution_count": 4,
   "metadata": {},
   "outputs": [
    {
     "name": "stdout",
     "output_type": "stream",
     "text": [
      "(<class 'IndexError'>, IndexError(), <traceback object at 0x0000019F478A4A88>)\n"
     ]
    }
   ],
   "source": [
    "import sys\n",
    "\n",
    "if 'win' in sys.platform:\n",
    "    import winsound\n",
    "\n",
    "#print(sys.path)\n",
    "\n",
    "try:\n",
    "    raise IndexError\n",
    "except:\n",
    "    print(sys.exc_info())"
   ]
  },
  {
   "cell_type": "markdown",
   "metadata": {},
   "source": [
    "# AULA 106"
   ]
  },
  {
   "cell_type": "code",
   "execution_count": null,
   "metadata": {},
   "outputs": [
    {
     "name": "stdout",
     "output_type": "stream",
     "text": [
      "ID do programa e o diretório de trabalho145\n",
      "5688 C:\\Users\\ELVIS\\AI - Projetos inteligencia artificial\\02_Python Ignorancia Zero\n",
      "234\n",
      "Gera uma string aleatória e criptografada123\n",
      "b'\\xf0\\x9a\\xb2\\x86K'\n",
      "567\n",
      "Constantes especiais para diretórios21\n",
      "(';', '\\\\', '..', '.', '\\r\\n')\n"
     ]
    }
   ],
   "source": [
    "\"\"\"\n",
    "getpid = ID do processo que está executando\n",
    "getcwd = recebe o diretório de trabalho atual\n",
    "remove = remove um arquivo\n",
    "rename = renomeia um arquivo\n",
    "urandom(n) = retorna n bytes de cryptografada fortemente uma data aleatória\n",
    "\n",
    "CONSTANTES\n",
    "    pathsep = separador de caminhos\n",
    "    sep = separador de diretórios\n",
    "    pardir = caminho de volta para diretório\n",
    "    curdir = código para obter diretório atual\n",
    "    linesep = separador de linhas\n",
    "    environ = dicionário com caminhos e configurações específicas do sistema\n",
    "\n",
    "tkinter.PhotoImage(file = 'Imagens'+ os.sep + 'foto.pgm')\n",
    "\"\"\"\n",
    "\n",
    "import os, sys\n",
    "\n",
    "input('ID do programa e o diretório de trabalho')\n",
    "print(os.getpid(), os.getcwd())\n",
    "input()\n",
    "\"\"\"\n",
    "input('Vá na pasta e veja que o arquivo vai ser renomeado')\n",
    "os.rename('arquivo', 'renomeado')\n",
    "input()\n",
    "\n",
    "input('Vamos remover também o arquivo')\n",
    "os.remove('renomeado')\n",
    "input()\n",
    "\"\"\"\n",
    "input('Gera uma string aleatória e criptografada')\n",
    "print(os.urandom(5))\n",
    "input()\n",
    "\n",
    "input('Constantes especiais para diretórios')\n",
    "x = os.pathsep, os.sep, os.pardir, os.curdir, os.linesep\n",
    "print(x)\n",
    "input()\n",
    "\n",
    "input('Dicionário com as configurações do sistema')\n",
    "print(list(os.environ.keys()))\n",
    "input()\n",
    "\n",
    "input('Valor de uma das chaves do dicionário')\n",
    "if 'win' in sys.platform:\n",
    "    print(os.environ['PYTHONPATH'])\n",
    "    print(os.environ['TEMP'])\n",
    "else:\n",
    "    print(os.environ['LANGUAGE'])\n",
    "\n",
    "print(os.environ['USER'])\n",
    "input()\n",
    "\n",
    "input('Modificação dos valores da chave')\n",
    "os.environ['USER'] = 'João'\n",
    "print(os.environ['USER'])\n",
    "input()"
   ]
  },
  {
   "cell_type": "code",
   "execution_count": null,
   "metadata": {},
   "outputs": [],
   "source": []
  },
  {
   "cell_type": "code",
   "execution_count": null,
   "metadata": {},
   "outputs": [],
   "source": []
  }
 ],
 "metadata": {
  "kernelspec": {
   "display_name": "Python 3",
   "language": "python",
   "name": "python3"
  },
  "language_info": {
   "codemirror_mode": {
    "name": "ipython",
    "version": 3
   },
   "file_extension": ".py",
   "mimetype": "text/x-python",
   "name": "python",
   "nbconvert_exporter": "python",
   "pygments_lexer": "ipython3",
   "version": "3.7.3"
  }
 },
 "nbformat": 4,
 "nbformat_minor": 2
}
