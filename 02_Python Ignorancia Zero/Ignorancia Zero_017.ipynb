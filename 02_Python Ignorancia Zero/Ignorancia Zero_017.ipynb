{
 "cells": [
  {
   "cell_type": "code",
   "execution_count": null,
   "metadata": {},
   "outputs": [],
   "source": [
    "print(\"Iteração com WHILE\")\n",
    "var = 10\n",
    "\n",
    "cont = 1\n",
    "\n",
    "while cont < var:\n",
    "    print(\"Entrada\", cont)\n",
    "    cont += 1\n",
    "    print(\"Saida\", cont)"
   ]
  },
  {
   "cell_type": "code",
   "execution_count": null,
   "metadata": {},
   "outputs": [],
   "source": [
    "print(\"1 - Iteração com FOR\")\n",
    "\n",
    "n = 10\n",
    "\n",
    "for x in range(2,n,3):\n",
    "     print(\"Entrada\", x)\n",
    "\n",
    "print(\"\")        \n",
    "print(\"2 - Iteração com FOR\")    \n",
    "\n",
    "for x in range(2,8):\n",
    "     print(\"Entrada\", x)\n",
    "\n",
    "print(\"\")        \n",
    "print(\"3 - Iteração com FOR\")    \n",
    "\n",
    "for x in range(2,10,2):\n",
    "     print(\"Entrada\", x)   \n",
    "        \n",
    "print(\"\")        \n",
    "print(\"4 - Iteração com FOR\")    \n",
    "\n",
    "for x in range(10,2,-2):\n",
    "     print(\"Entrada\", x)        "
   ]
  },
  {
   "cell_type": "code",
   "execution_count": null,
   "metadata": {},
   "outputs": [],
   "source": [
    "print(\"1 - For fatorial\") \n",
    "\n",
    "n = int(input(\"digite valor: \"))\n",
    "soma = 1\n",
    "for x in range(n, 1, -1):  \n",
    "    soma *= x\n",
    "print(\"fatorial: {}\".format(soma))  \n",
    "\n",
    "print(\"\")\n",
    "print(\"2 - For fatorial\") \n",
    "\n",
    "n = int(input(\"digite valor: \"))\n",
    "soma = 1\n",
    "for x in range(2, n+1):  \n",
    "    soma *= x\n",
    "print(\"fatorial: {}\".format(soma))"
   ]
  },
  {
   "cell_type": "code",
   "execution_count": null,
   "metadata": {},
   "outputs": [],
   "source": [
    "print(\"Numero Triangular\") \n",
    "\n",
    "for x in range(5, 51, 5):  \n",
    "    soma = x * (x+1)//2\n",
    "    print(\"{} numero triangualar = {}\".format(x, soma))\n"
   ]
  },
  {
   "cell_type": "code",
   "execution_count": null,
   "metadata": {},
   "outputs": [],
   "source": [
    "print(\"For aninhado\") \n",
    "\n",
    "for x in range(3):\n",
    "        for a in range(3):\n",
    "            for b in range(3):\n",
    "                for c in range(3): \n",
    "                    print(x, a, b, c)"
   ]
  },
  {
   "cell_type": "code",
   "execution_count": 12,
   "metadata": {
    "scrolled": true
   },
   "outputs": [
    {
     "name": "stdout",
     "output_type": "stream",
     "text": [
      "TABUADA DOS ALUNOS\n",
      "COMEÇO: 1\n",
      "FIM: 1\n",
      "Tabuada do numero: 1\n",
      "1 x 1: 1 \n",
      "2 x 1: 2 \n",
      "3 x 1: 3 \n",
      "4 x 1: 4 \n",
      "5 x 1: 5 \n",
      "6 x 1: 6 \n",
      "7 x 1: 7 \n",
      "8 x 1: 8 \n",
      "9 x 1: 9 \n",
      "10 x 1: 10 \n"
     ]
    }
   ],
   "source": [
    "print(\"TABUADA DOS ALUNOS\") \n",
    "\n",
    "comeco = int(input(\"COMEÇO: \"))\n",
    "fim = int(input(\"FIM: \"))\n",
    "\n",
    "for x in range(comeco, fim + 1):\n",
    "    print(\"Tabuada do numero: {}\".format(x))\n",
    "    for b in range(1, 11):\n",
    "        print(\"{} x {}: {} \".format(b, x, (x * b)))"
   ]
  },
  {
   "cell_type": "code",
   "execution_count": null,
   "metadata": {},
   "outputs": [],
   "source": [
    "print(\"While dentro do For - soma dos numeros pares\") \n",
    "\n",
    "n = int(input(\"Numero de sequencias: \"))\n",
    "\n",
    "for x in range(n):\n",
    "    print(\"Sequencia %x\" %(x+1))\n",
    "    num = int(input(\"Numero da sequencia: \"))\n",
    "    soma = 0\n",
    "    while num != 0:\n",
    "        if num % 2 == 0:\n",
    "            soma += num\n",
    "        num = int(input(\"Numero da sequencia: \"))\n",
    "\n",
    "    print(\"Sequencia {} e {}\".format(x+1, soma))       \n"
   ]
  },
  {
   "cell_type": "markdown",
   "metadata": {},
   "source": [
    "# aula 019"
   ]
  },
  {
   "cell_type": "code",
   "execution_count": 1,
   "metadata": {},
   "outputs": [
    {
     "name": "stdout",
     "output_type": "stream",
     "text": [
      "Digite um valor de N: 4\n",
      "1\n",
      "2\n",
      "3\n",
      "Fiz 11 divisoes\n"
     ]
    }
   ],
   "source": [
    "N = int(input(\"Digite um valor de N: \"))\n",
    "div = 0\n",
    "for i in range(1, N+1):\n",
    "    primo = True\n",
    "    for j in range(2, i):\n",
    "        div += i\n",
    "        if i % j == 0:\n",
    "            primo = False\n",
    "\n",
    "    if primo:\n",
    "        print(i)\n",
    "\n",
    "print(\"Fiz %i divisoes\"%div)  "
   ]
  },
  {
   "cell_type": "code",
   "execution_count": 2,
   "metadata": {},
   "outputs": [
    {
     "name": "stdout",
     "output_type": "stream",
     "text": [
      "Digite um valor de N: 4\n",
      "1\n",
      "2\n",
      "3\n",
      "Fiz 7 divisoes\n"
     ]
    }
   ],
   "source": [
    "N = int(input(\"Digite um valor de N: \"))\n",
    "div = 0\n",
    "for i in range(1, N+1):\n",
    "    primo = True\n",
    "    j = 2\n",
    "    while j < i and primo:\n",
    "        div += i\n",
    "        if i % j == 0:\n",
    "            primo = False\n",
    "        j += 1\n",
    "    if primo:\n",
    "        print(i)\n",
    "\n",
    "print(\"Fiz %i divisoes\"%div) "
   ]
  },
  {
   "cell_type": "code",
   "execution_count": null,
   "metadata": {},
   "outputs": [],
   "source": [
    "i = int(input(\"Digite o valor de i: \"))\n",
    "j = int(input(\"Digite o valor de j: \"))\n",
    "\n",
    "print(\"Os divisores comuns de %i e %d são: \"%(i, j))\n",
    "print(1)\n",
    "divisor = 2\n",
    "while divisor <= i and divisor <= j:\n",
    "    if i % divisor == 0 and j % divisor == 0:\n",
    "        print(divisor)\n",
    "    divisor += 1"
   ]
  },
  {
   "cell_type": "code",
   "execution_count": 1,
   "metadata": {},
   "outputs": [
    {
     "name": "stdout",
     "output_type": "stream",
     "text": [
      "Digite n: 5\n",
      "Digite i: 3\n",
      "Digite j: 4\n",
      "0\n",
      "3\n",
      "4\n",
      "6\n",
      "8\n",
      "9\n",
      "12\n",
      "15\n",
      "16\n",
      "18\n",
      "20\n",
      "21\n"
     ]
    }
   ],
   "source": [
    "\n",
    "n = int(input(\"Digite n: \"))\n",
    "i = int(input(\"Digite i: \"))\n",
    "j = int(input(\"Digite j: \"))\n",
    "nat, cont = 0, 0\n",
    "while cont < (n + i + j):\n",
    "    if nat % i == 0 or nat % j == 0:\n",
    "        print (nat)\n",
    "        cont = cont+ 1\n",
    "    nat = nat + 1"
   ]
  },
  {
   "cell_type": "markdown",
   "metadata": {},
   "source": [
    "# aula 020"
   ]
  },
  {
   "cell_type": "code",
   "execution_count": 8,
   "metadata": {},
   "outputs": [
    {
     "name": "stdout",
     "output_type": "stream",
     "text": [
      "Digite um valor: 3\n",
      "Soma 4.333\n"
     ]
    }
   ],
   "source": [
    "n = int(input(\"Digite um valor: \"))\n",
    "\n",
    "soma = 0.0\n",
    "\n",
    "for i in range(1, n + 1):\n",
    "    soma += i / (n - i + 1)\n",
    "    \n",
    "print(\"Soma %.3f\"%soma)     "
   ]
  },
  {
   "cell_type": "code",
   "execution_count": 11,
   "metadata": {},
   "outputs": [
    {
     "name": "stdout",
     "output_type": "stream",
     "text": [
      "Digite a primeira nota: 5\n",
      "Digite a segunda nota: 6\n",
      "Digite a terceira nota: 7\n",
      "Media 6\n",
      "reprovado\n"
     ]
    }
   ],
   "source": [
    "media = int(input(\"Digite a primeira nota: \"))\n",
    "media += int(input(\"Digite a segunda nota: \"))\n",
    "media += int(input(\"Digite a terceira nota: \"))\n",
    "\n",
    "media /= 3\n",
    "\n",
    "if media == 10:\n",
    "    print('Media %.f'%media)\n",
    "    print('aprovado com distinção')\n",
    "elif media >= 7:\n",
    "    print('Media %.f'%media)\n",
    "    print('Aprovado')\n",
    "else: \n",
    "    print('Media %.f'%media)\n",
    "    print('reprovado')"
   ]
  },
  {
   "cell_type": "code",
   "execution_count": null,
   "metadata": {},
   "outputs": [],
   "source": [
    "a = float(input(\"Digite o valor de a: \"))\n",
    "if a>0:\n",
    "    b = float(input(\"Digite o valor de b: \"))\n",
    "    c = float(input(\"Digite o valor de c: \"))\n",
    "\n",
    "    delta = b**2 - 4*a*c\n",
    "\n",
    "    if delta < 0:\n",
    "        print(\"Não há raízes reais\")\n",
    "    elif delta == 0:\n",
    "        print(\"Há apenas uma raíz real igual a\", -b/(2*a))\n",
    "    else:\n",
    "        print(\"Há duas raízes: \")\n",
    "        print(\"Raíz 1:\", (-b+delta**(1/2))/(2*a))\n",
    "        print(\"Raíz 2:\", (-b-delta**(1/2))/(2*a))\n",
    "\n",
    "else:\n",
    "    print(\"A equação não é do segundo grau\")"
   ]
  },
  {
   "cell_type": "code",
   "execution_count": null,
   "metadata": {},
   "outputs": [],
   "source": [
    "altura = float(input(\"Digite a sua altura: \"))\n",
    "sexo = int(input(\"Digite o seu sexo(Masculino = 0/ Feminino = 1): \"))\n",
    "peso = float(input(\"Digite o seu peso: \"))\n",
    "\n",
    "if sexo == 0:\n",
    "    peso_ideal = (72.7*altura) - 58\n",
    "else:\n",
    "    peso_ideal = (62.1*altura) - 44.7\n",
    "\n",
    "if peso > peso_ideal:\n",
    "    print(\"Você está acima do peso\")\n",
    "elif peso == peso_ideal:\n",
    "    print(\"Você está no seu peso ideal\")\n",
    "else:\n",
    "    print(\"Você está abaixo do peso\")"
   ]
  },
  {
   "cell_type": "markdown",
   "metadata": {},
   "source": [
    "# AULA 021"
   ]
  },
  {
   "cell_type": "code",
   "execution_count": null,
   "metadata": {},
   "outputs": [],
   "source": [
    "n = int(input(\"Digite n: \"))\n",
    "x = float(input(\"Digite x: \"))\n",
    "\n",
    "cos = termo = 1\n",
    "\n",
    "for i in range(1, n+1):\n",
    "    termo *= (-(x**2)/(2*i*(2*i-1)))\n",
    "    cos += termo\n",
    "\n",
    "print(\"O cosseno de\", x, \"é\", cos)"
   ]
  },
  {
   "cell_type": "code",
   "execution_count": 2,
   "metadata": {},
   "outputs": [
    {
     "name": "stdout",
     "output_type": "stream",
     "text": [
      "Digite o primeiro número inteiro: 5\n",
      "Digite o segundo número inteiro: 3\n",
      "Digite um número real: 4\n",
      "15.0\n",
      "19.0\n",
      "64.0\n"
     ]
    }
   ],
   "source": [
    "\"\"\"\n",
    "Faça um Programa que peça 2 números inteiros e um número real.\n",
    "Calcule e mostre:\n",
    "    a.\to produto do dobro do primeiro com metade do segundo .\n",
    "    b.\ta soma do triplo do primeiro com o terceiro.\n",
    "    c.\to terceiro elevado ao cubo.\n",
    "\n",
    "\"\"\"\n",
    "int1 = int(input(\"Digite o primeiro número inteiro: \"))\n",
    "int2 = int(input(\"Digite o segundo número inteiro: \"))\n",
    "real = float(input(\"Digite um número real: \"))\n",
    "\n",
    "print((2*int1)*(int2/2))\n",
    "print(3*int1 + real)\n",
    "print(real**3)"
   ]
  },
  {
   "cell_type": "code",
   "execution_count": 5,
   "metadata": {},
   "outputs": [
    {
     "name": "stdout",
     "output_type": "stream",
     "text": [
      "Digite um número: 5.4\n",
      "5.4 é decimal\n",
      "Arredondando: 5\n"
     ]
    }
   ],
   "source": [
    "\"\"\"\n",
    "Faça um Programa que peça um número e\n",
    "informe se o número é inteiro ou decimal. Se o número for decimal,\n",
    "arredonde o número\n",
    "0.4 = 3.4 - 3\n",
    "\"\"\"\n",
    "num = float(input(\"Digite um número: \"))\n",
    "\n",
    "if num != int(num):\n",
    "    decimal = num - int(num)\n",
    "    arredondado = int(num)\n",
    "\n",
    "    if decimal >= 0.5:\n",
    "        arredondado += 1\n",
    "        \n",
    "    print(num, \"é decimal\")\n",
    "    print(\"Arredondando:\", arredondado)\n",
    "else:\n",
    "    print(num, \"é inteiro\")\n"
   ]
  },
  {
   "cell_type": "code",
   "execution_count": null,
   "metadata": {},
   "outputs": [],
   "source": []
  }
 ],
 "metadata": {
  "kernelspec": {
   "display_name": "Python 3",
   "language": "python",
   "name": "python3"
  },
  "language_info": {
   "codemirror_mode": {
    "name": "ipython",
    "version": 3
   },
   "file_extension": ".py",
   "mimetype": "text/x-python",
   "name": "python",
   "nbconvert_exporter": "python",
   "pygments_lexer": "ipython3",
   "version": "3.7.3"
  }
 },
 "nbformat": 4,
 "nbformat_minor": 2
}
