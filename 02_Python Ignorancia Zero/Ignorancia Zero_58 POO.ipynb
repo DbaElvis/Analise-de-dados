{
 "cells": [
  {
   "cell_type": "markdown",
   "metadata": {},
   "source": [
    "# AULA 058 VISTO"
   ]
  },
  {
   "cell_type": "markdown",
   "metadata": {},
   "source": [
    "# AULA 059 VISTO"
   ]
  },
  {
   "cell_type": "markdown",
   "metadata": {},
   "source": [
    "# AULA 060"
   ]
  },
  {
   "cell_type": "code",
   "execution_count": null,
   "metadata": {},
   "outputs": [],
   "source": [
    "\"\"\"\n",
    "Classe Quadrado: Crie uma classe que modele um quadrado:\n",
    "\n",
    "Atributos: Tamanho do lado\n",
    "Métodos: Mudar valor do Lado, Retornar valor do Lado e calcular Área;\n",
    "\"\"\"\n",
    "\n",
    "class Quadrado:\n",
    "    def __init__(self):\n",
    "        self.lado = 0\n",
    "\n",
    "    def MudaLado(l):\n",
    "        self.lado = l\n",
    "\n",
    "    def RetornaLado():\n",
    "        return self.lado\n",
    "\n",
    "    def CalcularArea():\n",
    "        return self.lado**2"
   ]
  },
  {
   "cell_type": "code",
   "execution_count": null,
   "metadata": {},
   "outputs": [],
   "source": [
    "\"\"\"\n",
    "Classe Retangulo: Crie uma classe que modele um retangulo:\n",
    "\n",
    "Atributos: LadoA, LadoB (ou Comprimento e Largura, ou Base e Altura, a escolher)\n",
    "Métodos: Mudar valor dos lados, Retornar valor dos lados, calcular Área e\n",
    "calcular Perímetro;\n",
    "Crie um programa que utilize esta classe. Ele deve pedir ao usuário que informe\n",
    "as medidades de um local. Depois, deve criar um objeto com as medidas e calcular\n",
    "a quantidade de pisos necessárias para o local.\n",
    "\"\"\"\n",
    "\n",
    "class Retangulo(object):\n",
    "    def __init__(self):\n",
    "        self.base = 0\n",
    "        self.altura = 0\n",
    "\n",
    "    def MudaLados(self, b, h):\n",
    "        self.base = b\n",
    "        self.altura = h\n",
    "\n",
    "    def RetornaLados(self):\n",
    "        return self.base, self.altura\n",
    "\n",
    "    def Area(self):\n",
    "        return self.base * self.altura\n",
    "\n",
    "    def Perimetro(self):\n",
    "        return 2*(self.base + self.altura)\n",
    "\n",
    "\n",
    "largura = float(input(\"Digite a largura do local: \"))\n",
    "comprimento = float(input(\"Digite o comprimento do local: \"))\n",
    "\n",
    "piso = Retangulo()\n",
    "\n",
    "lag_piso = float(input(\"Digite a largura do piso: \"))\n",
    "com_piso = float(input(\"Digite o comprimento do piso: \"))\n",
    "\n",
    "piso.MudaLados(lag_piso, com_piso)\n",
    "\n",
    "areaTotal = largura * comprimento\n",
    "num_de_pisos = round(areaTotal/piso.Area())\n",
    "\n",
    "print(\"Serão necessários %i pisos.\"%num_de_pisos)"
   ]
  },
  {
   "cell_type": "code",
   "execution_count": null,
   "metadata": {},
   "outputs": [],
   "source": [
    "\"\"\"\n",
    "Classe Pessoa: Crie uma classe que modele uma pessoa:\n",
    "\n",
    "Atributos: nome, idade, peso e altura\n",
    "Métodos: Envelhercer, engordar, emagrecer, crescer.\n",
    "Obs: Por padrão, a cada ano que nossa pessoa envelhece, sendo a idade dela menor\n",
    "que 21 anos, ela deve crescer 0,5 cm.\n",
    "\"\"\"\n",
    "\n",
    "class Pessoa:\n",
    "    def __init__(self, nome, idade, peso, altura):\n",
    "        self.nome = nome\n",
    "        self.idade = idade\n",
    "        self.peso = peso\n",
    "        self.altura = altura\n",
    "\n",
    "    def Envelhecer(self):\n",
    "        if self.idade < 21:\n",
    "            self.altura += 0.5\n",
    "        \n",
    "        self.idade += 1\n",
    "\n",
    "    def Engordar(self, peso):\n",
    "        self.peso += peso\n",
    "\n",
    "    def Emagrecer(self, peso):\n",
    "        self.peso -= peso\n",
    "\n",
    "    def crescer(self, altura):\n",
    "        self.altura += altura"
   ]
  },
  {
   "cell_type": "markdown",
   "metadata": {},
   "source": [
    "# AULA 061"
   ]
  },
  {
   "cell_type": "code",
   "execution_count": 1,
   "metadata": {},
   "outputs": [
    {
     "name": "stdout",
     "output_type": "stream",
     "text": [
      "Deseja mudar os valores do retângulo(m/mudar), imprimir seu centro(i/imprimir) ou fechar o programa(f/fechar)?\n",
      "i\n",
      "Ponto (0,0)\n",
      "Deseja mudar os valores do retângulo(m/mudar), imprimir seu centro(i/imprimir) ou fechar o programa(f/fechar)?\n",
      "i\n",
      "Ponto (0,0)\n",
      "Deseja mudar os valores do retângulo(m/mudar), imprimir seu centro(i/imprimir) ou fechar o programa(f/fechar)?\n",
      "m\n",
      "Digite o valor da largura:\n",
      "5\n",
      "Digite o valor da altura:\n",
      "4\n",
      "Digite o valor do x do vértice de partida:\n",
      "2\n",
      "Digite o valor do y do vértice de partida:\n",
      "1\n",
      "Deseja mudar os valores do retângulo(m/mudar), imprimir seu centro(i/imprimir) ou fechar o programa(f/fechar)?\n",
      "i\n",
      "Ponto (4.5,3)\n",
      "Deseja mudar os valores do retângulo(m/mudar), imprimir seu centro(i/imprimir) ou fechar o programa(f/fechar)?\n",
      "f\n"
     ]
    }
   ],
   "source": [
    "\"\"\"\n",
    "Classe Ponto e Retangulo:\n",
    "Faça um programa completo utilizando funções e classes que:\n",
    "\n",
    "Possua uma classe chamada Ponto, com os atributos x e y.\n",
    "Possua uma classe chamada Retangulo, com os atributos largura e altura.\n",
    "Possua uma função para imprimir os valores da classe Ponto\n",
    "Possua uma função para encontrar o centro de um Retângulo.\n",
    "Você deve criar alguns objetos da classe Retangulo.\n",
    "Cada objeto deve ter um vértice de partida, por exemplo, o vértice inferior\n",
    "esquerdo do retângulo, que deve ser um objeto da classe Ponto.\n",
    "\n",
    "A função para encontrar o centro do retângulo deve retornar o valor para um\n",
    "objeto do tipo ponto que indique os valores de x e y para o centro do objeto.\n",
    "\n",
    "O valor do centro do objeto deve ser mostrado na tela\n",
    "\n",
    "Crie um menu para alterar os valores do retângulo e imprimir o centro deste\n",
    "retângulo.\n",
    "\"\"\"\n",
    "\n",
    "class Ponto:\n",
    "    def __init__(self, x = 0, y = 0):\n",
    "        self.x = x\n",
    "        self.y = y\n",
    "\n",
    "    def imprime(self):\n",
    "        print(\"Ponto (%g,%g)\"%(self.x, self.y))\n",
    "\n",
    "class Retangulo:\n",
    "    def __init__(self, ponto = Ponto(), b = 0, h = 0):\n",
    "        self.largura = b\n",
    "        self.altura = h\n",
    "        self.verticePartida = ponto\n",
    "\n",
    "    def encontraCentro(self):\n",
    "        x = self.verticePartida.x + self.largura/2\n",
    "        y = self.verticePartida.y + self.altura/2\n",
    "\n",
    "        return Ponto(x, y)\n",
    "\n",
    "def main():\n",
    "    verticePartida = Ponto()\n",
    "    rect = Retangulo()\n",
    "    \n",
    "    while True:\n",
    "        comando = Menu()\n",
    "\n",
    "        if comando.startswith('m'):\n",
    "            mudaValores(rect)\n",
    "        elif comando.startswith('i'):\n",
    "            rect.encontraCentro().imprime()\n",
    "        else:\n",
    "            break\n",
    "\n",
    "def Menu():\n",
    "    while True:\n",
    "        comando = input('Deseja mudar os valores do retângulo(m/mudar), imprimir seu centro(i/imprimir) ou fechar o programa(f/fechar)?\\n')\n",
    "\n",
    "        comando.lower()\n",
    "\n",
    "        if not comando.isalpha():\n",
    "            print('Digite apenas letras!')\n",
    "        else:\n",
    "            if comando.startswith('m') or comando.startswith('i') or comando.startswith('f'):\n",
    "                return comando\n",
    "            else:\n",
    "                print('Não entendi seu comando, digite novamente')\n",
    "\n",
    "def mudaValores(rect):\n",
    "    rect.largura = float(input('Digite o valor da largura:\\n'))\n",
    "    rect.altura = float(input('Digite o valor da altura:\\n'))\n",
    "    rect.verticePartida.x = float(input('Digite o valor do x do vértice de partida:\\n'))\n",
    "    rect.verticePartida.y = float(input('Digite o valor do y do vértice de partida:\\n'))\n",
    "\n",
    "main()"
   ]
  },
  {
   "cell_type": "markdown",
   "metadata": {},
   "source": [
    "# AULA 062"
   ]
  },
  {
   "cell_type": "code",
   "execution_count": 47,
   "metadata": {},
   "outputs": [
    {
     "name": "stdout",
     "output_type": "stream",
     "text": [
      "<__main__.Triangulo object at 0x0000000005C1C470>\n"
     ]
    }
   ],
   "source": [
    "\"\"\"\n",
    "Defina uma nova classe ObjetoGráfico subclasse de object, cujos atributos são:\n",
    "    cor_de_preenchimento --> inteiro\n",
    "    preenchida --> bool\n",
    "    cor_de_contorno --> inteiro\n",
    "\n",
    "Escreva três classes:\n",
    "    Retangulo --> Atributos: base e altura\n",
    "    Circulo --> Atributos: raio\n",
    "    Triangulo --> Atributos: base e altura\n",
    "\n",
    "Subclasses da classe ObjetoGráfico que possuam todas métodos area e perimetro  \n",
    "\"\"\"\n",
    "from math import pi\n",
    "\n",
    "class ObjetoGrafico(object):\n",
    "    def __init__(self, cor_de_preenchimento, preenchida, cor_de_contorno):\n",
    "        self.cor_de_preenchimento = cor_de_preenchimento\n",
    "        self.preenchida = preenchida\n",
    "        self.cor_de_contorno = cor_de_contorno\n",
    "\n",
    "\n",
    "class Retangulo(ObjetoGrafico):\n",
    "    def __init__(self, cor_de_preenchimento, preenchida, cor_de_contorno, base, altura):\n",
    "        super().__init__(cor_de_preenchimento, preenchida, cor_de_contorno)\n",
    "        self.base = base\n",
    "        self.altura = altura\n",
    "\n",
    "    def area(self):\n",
    "        return self.base*self.altura\n",
    "    def perimetro(self):\n",
    "        return 2*(self.base + self.altura)\n",
    "\n",
    "class Triangulo(ObjetoGrafico):\n",
    "    def __init__(self, cor_de_preenchimento, preenchida, cor_de_contorno, base, altura):\n",
    "        super().__init__(cor_de_preenchimento, preenchida, cor_de_contorno)\n",
    "        self.base = base\n",
    "        self.altura = altura\n",
    "\n",
    "    def area(self):\n",
    "        return self.base*self.altura\n",
    "\n",
    "    def perimetro(self):\n",
    "        #ops! falha minha\n",
    "        pass\n",
    "\n",
    "class Circulo(ObjetoGrafico):\n",
    "    def __init__(self, cor_de_preenchimento, preenchida, cor_de_contorno, raio):\n",
    "        super().__init__(cor_de_preenchimento, preenchida, cor_de_contorno)\n",
    "        self.raio = raio\n",
    "\n",
    "    def area(self):\n",
    "        return pi*self.raio*self.raio\n",
    "\n",
    "    def perimetro(self):\n",
    "        print(2*pi*self.raio)\n",
    "\n",
    "x = Triangulo('d', 'd', 'd', 5, 6)\n",
    "\n",
    "x.area()\n",
    "print(str(x))"
   ]
  },
  {
   "cell_type": "markdown",
   "metadata": {},
   "source": [
    "# AULA 063"
   ]
  },
  {
   "cell_type": "code",
   "execution_count": null,
   "metadata": {},
   "outputs": [],
   "source": [
    "\"\"\"\n",
    "Escreva um programa de bancos que possua:\n",
    "    Uma classe Banco com os atributos\n",
    "    - private total\n",
    "    - public TaxaReserva\n",
    "    - private reservaExigida\n",
    "\n",
    "    E métodos\n",
    "    - public podeFazerEmprestimo(valor) --> bool\n",
    "    - public MudaTotal(valor)\n",
    "\n",
    "E uma classe conta com os atributos\n",
    "    - private saldo\n",
    "    - private ID\n",
    "    - private senha\n",
    "\n",
    "    E métodos\n",
    "    - public deposito(senha, valor)\n",
    "    - public saque(senha, valor)\n",
    "    - public podeReceberEmprestimo(valor) --> bool\n",
    "    - public saldo --> float\n",
    "\"\"\"\n",
    "\n",
    "class Banco(object):\n",
    "    __total = 10000\n",
    "    TaxaReserva = 0.1\n",
    "    reservaExigida = __total*TaxaReserva\n",
    "\n",
    "    def podeFazerEmprestimo(valor):\n",
    "        Banco.__total -= valor\n",
    "        if Banco.__total >= Banco.reservaExigida:\n",
    "            pode = True\n",
    "        else:\n",
    "            pode = False\n",
    "\n",
    "        Banco.__total += valor\n",
    "\n",
    "        return pode\n",
    "\n",
    "    def MudaTotal(valor):\n",
    "        Banco.__total += valor\n",
    "\n",
    "class Conta\n",
    "    def __init__(self, saldo, ID, senha):\n",
    "        self.__saldo = saldo\n",
    "        self.__ID = ID\n",
    "        self.__senha = senha\n",
    "\n",
    "    def deposito(self, senha, valor):\n",
    "        if senha == self.__senha:\n",
    "            self.__saldo += valor\n",
    "            Banco.mudaTotal(valor)\n",
    "\n",
    "    def saque(self, senha, valor):\n",
    "        if senha == self.__senha:\n",
    "            self.__saldo -= valor\n",
    "            Banco.mudaTotal(-valor)\n",
    "\n",
    "    def podeReceberEmprestimo(self, valor):\n",
    "        return Banco.podeFazerEmprestimo(valor)\n",
    "\n",
    "    def saldo(self):\n",
    "        print(self.__saldo)\n"
   ]
  },
  {
   "cell_type": "markdown",
   "metadata": {},
   "source": [
    "# AULA 064 visto"
   ]
  },
  {
   "cell_type": "code",
   "execution_count": 43,
   "metadata": {},
   "outputs": [
    {
     "name": "stdout",
     "output_type": "stream",
     "text": [
      "ID: 6000 \n",
      "Saldo: R$ 567.00 \n"
     ]
    }
   ],
   "source": [
    "class Conta:\n",
    "    def __init__(self, saldo, ID):\n",
    "        self.saldo = saldo\n",
    "        self.ID = ID\n",
    "        \n",
    "    def __str__(self):\n",
    "        return 'ID: %i \\nSaldo: R$ %.2f ' %(self.ID, self.saldo)\n",
    "\n",
    "x = Conta(567, 6000)\n",
    "\n",
    "print(x)"
   ]
  },
  {
   "cell_type": "code",
   "execution_count": 58,
   "metadata": {},
   "outputs": [
    {
     "data": {
      "text/plain": [
       "False"
      ]
     },
     "execution_count": 58,
     "metadata": {},
     "output_type": "execute_result"
    }
   ],
   "source": [
    "class Pai:\n",
    "    pass\n",
    "\n",
    "class Filha(Pai):\n",
    "    pass\n",
    "\n",
    "issubclass(Filha, Pai)"
   ]
  },
  {
   "cell_type": "code",
   "execution_count": 57,
   "metadata": {},
   "outputs": [
    {
     "data": {
      "text/plain": [
       "(__main__.Pai,)"
      ]
     },
     "execution_count": 57,
     "metadata": {},
     "output_type": "execute_result"
    }
   ],
   "source": [
    "class Pai:\n",
    "    pass\n",
    "\n",
    "class Filha(Pai):\n",
    "    pass\n",
    "\n",
    "Filha.__bases__"
   ]
  },
  {
   "cell_type": "markdown",
   "metadata": {},
   "source": [
    "# AULA 65 visto\n",
    "28/09/2019"
   ]
  },
  {
   "cell_type": "markdown",
   "metadata": {},
   "source": [
    "# AULA 66 visto\n",
    "28/09/2019"
   ]
  },
  {
   "cell_type": "code",
   "execution_count": null,
   "metadata": {},
   "outputs": [],
   "source": []
  }
 ],
 "metadata": {
  "kernelspec": {
   "display_name": "Python 3",
   "language": "python",
   "name": "python3"
  },
  "language_info": {
   "codemirror_mode": {
    "name": "ipython",
    "version": 3
   },
   "file_extension": ".py",
   "mimetype": "text/x-python",
   "name": "python",
   "nbconvert_exporter": "python",
   "pygments_lexer": "ipython3",
   "version": "3.7.3"
  }
 },
 "nbformat": 4,
 "nbformat_minor": 2
}
