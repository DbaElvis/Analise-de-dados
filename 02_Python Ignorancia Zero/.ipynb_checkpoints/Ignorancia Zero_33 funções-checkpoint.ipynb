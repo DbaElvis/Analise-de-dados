{
 "cells": [
  {
   "cell_type": "markdown",
   "metadata": {},
   "source": [
    "# AULA 033"
   ]
  },
  {
   "cell_type": "code",
   "execution_count": 1,
   "metadata": {},
   "outputs": [
    {
     "name": "stdout",
     "output_type": "stream",
     "text": [
      "produto 512\n"
     ]
    }
   ],
   "source": [
    "def pot(base, expo): \n",
    "    return base**expo\n",
    "\n",
    "\n",
    "a = pot(2,9)\n",
    "\n",
    "print(\"produto\", a)"
   ]
  },
  {
   "cell_type": "code",
   "execution_count": 7,
   "metadata": {},
   "outputs": [
    {
     "name": "stdout",
     "output_type": "stream",
     "text": [
      "11 512 0.2222222222222222 18\n"
     ]
    }
   ],
   "source": [
    "def pot(base, expo): \n",
    "    \n",
    "    soma = base + expo\n",
    "    \n",
    "    return soma, base**expo, base/expo, base*expo\n",
    "\n",
    "\n",
    "a, b, c, d = pot(2,9)\n",
    "\n",
    "print(a, b, c, d)"
   ]
  },
  {
   "cell_type": "markdown",
   "metadata": {},
   "source": [
    "# AULA 034"
   ]
  },
  {
   "cell_type": "code",
   "execution_count": 3,
   "metadata": {},
   "outputs": [
    {
     "name": "stdout",
     "output_type": "stream",
     "text": [
      "Digite o custo(R$): 890\n",
      "Digite a taxa de imposto(%): 10\n",
      "O custo recalculado com o imposto é de R$99.00\n"
     ]
    }
   ],
   "source": [
    "\"\"\"\n",
    "Faça um programa com uma função chamada somaImposto.\n",
    "\n",
    "A função possui dois parâmetros formais:\n",
    "    1 - taxaImposto, que é a quantia de imposto sobre vendas expressa em\n",
    "        porcentagem\n",
    "    2 - custo, que é o custo de um item antes do imposto.\n",
    "\n",
    "A função “altera” o valor de custo para incluir o imposto sobre vendas.\n",
    "\"\"\"\n",
    "\n",
    "def somaImposto(taxaImposto, custo):\n",
    "    return custo*(1 + taxaImposto/100)\n",
    "\n",
    "custo_normal = float(input(\"Digite o custo(R$): \"))\n",
    "taxa = float(input(\"Digite a taxa de imposto(%): \"))\n",
    "\n",
    "print(\"O custo recalculado com o imposto é de R$%.2f\"%somaImposto(custo_normal, taxa))"
   ]
  },
  {
   "cell_type": "code",
   "execution_count": null,
   "metadata": {},
   "outputs": [],
   "source": [
    "\"\"\"\n",
    "Faça um programa que converta da notação de 24 horas para a notação de 12 horas.\n",
    "Por exemplo, o programa deve converter 14:25 em 2:25 P.M.\n",
    "A entrada é dada em dois inteiros. Deve haver pelo menos duas funções:\n",
    "uma para fazer a conversão e uma para a saída. Registre a informação A.M./P.M.\n",
    "como um valor ‘A’ para A.M. e ‘P’ para P.M. Assim, a função para efetuar as\n",
    "conversões terá um parâmetro formal para registrar se é A.M. ou P.M.\n",
    "Inclua um loop que permita que o usuário repita esse cálculo para novos valores\n",
    "de entrada todas as vezes que desejar.\n",
    "\"\"\"\n",
    "\n",
    "def ConverteHorário(hora):\n",
    "    return hora - 12\n",
    "\n",
    "def imprimeHora(hora, minuto):\n",
    "    if hora <= 12:\n",
    "        print(\"%i:%i A.M.\"%(hora, minuto))\n",
    "    else:\n",
    "        hora = ConverteHorário(hora)\n",
    "        print(\"%i:%i P.M.\"%(hora, minuto))\n",
    "\n",
    "rodando = True\n",
    "while rodando:\n",
    "    hora = int(input(\"Digite a hora: \"))\n",
    "    minuto = int(input(\"Digite os minutos: \"))\n",
    "    imprimeHora(hora, minuto)\n",
    "    rodando = bool(int(input(\"Deseja fazer uma nova conversão(1 - sim/0 - não): \")))"
   ]
  },
  {
   "cell_type": "code",
   "execution_count": null,
   "metadata": {},
   "outputs": [],
   "source": [
    "\"\"\"\n",
    "Escreva uma função que obtenha o maior número de uma sequência de números\n",
    "\"\"\"\n",
    "\n",
    "def Max(*nums):\n",
    "    maior = nums[0]\n",
    "\n",
    "    for num in nums:\n",
    "        if num > maior:\n",
    "            maior = num\n",
    "\n",
    "    return maior"
   ]
  },
  {
   "cell_type": "code",
   "execution_count": null,
   "metadata": {},
   "outputs": [],
   "source": [
    "\"\"\"\n",
    "Escreva uma função que obtenha a multiplicação de vários números de entrada\n",
    "\"\"\"\n",
    "\n",
    "def mult(*nums):\n",
    "    prod = 1\n",
    "    for num in nums:\n",
    "        prod*=num\n",
    "\n",
    "    return prod"
   ]
  },
  {
   "cell_type": "code",
   "execution_count": null,
   "metadata": {},
   "outputs": [],
   "source": [
    "\"\"\"\n",
    "Escreva uma função recursiva que imprima de um número x até um y\n",
    "\"\"\"\n",
    "\n",
    "def funçãoRecursiva(x, y):\n",
    "    if x <= y:\n",
    "        print(x)\n",
    "        funçãoRecursiva(x + 1, y)\n",
    "\n",
    "funçãoRecursiva(0, 10)"
   ]
  },
  {
   "cell_type": "markdown",
   "metadata": {},
   "source": [
    "# AULA 035"
   ]
  },
  {
   "cell_type": "code",
   "execution_count": null,
   "metadata": {},
   "outputs": [],
   "source": [
    "\"\"\"\n",
    "Escreva uma função que produza a soma dos primeiros\n",
    "n números de uma lista com tamanho m\n",
    "\"\"\"\n",
    "\n",
    "def criaLista():\n",
    "    lista = []\n",
    "\n",
    "    m = int(input(\"Digite o tamanho da lista: \"))\n",
    "\n",
    "    for i in range(m):\n",
    "        ele = float(input(\"Digite o elemento %i de %i: \"%(i+1, m)))\n",
    "        lista.append(ele)\n",
    "\n",
    "    return lista\n",
    "\n",
    "def main():\n",
    "    l1 = criaLista()\n",
    "\n",
    "    n = int(input(\"Digite o número de elementos que se deseja somar: \"))\n",
    "\n",
    "    soma = 0\n",
    "    for i in range(len(l1)):\n",
    "        if i == n:\n",
    "            break\n",
    "        soma += l1[i]\n",
    "\n",
    "    print(\"A soma é\", soma)\n",
    "\n",
    "main()\n"
   ]
  },
  {
   "cell_type": "code",
   "execution_count": null,
   "metadata": {},
   "outputs": [],
   "source": [
    "\"\"\"\n",
    "Escreva uma função que obtenha a soma de vários números de entrada\n",
    "\"\"\"\n",
    "\n",
    "def soma(num2, *lista):\n",
    "    soma_num = 0\n",
    "\n",
    "    print(lista)\n",
    "\n",
    "    for num in lista:\n",
    "        soma_num += num\n",
    "\n",
    "    return soma_num\n",
    "\n",
    "a = (1,2,3,4)\n",
    "\n",
    "print(soma(1,2,3,4,5))"
   ]
  },
  {
   "cell_type": "code",
   "execution_count": null,
   "metadata": {},
   "outputs": [],
   "source": [
    "\"\"\"\n",
    "Escreva uma funcao que obtenha a soma de varios numeros de entrada\n",
    "\"\"\"\n",
    "\n",
    "def soma(num2, *lista):\n",
    "    soma_num = 0\n",
    "\n",
    "    print(lista)\n",
    "\n",
    "    for num in lista:\n",
    "        soma_num += num\n",
    "\n",
    "    return soma_num\n",
    "\n",
    "a = (1,2,3,4)\n",
    "\n",
    "print(soma(1,2,3,4,5))\n"
   ]
  },
  {
   "cell_type": "code",
   "execution_count": null,
   "metadata": {},
   "outputs": [],
   "source": [
    "\"\"\"\n",
    "Exemplo: Peso de provas\n",
    "\"\"\"\n",
    "def soma(*nums):\n",
    "    soma_num = 0\n",
    "    for num in nums:\n",
    "        soma_num += num\n",
    "\n",
    "    return soma_num\n",
    "\n",
    "def media(p1, p2, p3, peso1 = 1, peso2 = 1, peso3 = 1):\n",
    "    return(p1*peso1 + p2*peso2 + p3*peso3)/soma(peso1, peso2, peso3)\n",
    "\n",
    "print(media(6, 4, 5, 2))\n"
   ]
  },
  {
   "cell_type": "markdown",
   "metadata": {},
   "source": [
    "# AULA 036"
   ]
  },
  {
   "cell_type": "code",
   "execution_count": null,
   "metadata": {},
   "outputs": [],
   "source": [
    "\"\"\"\n",
    "Bancário. Escreva um programa que registre o caixa de um banco. O programa\n",
    "começa perguntando se o usuário quer criar uma conta ou fechar o programa. Se\n",
    "ele escolher fechar o programa escreve uma mensagem de agradecimento e fecha,\n",
    "caso contrário ele vai pedir que usuário selecione um número com 6 dígitos\n",
    "e, então, se o número não existir no registro do banco, ele irá pedir um valor\n",
    "de depósito. Depois o banco perguntara se se deseja ver o saldo do banco, se sim\n",
    "ele deverá imprimir o balanço geral do banco, senão ele entrará em loop.\n",
    "\"\"\"\n",
    "contas = []\n",
    "depositos = []\n",
    "saldo = 0\n",
    "\n",
    "def main():\n",
    "    opcao = bool(int(input(\"Deseja ver o criar conta(1) ou fechar o programa(0): \")))\n",
    "    while opcao:\n",
    "        criaConta()\n",
    "        VerSaldo()\n",
    "        opcao = bool(int(input(\"Deseja ver o criar conta(1) ou fechar o programa(0): \")))\n",
    "\n",
    "def criaConta():\n",
    "    global contas, depositos, saldo\n",
    "    num_conta = int(input(\"Digite um número de conta: \"))\n",
    "\n",
    "    while num_conta in contas:\n",
    "        print(\"Conta ja existente. Digite novamente.\")\n",
    "        num_conta = int(input(\"Digite um número de conta: \"))\n",
    "\n",
    "    contas.append(num_conta)\n",
    "\n",
    "    deposito = float(input(\"Digite o valor do seu primeiro depósito: \"))\n",
    "    while deposito <= 0:\n",
    "        print(\"Valor de deposito invalido.\")\n",
    "        deposito = float(input(\"Digite o valor do seu primeiro deposito: \"))\n",
    "\n",
    "    depositos.append(deposito)\n",
    "    saldo += deposito\n",
    "\n",
    "def VerSaldo():\n",
    "    global saldo\n",
    "    opcao = bool(int(input(\"Deseja ver o saldo do banco(1 - Sim/ 0 - Nao): \")))\n",
    "    if opcao:\n",
    "        print(\"O saldo do banco e R$\", saldo)\n",
    "\n",
    "\n",
    "main()\n"
   ]
  },
  {
   "cell_type": "markdown",
   "metadata": {},
   "source": [
    "# AULA 037"
   ]
  },
  {
   "cell_type": "code",
   "execution_count": null,
   "metadata": {},
   "outputs": [],
   "source": [
    "\"\"\"\n",
    "Escreva uma função que recebe um inteiro m e outro n e com isso\n",
    "constrói uma matriz mxn\n",
    "\"\"\"\n",
    "\n",
    "matriz = []\n",
    "m = int(input(\"Digite o número de linhas da matriz: \"))\n",
    "n = int(input(\"Digite o número de colunas da matriz: \"))\n",
    "\n",
    "def constroiMatriz(m, n, matriz):\n",
    "    for i in range(1, m+1):\n",
    "        linha = []\n",
    "        for j in range(1, n+1):\n",
    "            x = int(input(\"Digite o elemento %i%i da matriz: \"%(i,j)))\n",
    "            linha.append(x)\n",
    "\n",
    "        matriz.append(linha)\n",
    "\n",
    "constroiMatriz(m, n, matriz)\n",
    "\n",
    "print(matriz)\n"
   ]
  },
  {
   "cell_type": "code",
   "execution_count": null,
   "metadata": {},
   "outputs": [],
   "source": [
    "\"\"\"\n",
    "Escreva uma função que troca um elemento por outro numa matriz\n",
    "\"\"\"\n",
    "matriz = []\n",
    "m = int(input(\"Digite o número de linhas da matriz: \"))\n",
    "n = int(input(\"Digite o número de colunas da matriz: \"))\n",
    "\n",
    "def constróiMatriz(m, n, matriz):\n",
    "    for i in range(1, m+1):\n",
    "        linha = []\n",
    "        for j in range(1, n+1):\n",
    "            x = int(input(\"Digite o elemento %i%i da matriz: \"%(i,j)))\n",
    "            linha.append(x)\n",
    "\n",
    "        matriz.append(linha)\n",
    "\n",
    "def TrocaElemento(pos1, pos2, matriz):\n",
    "    elemento1 = matriz[pos1//10 -1][pos1%10 -1]\n",
    "    elemento2 = matriz[pos2//10 -1][pos2%10-1]\n",
    "    matriz[pos1//10-1][pos1%10-1] = elemento2\n",
    "    matriz[pos2//10-1][pos2%10-1] = elemento1\n",
    "\n",
    "constróiMatriz(m, n, matriz)\n",
    "print(matriz)\n",
    "pos1 = int(input(\"Digite a posição do elemento 1: \"))\n",
    "pos2 = int(input(\"Digite a posição do elemento 2: \"))\n",
    "TrocaElemento(pos1, pos2, matriz)\n",
    "print(matriz)\n"
   ]
  },
  {
   "cell_type": "code",
   "execution_count": null,
   "metadata": {},
   "outputs": [],
   "source": [
    "\"\"\"\n",
    "Escreva uma função que gera uma matriz 4x4 com os números de 0 a 15 sem\n",
    "repetições\n",
    "\"\"\"\n",
    "\n",
    "import random\n",
    "matriz = []\n",
    "def geraMatriz(matriz):\n",
    "    lista = list(range(16))\n",
    "    for j in range(4):\n",
    "        linha = []\n",
    "        for i in range(4):\n",
    "            x = random.choice(lista)\n",
    "            linha.append(x)\n",
    "            lista.remove(x)\n",
    "        matriz.append(linha)\n",
    "\n",
    "for i in range(3):\n",
    "    matriz = []\n",
    "    geraMatriz(matriz)\n",
    "    print(matriz)\n"
   ]
  },
  {
   "cell_type": "markdown",
   "metadata": {},
   "source": [
    "# AULA 038"
   ]
  },
  {
   "cell_type": "code",
   "execution_count": null,
   "metadata": {},
   "outputs": [],
   "source": [
    "def f(ops):\n",
    "    f = ops\n",
    "    #num = ops\n",
    "    print(f)\n",
    "    #print(num)\n",
    "\n",
    "f(1)\n",
    "\n",
    "f = 2\n",
    "print(f)\n",
    "f(3)\n"
   ]
  },
  {
   "cell_type": "markdown",
   "metadata": {},
   "source": [
    "# AULA 039"
   ]
  },
  {
   "cell_type": "code",
   "execution_count": 6,
   "metadata": {},
   "outputs": [
    {
     "name": "stdout",
     "output_type": "stream",
     "text": [
      "120\n"
     ]
    }
   ],
   "source": [
    "def fato(f):\n",
    "    fat = 1\n",
    "    for x in range(1, f+1):\n",
    "        \n",
    "        fat *= x\n",
    "        \n",
    "    return fat\n",
    "\n",
    "print(fato(5))"
   ]
  },
  {
   "cell_type": "code",
   "execution_count": 7,
   "metadata": {},
   "outputs": [
    {
     "name": "stdout",
     "output_type": "stream",
     "text": [
      "6\n"
     ]
    }
   ],
   "source": [
    "def fato(f):\n",
    "    if f == 1:\n",
    "        return f\n",
    "    return fato(f - 1)* f\n",
    "\n",
    "print(fato(3))"
   ]
  },
  {
   "cell_type": "markdown",
   "metadata": {},
   "source": [
    "# AULA 040"
   ]
  },
  {
   "cell_type": "code",
   "execution_count": 1,
   "metadata": {},
   "outputs": [
    {
     "name": "stdout",
     "output_type": "stream",
     "text": [
      "presunto 1\n",
      "mortadela 2\n",
      "queijo 3\n",
      "pão 4\n"
     ]
    }
   ],
   "source": [
    "\"\"\"\n",
    "Lista de comida\n",
    "\"\"\"\n",
    "\n",
    "def lista():\n",
    "    start = 0\n",
    "    lista = []\n",
    "    def incrementa(item):\n",
    "        nonlocal lista, start\n",
    "        lista.append(item)\n",
    "        start += 1\n",
    "        print(item, start)\n",
    "    return incrementa\n",
    "\n",
    "compras1 = lista()\n",
    "\n",
    "compras1('presunto')\n",
    "compras1('mortadela')\n",
    "compras1('queijo')\n",
    "compras1('pão')\n"
   ]
  },
  {
   "cell_type": "code",
   "execution_count": 2,
   "metadata": {},
   "outputs": [
    {
     "name": "stdout",
     "output_type": "stream",
     "text": [
      "Digite um número: 2\n",
      "Para o número 1\n",
      "1 * 1 = 1\n",
      "1 * 2 = 2\n",
      "1 * 3 = 3\n",
      "1 * 4 = 4\n",
      "1 * 5 = 5\n",
      "1 * 6 = 6\n",
      "1 * 7 = 7\n",
      "1 * 8 = 8\n",
      "1 * 9 = 9\n",
      "1 * 10 = 10\n",
      "\n",
      "Para o número 2\n",
      "2 * 1 = 2\n",
      "2 * 2 = 4\n",
      "2 * 3 = 6\n",
      "2 * 4 = 8\n",
      "2 * 5 = 10\n",
      "2 * 6 = 12\n",
      "2 * 7 = 14\n",
      "2 * 8 = 16\n",
      "2 * 9 = 18\n",
      "2 * 10 = 20\n",
      "\n"
     ]
    }
   ],
   "source": [
    "\"\"\"\n",
    "Escreva um programa usando uma nested function que permita imprimir a taboada\n",
    "de 1 até um n dado\n",
    "\n",
    "\"\"\"\n",
    "\n",
    "def tab(N):\n",
    "    \"\"\"\n",
    "    Recebe um número N e devolve uma função mult\n",
    "    \"\"\"\n",
    "    def mult(x):\n",
    "        \"\"\"\n",
    "        Recebe x e devolve x*n\n",
    "        \"\"\"\n",
    "        return x*N\n",
    "\n",
    "    return mult\n",
    "\n",
    "def main():\n",
    "    \"\"\"\n",
    "    Função principal do programa\n",
    "    \"\"\"\n",
    "\n",
    "    n = int(input(\"Digite um número: \"))\n",
    "    \n",
    "    for i in range(1, n+1):\n",
    "        f = tab(i)\n",
    "        print(\"Para o número\", i)\n",
    "        for j in range(1, 11):\n",
    "            print(\"%i * %i = %i\"%(i, j, f(j)))\n",
    "        print()\n",
    "\n",
    "main()\n"
   ]
  },
  {
   "cell_type": "code",
   "execution_count": null,
   "metadata": {},
   "outputs": [],
   "source": [
    "\"\"\"\n",
    "Reescreva o programa bancário da aula 36 colocando todas as funções dentro da\n",
    "função main. Utilize o statement nonlocal.\n",
    "(OBS: Pense bem onde colocar as variáveis \"globais\")\n",
    "\"\"\"\n",
    "\n",
    "def main():\n",
    "    \"\"\"\n",
    "    Função principal do programa. Possui duas nested functions:\n",
    "    criaConta e VerSaldo\n",
    "    \"\"\"\n",
    "    contas = []\n",
    "    depositos = []\n",
    "    saldo = 0\n",
    "    \n",
    "    def criaConta():\n",
    "        \"\"\"\n",
    "        Cria uma nova conta\n",
    "        \"\"\"\n",
    "        nonlocal contas, depositos, saldo\n",
    "        num_conta = int(input(\"Digite um número de conta: \"))\n",
    "\n",
    "        while num_conta in contas:\n",
    "            print(\"Conta já existente. Digite novamente.\")\n",
    "            num_conta = int(input(\"Digite um número de conta: \"))\n",
    "\n",
    "        contas.append(num_conta)\n",
    "\n",
    "        deposito = float(input(\"Digite o valor do seu primeiro depósito: \"))\n",
    "        while deposito <= 0:\n",
    "            print(\"Valor de depósito inválido.\")\n",
    "            deposito = float(input(\"Digite o valor do seu primeiro depósito: \"))\n",
    "\n",
    "        depositos.append(deposito)\n",
    "        saldo += deposito\n",
    "\n",
    "    def VerSaldo():\n",
    "        \"\"\"\n",
    "        Permite que o usuário visualize seu saldo\n",
    "        \"\"\"\n",
    "        #nonlocal saldo --> Note que não é preciso colocar nonlocal\n",
    "        #já que não modificamos o valor de saldo\n",
    "        opção = bool(int(input(\"Deseja ver o saldo do banco(1 - Sim/ 0 - Não): \")))\n",
    "        if opção:\n",
    "            print(\"O saldo do banco é R$\", saldo)\n",
    "\n",
    "\n",
    "\n",
    "    opção = bool(int(input(\"Deseja ver o criar conta(1) ou fechar o programa(0): \")))\n",
    "    while opção:\n",
    "        criaConta()\n",
    "        VerSaldo()\n",
    "        opção = bool(int(input(\"Deseja ver o criar conta(1) ou fechar o programa(0): \")))\n",
    "\n",
    "main()\n"
   ]
  },
  {
   "cell_type": "markdown",
   "metadata": {},
   "source": [
    "# AULA 041 NAO HOUVE EXERCICIO"
   ]
  },
  {
   "cell_type": "markdown",
   "metadata": {},
   "source": [
    "# AULA 042 "
   ]
  },
  {
   "cell_type": "markdown",
   "metadata": {},
   "source": [
    "# RETORNAR AO CODIGO DO JOGO BAGEL"
   ]
  },
  {
   "cell_type": "markdown",
   "metadata": {},
   "source": [
    "# AULA 043"
   ]
  },
  {
   "cell_type": "code",
   "execution_count": null,
   "metadata": {},
   "outputs": [],
   "source": [
    "\"\"\"\n",
    "Escreva uma função que produza a soma dos primeiros\n",
    "n números de uma lista com tamanho m\n",
    "\"\"\"\n",
    "\n",
    "def criaLista():\n",
    "    lista = []\n",
    "\n",
    "    m = int(input(\"Digite o tamanho da lista: \"))\n",
    "\n",
    "    for i in range(m):\n",
    "        ele = float(input(\"Digite o elemento %i de %i: \"%(i+1, m)))\n",
    "        lista.append(ele)\n",
    "\n",
    "    return lista\n",
    "\n",
    "def main():\n",
    "    l1 = criaLista()\n",
    "\n",
    "    n = int(input(\"Digite o número de elementos que se deseja somar: \"))\n",
    "\n",
    "    soma = 0\n",
    "    for i in range(len(l1)):\n",
    "        if i == n:\n",
    "            break\n",
    "        soma += l1[i]\n",
    "\n",
    "    print(\"A soma é\", soma)\n",
    "\n",
    "main()\n"
   ]
  },
  {
   "cell_type": "code",
   "execution_count": null,
   "metadata": {},
   "outputs": [],
   "source": [
    "\"\"\"\n",
    "Escreva uma programa que pegue a lista\n",
    "abaixo e forneça uma nova lista apenas com números ímpares\n",
    "\"\"\"\n",
    "\n",
    "lista= [788, 587, 61, 309, 426, 420, 801, 178, 80, 329, 831, 524, 545, 475,\n",
    "        815, 958, 190, 41, 901, 432, 435, 6, 137, 679, 36, 243, 604, 826,\n",
    "        758, 304, 319, 507, 404, 792, 105, 667, 438, 693, 802, 165, 527,\n",
    "        814, 548, 96, 683, 602, 302, 219, 376, 914, 478, 175, 360, 266,\n",
    "        555, 306, 223, 547, 214, 387, 62, 919, 908, 899, 772, 363, 270,\n",
    "        723, 346, 921, 424, 75, 869, 250, 969, 633, 460, 108, 808, 5, 631,\n",
    "        766, 846, 303, 600, 683, 343, 258, 904, 194, 111, 245, 412, 552,\n",
    "        631, 49, 170, 246, 702, 783]\n",
    "impar = []\n",
    "for i in lista:\n",
    "    if i % 2 == 0:\n",
    "        continue\n",
    "    impar.append(i)\n",
    "\n",
    "print(impar)\n"
   ]
  },
  {
   "cell_type": "code",
   "execution_count": null,
   "metadata": {},
   "outputs": [],
   "source": [
    "\"\"\"\n",
    "Escreva o jogo do chute.\n",
    "Nele você deve sortear um número inteiro entre 1 e 100 e pedir\n",
    "para o usuário advinhar o número que você escolheu\n",
    "\n",
    "Para cada chute do usuário você deve imprimir uma dica, se\n",
    "ele chutou baixo de mais ou alto demais\n",
    "\n",
    "Uma vez que o usuário acerte o chute o programa imprime uma\n",
    "mensagem e também o número de chutes que o usuário deu\n",
    "\n",
    "OBS: Use o statement break\n",
    "\n",
    "\"\"\"\n",
    "import random\n",
    "\n",
    "num = random.randint(1, 100)\n",
    "\n",
    "chutes = 0\n",
    "\n",
    "print(\"Tente advinhar o número que eu estou pensando\")\n",
    "\n",
    "while True:\n",
    "    chute = int(input(\"Seu Chute: \"))\n",
    "    chutes += 1\n",
    "    if chute == num:\n",
    "        break\n",
    "    elif chute < num:\n",
    "        print(\"Você deve chutar mais alto!\")\n",
    "    else:\n",
    "        print(\"Você deve chutar mais baixo!\")\n",
    "\n",
    "\n",
    "print(\"Parabens você acertou!!\")\n",
    "print(\"Você chutou %i vezes\"%chutes)"
   ]
  },
  {
   "cell_type": "code",
   "execution_count": null,
   "metadata": {},
   "outputs": [],
   "source": [
    "\"\"\"\n",
    "São dados dois números inteiros positivos p e q,\n",
    "sendo que o número de dígitos de p é menor ou igual ao número de dígitos de q.\n",
    "Verificar se p é um subnúmero de q.\n",
    "\n",
    "Exemplos:\n",
    "p = 23, q = 57238, p é subnúmero de q.\n",
    "p = 23, q = 258347, p não é subnúmero de q.\n",
    "\n",
    "Reescreva o exercício usando funções, break e continue\n",
    "\"\"\"\n",
    "def main():\n",
    "    \"\"\"\n",
    "    Função Principal do programa\n",
    "    \"\"\"\n",
    "    p = int(input(\"Digite o valor de p: \"))\n",
    "    q = int(input(\"Digite o valor de q: \"))\n",
    "\n",
    "    #Calcula o numero de digitos de p\n",
    "    cont_d = contaDigitos(p)\n",
    "\n",
    "    #Comparação\n",
    "    #p é sub de q --> paro execução\n",
    "    #q == 0\n",
    "    aux_q = q\n",
    "    while True:\n",
    "        subnum = aux_q%(10**cont_d)\n",
    "        if subnum == p:\n",
    "            break\n",
    "\n",
    "        aux_q //= 10\n",
    "\n",
    "        if aux_q == 0:\n",
    "            break\n",
    "\n",
    "    if subnum == p:\n",
    "        print(\"%i é subnumero de %i\" %(p, q))\n",
    "    else:\n",
    "        print(\"%i não é subnumero de %i\" %(p, q))\n",
    "\n",
    "\n",
    "def contaDigitos(num):\n",
    "    \"\"\"\n",
    "    Recebe um numero inteiro e devolve o número\n",
    "    de dígitos que esse número possuí\n",
    "    \"\"\"\n",
    "    cont = 0\n",
    "    while num!=0:\n",
    "        num //=10\n",
    "        cont+=1\n",
    "\n",
    "    return cont\n",
    "\n",
    "main()"
   ]
  },
  {
   "cell_type": "code",
   "execution_count": 6,
   "metadata": {},
   "outputs": [
    {
     "name": "stdout",
     "output_type": "stream",
     "text": [
      "8\n"
     ]
    }
   ],
   "source": [
    "num = (lambda x, y, z: (x + y + z) + (x * y * z) + (x - y - z))\n",
    "\n",
    "print(num(1, 2, 3))"
   ]
  },
  {
   "cell_type": "code",
   "execution_count": null,
   "metadata": {},
   "outputs": [],
   "source": []
  },
  {
   "cell_type": "code",
   "execution_count": null,
   "metadata": {},
   "outputs": [],
   "source": []
  }
 ],
 "metadata": {
  "kernelspec": {
   "display_name": "Python 3",
   "language": "python",
   "name": "python3"
  },
  "language_info": {
   "codemirror_mode": {
    "name": "ipython",
    "version": 3
   },
   "file_extension": ".py",
   "mimetype": "text/x-python",
   "name": "python",
   "nbconvert_exporter": "python",
   "pygments_lexer": "ipython3",
   "version": "3.7.3"
  }
 },
 "nbformat": 4,
 "nbformat_minor": 2
}
