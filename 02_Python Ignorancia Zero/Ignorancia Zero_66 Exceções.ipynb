{
 "cells": [
  {
   "cell_type": "markdown",
   "metadata": {},
   "source": [
    "# AULA 66 \n",
    "28/09/2019"
   ]
  },
  {
   "cell_type": "code",
   "execution_count": 1,
   "metadata": {},
   "outputs": [
    {
     "data": {
      "text/plain": [
       "['C:\\\\Users\\\\ELVIS\\\\AI - Projetos inteligencia artificial\\\\02_Python Ignorancia Zero',\n",
       " 'C:\\\\Users\\\\ELVIS\\\\Anaconda3\\\\python37.zip',\n",
       " 'C:\\\\Users\\\\ELVIS\\\\Anaconda3\\\\DLLs',\n",
       " 'C:\\\\Users\\\\ELVIS\\\\Anaconda3\\\\lib',\n",
       " 'C:\\\\Users\\\\ELVIS\\\\Anaconda3',\n",
       " '',\n",
       " 'C:\\\\Users\\\\ELVIS\\\\Anaconda3\\\\lib\\\\site-packages',\n",
       " 'C:\\\\Users\\\\ELVIS\\\\Anaconda3\\\\lib\\\\site-packages\\\\win32',\n",
       " 'C:\\\\Users\\\\ELVIS\\\\Anaconda3\\\\lib\\\\site-packages\\\\win32\\\\lib',\n",
       " 'C:\\\\Users\\\\ELVIS\\\\Anaconda3\\\\lib\\\\site-packages\\\\Pythonwin',\n",
       " 'C:\\\\Users\\\\ELVIS\\\\Anaconda3\\\\lib\\\\site-packages\\\\IPython\\\\extensions',\n",
       " 'C:\\\\Users\\\\ELVIS\\\\.ipython']"
      ]
     },
     "execution_count": 1,
     "metadata": {},
     "output_type": "execute_result"
    }
   ],
   "source": [
    "import sys\n",
    "\n",
    "sys.path"
   ]
  },
  {
   "cell_type": "markdown",
   "metadata": {},
   "source": [
    "# AULA 67\n",
    "28/09/2019"
   ]
  },
  {
   "cell_type": "code",
   "execution_count": 3,
   "metadata": {},
   "outputs": [
    {
     "name": "stdout",
     "output_type": "stream",
     "text": [
      "Digite um numero: \n",
      "Deu erro!\n",
      "0\n"
     ]
    }
   ],
   "source": [
    "try:\n",
    "    x = int(input('Digite um numero: '))\n",
    "except:\n",
    "    print('Deu erro!')\n",
    "    x = 0\n",
    "finally:\n",
    "    print(x)"
   ]
  },
  {
   "cell_type": "code",
   "execution_count": 4,
   "metadata": {},
   "outputs": [
    {
     "name": "stdout",
     "output_type": "stream",
     "text": [
      "Deu erro!\n"
     ]
    }
   ],
   "source": [
    "try:\n",
    "    a = open('arquivo.txt', 'r')\n",
    "    linha = a.readline()\n",
    "    linha.split('!')\n",
    "    linha = linha[0]\n",
    "    a.close()\n",
    "    a = open('arquivo.txt', 'a')\n",
    "    a.write(linha)\n",
    "except FileNotFoundError:\n",
    "    print('Deu erro!')\n",
    "    a = open('arquivo.txt', 'w')\n",
    "    a.write('ERRO!!!!!')\n",
    "finally:\n",
    "    a.close()"
   ]
  },
  {
   "cell_type": "markdown",
   "metadata": {},
   "source": [
    "# AULA 68\n",
    "28/08/2019"
   ]
  },
  {
   "cell_type": "code",
   "execution_count": null,
   "metadata": {},
   "outputs": [],
   "source": [
    "\n",
    "class ValorRepetidoErro(Exception):\n",
    "    def __init__(self, n):\n",
    "        self.num = n\n",
    "    def __str__(self):\n",
    "        return 'Putz meu caro, você já digitou esse %i antes'%self.num\n",
    "\n",
    "def main():\n",
    "    lista = []\n",
    "\n",
    "    for i in range(3):\n",
    "        while True:\n",
    "            try:\n",
    "                num = int(input('Escolher um número: '))\n",
    "                break\n",
    "            except ValueError:\n",
    "                print('Digite apenas números!')\n",
    "\n",
    "        if num not in lista:\n",
    "            lista.append(num)\n",
    "        else:\n",
    "            raise ValorRepetidoErro(num)\n",
    "        \n",
    "        \n",
    "\n",
    "\n",
    "if __name__ == '__main__':\n",
    "    main()\n"
   ]
  },
  {
   "cell_type": "code",
   "execution_count": null,
   "metadata": {},
   "outputs": [],
   "source": [
    "\"\"\"\n",
    "Crie o jogo do adivinha número!\n",
    "Usando os cartões na tupla abaixo, o programa vai pedir para o usuário\n",
    "pensar em um número entre 1 a 63. Em seguida o programa mostrara um cartão\n",
    "para o usuário perguntando se o número pensado se encontra nesse cartão.\n",
    "O usuário deverá digitar sim ou não. Depois de mostrados todos os cartões\n",
    "o programa deverá mostrar o número que o usuário pensou.\n",
    "\n",
    "Use o cabeçário da classe jogo para implementar os métodos necessários para rodar o jogo.\n",
    "Escreve uma excessão SoSimOuNao para verificar a entrada do usuário (coloque-a dentro\n",
    "de um bloco try).\n",
    "\n",
    "Um mágico nunca revela seus segredos, por isso veja o método adivinha número na classe jogo\n",
    "para ver se você consegue descobrir como a adivinhação é feita!\n",
    "\"\"\"\n",
    "class SoSimOuNao(Exception):\n",
    "    def __str__(self):\n",
    "        return 'Você só pode digitar sim ou não, nada mais'\n",
    "\n",
    "class Jogo(object):\n",
    "    def __init__(self):\n",
    "        self.__cartoes = ('''\n",
    "        1   3   5   7   9   11  13  15\n",
    "        17  19  21  23  25  27  29  31\n",
    "        33  35  37  39  41  43  45  47\n",
    "        49  51  53  55  57  59  61  63\n",
    "        ''','''\n",
    "        2   3   6   7   10  11  14  15\n",
    "        18  19  22  23  26  27  30  31\n",
    "        34  35  38  39  42  43  46  47\n",
    "        50  51  54  55  58  59  62  63\n",
    "        ''','''\n",
    "        4   5   6   7   12  13  14  15\n",
    "        20  21  22  23  28  29  30  31\n",
    "        36  37  38  39  44  45  46  47\n",
    "        52  53  54  55  60  61  62  63\n",
    "        ''','''\n",
    "        8   9   10  11  12  13  14  15\n",
    "        24  25  26  27  28  29  30  31\n",
    "        40  41  42  43  44  45  46  47\n",
    "        56  57  58  59  60  61  62  63\n",
    "        ''','''\n",
    "        16  17  18  19  20  21  22  23\n",
    "        24  25  26  27  28  29  30  31\n",
    "        48  49  50  51  52  53  54  55\n",
    "        56  57  58  59  60  61  62  63\n",
    "        ''','''\n",
    "        32  33  34  35  36  37  38  39\n",
    "        40  41  42  43  44  45  46  47\n",
    "        48  49  50  51  52  53  54  55\n",
    "        56  57  58  59  60  61  62  63\n",
    "        ''')\n",
    "        self.__card = 0\n",
    "        self.__num = 0\n",
    "        self.main()\n",
    "\n",
    "\n",
    "    ############# Métodos a Serem implementadas ###########\n",
    "    def apresentação(self):\n",
    "        \"\"\"\n",
    "        Método que imprime uma apresentação e explicação rápida de como\n",
    "        funciona o jogo.\n",
    "        \"\"\"\n",
    "        print('Ola bem-vindo ao jogo de advinhar números')\n",
    "        print('Para jogar você deve pensar em um número entre 1 e 63')\n",
    "        print('Depois vou lhe mostrar diversos cartões e você deve me dizer')\n",
    "        print('se o número que você pensou está dentro desses cartões')\n",
    "        print('E por fim, vou adivinhar o número que você pensou')\n",
    "        \n",
    "    def recebeEntradaDoUsuário(self):\n",
    "        \"\"\"\n",
    "        Função que recebe a entrada lida com ela de forma adequada\n",
    "        Devolve True se o usuário digitou sim e False se digitou não\n",
    "        \"\"\"\n",
    "        while True:\n",
    "            try:\n",
    "                resp = input('\\nO número está nessa cartela? (s/sim ou n/não)\\n').lower()\n",
    "\n",
    "                if not resp.isalpha():\n",
    "                    print('Digite apenas letras!!')\n",
    "                elif resp.startswith('s'):\n",
    "                    return True\n",
    "                elif resp.startswith('n'):\n",
    "                    return False\n",
    "                else:\n",
    "                    raise SoSimOuNao\n",
    "\n",
    "            except SoSimOuNao:\n",
    "                print(SoSimOuNao())\n",
    "\n",
    "    def imprimeNumeroSecreto(self):\n",
    "        \"\"\"\n",
    "        Imprime uma mensagem legal apresentando self.__num\n",
    "        \"\"\"\n",
    "        print('\\nDeixa eu adivinhar!')\n",
    "        print('Você pensou no número', self.__num)\n",
    "        print('Foi não foi?!!')\n",
    "        print('HAHAHAHA, eu sou um gênio!')\n",
    "\n",
    "    ############### Métodos já feitos ###############\n",
    "    def main(self):\n",
    "        \"\"\"\n",
    "        Método principal do jogo, nele se organiza tudo\n",
    "        \"\"\"\n",
    "        self.apresentação()\n",
    "\n",
    "        for i in range(len(self.__cartoes)):\n",
    "            self.__card = i\n",
    "            self.mostraCartão()\n",
    "            self.adicionaNumero(self.recebeEntradaDoUsuário())\n",
    "\n",
    "        self.imprimeNumeroSecreto()\n",
    "\n",
    "\n",
    "    def mostraCartão(self):\n",
    "        \"\"\"\n",
    "        Escolhe um cartão e o mostra para o usuário\n",
    "        \"\"\"\n",
    "        print(self.__cartoes[self.__card])\n",
    "\n",
    "    def adicionaNumero(self, esta):\n",
    "        \"\"\"\n",
    "        Adiciona valor ao número secreto\n",
    "        \"\"\"\n",
    "        if esta:\n",
    "            self.__num += int(self.__cartoes[self.__card].split()[0])\n",
    "\n",
    "if __name__ == '__main__':\n",
    "    x = Jogo()\n",
    "\n"
   ]
  },
  {
   "cell_type": "code",
   "execution_count": null,
   "metadata": {},
   "outputs": [],
   "source": []
  }
 ],
 "metadata": {
  "kernelspec": {
   "display_name": "Python 3",
   "language": "python",
   "name": "python3"
  },
  "language_info": {
   "codemirror_mode": {
    "name": "ipython",
    "version": 3
   },
   "file_extension": ".py",
   "mimetype": "text/x-python",
   "name": "python",
   "nbconvert_exporter": "python",
   "pygments_lexer": "ipython3",
   "version": "3.7.3"
  }
 },
 "nbformat": 4,
 "nbformat_minor": 2
}
