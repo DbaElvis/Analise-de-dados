{
 "cells": [
  {
   "cell_type": "markdown",
   "metadata": {},
   "source": [
    "# AULA 009 "
   ]
  },
  {
   "cell_type": "code",
   "execution_count": 1,
   "metadata": {},
   "outputs": [
    {
     "name": "stdout",
     "output_type": "stream",
     "text": [
      "Tamanho da area a ser pintada: 520\n",
      "Qtd de latas 10\n",
      "Preço a pagar 800\n"
     ]
    }
   ],
   "source": [
    "area = int(input(\"Tamanho da area a ser pintada: \"))\n",
    "\n",
    "litros = area // 3\n",
    "\n",
    "if area % 3 > 0:\n",
    "    litros = litros + 1\n",
    "    \n",
    "latas = litros // 18\n",
    "\n",
    "if litros % 18 > 0:\n",
    "   latas = latas + 1\n",
    "    \n",
    "total = latas * 80    \n",
    "print(\"Qtd de latas {}\".format(latas))  \n",
    "print(\"Preço a pagar {}\".format(total))    "
   ]
  },
  {
   "cell_type": "markdown",
   "metadata": {},
   "source": [
    "# AULA 010"
   ]
  },
  {
   "cell_type": "code",
   "execution_count": null,
   "metadata": {},
   "outputs": [],
   "source": [
    "# PRIMEIRO PROGRAMA\n",
    "\n",
    "a = int(input(\"Primeiro numero: \"))\n",
    "b = int(input(\"Segundo numero: \"))\n",
    "c = int(input(\"Terceiro numero: \"))\n",
    "\n",
    "if a > b and a > c:\n",
    "    print(\"Primeiro numero MAIOR \")\n",
    "    \n",
    "if b > a and b > c:\n",
    "    print(\"Segundo numero MAIOR \")    \n",
    "    \n",
    "if c > a and c > b:\n",
    "    print(\"Terceiro numero MAIOR \")     "
   ]
  },
  {
   "cell_type": "code",
   "execution_count": null,
   "metadata": {},
   "outputs": [],
   "source": [
    "# SEGUNDO PROGRAMA\n",
    "notas = int(input(\"Insira um valor: \"))\n",
    "\n",
    "centena = notas // 100\n",
    "notas1 = notas % 100\n",
    "\n",
    "if notas1 >= 50:\n",
    "    print(\"if else\")\n",
    "    cinquenta = notas1 // 50\n",
    "    notas2 = notas1 % 50\n",
    "    dezena = notas2 // 10\n",
    "else:    \n",
    "    dezena = notas1 // 10\n",
    "\n",
    "print(\" - \",centena, \"nota(s) de R$ 100,00\") \n",
    "print(\" - \",cinquenta, \"nota(s) de R$ 50,00\") \n",
    "print(\" - \",dezena, \"nota(s) de R$ 10,00\") "
   ]
  },
  {
   "cell_type": "markdown",
   "metadata": {},
   "source": [
    "# AULA 011"
   ]
  },
  {
   "cell_type": "code",
   "execution_count": null,
   "metadata": {},
   "outputs": [],
   "source": [
    "#primeiro programa\n",
    "\n",
    "a = int(input(\"Primeiro numero: \"))\n",
    "b = int(input(\"Segundo numero: \"))\n",
    "c = int(input(\"Terceiro numero: \"))\n",
    "\n",
    "if a >= b >= c:\n",
    "    print(a, b, c)\n",
    "\n",
    "elif a >= c >= b:\n",
    "    print(a, c, b)\n",
    "    \n",
    "elif b >= a >= c:\n",
    "    print(b, a, c)  \n",
    "    \n",
    "elif b >= c >= a:\n",
    "    print(b, c, a)  \n",
    "    \n",
    "elif c >= b >= a:\n",
    "    print(c, b, a)    \n",
    "    \n",
    "elif c >= a >= b:\n",
    "    print(c, a, b)"
   ]
  },
  {
   "cell_type": "code",
   "execution_count": null,
   "metadata": {},
   "outputs": [],
   "source": [
    "#segundo programa\n",
    "valor = int(input(\"Insira um valor menor que 1000: \"))\n",
    "\n",
    "valor1 = valor // 100\n",
    "valor2 = (valor % 100)//10\n",
    "valor3 = valor \n",
    "print(\"\",valor1,\"centena(s),\",valor2,\"dezena(s)\")\n"
   ]
  },
  {
   "cell_type": "code",
   "execution_count": null,
   "metadata": {},
   "outputs": [],
   "source": []
  },
  {
   "cell_type": "code",
   "execution_count": null,
   "metadata": {},
   "outputs": [],
   "source": [
    "segundos = 3661000\n",
    "\n",
    "hora = segundos // 3600\n",
    "\n",
    "resto = segundos % 3600\n",
    "\n",
    "minuto = resto // 60\n",
    "\n",
    "segundo = resto % 60\n",
    "\n",
    "print(\"Hora: \", hora,\"\\nMinuto: \", minuto,\"\\nSegundo: \", segundo,\"\")"
   ]
  },
  {
   "cell_type": "code",
   "execution_count": null,
   "metadata": {},
   "outputs": [],
   "source": [
    "a = int(input(\"Primeiro numero: \"))\n",
    "b = int(input(\"Segundo numero: \"))\n",
    "c = int(input(\"Terceiro numero: \"))\n",
    "\n",
    "if a <= b <= c:\n",
    "    print(c, b, a)\n",
    "elif a <= c <= b:\n",
    "    print(b, c, a)    \n",
    "elif b <= a <= c:\n",
    "    print(c, a, b) \n",
    "elif b <= c <= a:\n",
    "    print(a, c, b)    \n",
    "elif c <= a <= b:\n",
    "    print(b, a, c)  \n",
    "else:\n",
    "    print(a, b, c)    "
   ]
  },
  {
   "cell_type": "markdown",
   "metadata": {},
   "source": [
    "# aula 012"
   ]
  },
  {
   "cell_type": "code",
   "execution_count": null,
   "metadata": {},
   "outputs": [],
   "source": [
    "#primeiro programa\n",
    "saque = int(input(\"Insira um valor menor que 1000: \"))\n",
    "\n",
    "cem = saque // 100\n",
    "saque = saque % 100\n",
    "cinquenta = saque // 50\n",
    "saque = saque % 50\n",
    "dez = saque // 10\n",
    "saque = saque % 10\n",
    "print(\"\",cem,\"centena(s),\",cinquenta,\"dezena(s) e\",dez,\"unidade(s)\")"
   ]
  },
  {
   "cell_type": "code",
   "execution_count": null,
   "metadata": {},
   "outputs": [],
   "source": []
  },
  {
   "cell_type": "code",
   "execution_count": null,
   "metadata": {},
   "outputs": [],
   "source": [
    "#segundo programa\n",
    "saque = int(input(\"Insira um valor menor que 1000: \"))\n",
    "\n",
    "if 10 <= saque <= 600:\n",
    "    cem = saque // 100\n",
    "    saque = saque % 100\n",
    "    cinquenta = saque // 50\n",
    "    saque = saque % 50\n",
    "    dez = saque // 10\n",
    "    saque = saque % 10\n",
    "print(\"\",cem,\"nota(s) de R$ 100,00\",cinquenta,\"nota(s) de R$ 50,00\",dez,\"nota(s) de R$ 10,00\")"
   ]
  },
  {
   "cell_type": "code",
   "execution_count": null,
   "metadata": {},
   "outputs": [],
   "source": [
    "a = int(input(\"Primeiro numero: \"))\n",
    "b = int(input(\"Segundo numero: \"))\n",
    "c = int(input(\"Terceiro numero: \"))\n",
    "\n",
    "if a <= b <= c:\n",
    "    print(c, a)\n",
    "elif a <= c <= b:\n",
    "    print(b, a)    \n",
    "elif b <= a <= c:\n",
    "    print(c, b) \n",
    "elif b <= c <= a:\n",
    "    print(a, b)    \n",
    "elif c <= a <= b:\n",
    "    print(b, c)  \n",
    "else:\n",
    "    print(a, c)"
   ]
  },
  {
   "cell_type": "markdown",
   "metadata": {},
   "source": [
    "# aula 013 "
   ]
  },
  {
   "cell_type": "code",
   "execution_count": null,
   "metadata": {},
   "outputs": [],
   "source": [
    "import math as sqrt\n",
    "\n",
    "base = int(input(\"Informe o valor da BASE: \"))\n",
    "expo = int(input(\"Informe o valor da EXPOENTE: \"))\n",
    "\n",
    "while base > 0 and expo > 0:\n",
    "    print(pow(base, expo))"
   ]
  },
  {
   "cell_type": "code",
   "execution_count": null,
   "metadata": {},
   "outputs": [],
   "source": [
    "base = int(input(\"Informe o valor da BASE: \"))\n",
    "expo = int(input(\"Informe o valor da EXPOENTE: \"))\n",
    "\n",
    "cont = 0\n",
    "produto = 1\n",
    "\n",
    "while cont < expo:\n",
    "    produto = produto * base\n",
    "    cont = cont + 1\n",
    "\n",
    "print() \n",
    "print(\"base {} elevado a  {} = {}\".format(base, expo, produto))    "
   ]
  },
  {
   "cell_type": "code",
   "execution_count": null,
   "metadata": {},
   "outputs": [],
   "source": [
    "n = int(input(\"Digite N: \"))\n",
    "\n",
    "cont = 1\n",
    "if n <= 0:\n",
    "    print ('invalido')\n",
    "else:    \n",
    "    while n > 0:\n",
    "        cont *= n\n",
    "        n = n - 1\n",
    "print (cont)    "
   ]
  },
  {
   "cell_type": "code",
   "execution_count": null,
   "metadata": {},
   "outputs": [],
   "source": [
    "n = int(input(\"Digite N: \"))\n",
    "\n",
    "while n != 0:\n",
    "    print(n, \"ao quadrado igual\", n * n)\n",
    "    n = int(input(\"Digite N: \"))\n"
   ]
  },
  {
   "cell_type": "code",
   "execution_count": null,
   "metadata": {},
   "outputs": [],
   "source": [
    "n = int(input(\"Digite N: \"))\n",
    "\n",
    "prod = n\n",
    "cont = n - 1 \n",
    "\n",
    "while cont > 1:\n",
    "    prod = prod * cont\n",
    "    cont = cont - 1\n",
    "print(prod)    "
   ]
  },
  {
   "cell_type": "code",
   "execution_count": null,
   "metadata": {},
   "outputs": [],
   "source": [
    "n = int(input('Digite um numero: '))\n",
    "while n != 0:\n",
    "    print(\" numero {} quadrado {}\".format(n, n * n))\n",
    "    n = int(input('Digite um numero: '))        "
   ]
  },
  {
   "cell_type": "code",
   "execution_count": null,
   "metadata": {},
   "outputs": [],
   "source": [
    "n = int(input('Digite um numero: '))\n",
    "x = 1\n",
    "soma = 0\n",
    "while n > 0:\n",
    "    soma += n\n",
    "    n = n - 1 \n",
    "    x = x + 1\n",
    "print(\"soma {}\".format(soma))    "
   ]
  },
  {
   "cell_type": "code",
   "execution_count": null,
   "metadata": {},
   "outputs": [],
   "source": [
    "n = int(input('Digite um numero: '))\n",
    "\n",
    "\n",
    "while x "
   ]
  },
  {
   "cell_type": "markdown",
   "metadata": {},
   "source": [
    "# aula 014"
   ]
  },
  {
   "cell_type": "code",
   "execution_count": null,
   "metadata": {},
   "outputs": [],
   "source": [
    "x = 1\n",
    "\n",
    "while x <= 5:\n",
    "    p = 1\n",
    "    while p <= 5:\n",
    "        print('x:', x, 'p:', p)\n",
    "        p = p + 1 \n",
    "    x = x + 1"
   ]
  },
  {
   "cell_type": "code",
   "execution_count": null,
   "metadata": {},
   "outputs": [],
   "source": [
    "emp = int(input('Empresas: '))\n",
    "m = int(input('Meses: '))\n",
    "\n",
    "x = 1\n",
    "ent = 0\n",
    "sai = 0\n",
    "\n",
    "while x <= emp:\n",
    "    y = 1\n",
    "    while y <= m:\n",
    "        print('Empresa:', x, 'mes:', y)\n",
    "        ente = int(input('Entrada: '))\n",
    "        said = int(input('Saida: '))\n",
    "        ent += ente\n",
    "        sai += said\n",
    "        y = y + 1 \n",
    "    print('Total Entrada:', ent, 'Total saida:', sai) \n",
    "    if ent > sai:\n",
    "        print('Empresa teve lucro de R${}'.format(ent - sai))\n",
    "        print('Empresa media do lucro mensal de R${}'.format((ent - sai) / m))\n",
    "    elif ent < sai:  \n",
    "        print('Empresa teve prejuizo de R$ {}'.format(sai - ent))\n",
    "        print('Empresa prejuizo do lucro mensal de R${}'.format((sai - ent) / m))\n",
    "    else:\n",
    "        print('Empresa em estado neutro')\n",
    "    x = x + 1\n"
   ]
  },
  {
   "cell_type": "markdown",
   "metadata": {},
   "source": [
    "# aula 15"
   ]
  },
  {
   "cell_type": "code",
   "execution_count": null,
   "metadata": {},
   "outputs": [],
   "source": [
    "num = int(input('Digite um numero: '))\n",
    "\n",
    "a = 1\n",
    "\n",
    "\n",
    "while a * (a + 1) * (a + 2) < num:\n",
    "    a += 1\n",
    "    \n",
    "if a * (a + 1) * (a + 2) == num:\n",
    "    print(num, 'É triangular')\n",
    "else:\n",
    "    print(num, 'NÃO é triangular')"
   ]
  },
  {
   "cell_type": "code",
   "execution_count": null,
   "metadata": {},
   "outputs": [],
   "source": [
    "pessoas = int(input(\"Qtd de pessoas: \"))\n",
    "x = 1\n",
    "while x <= pessoas:\n",
    "   \n",
    "    dia = int(input('Dia do nascimento da pessoa: {} '.format(x)))\n",
    "    mes = int(input('Mês do nascimento da pessoa: {} '.format(x)))\n",
    "    ano = int(input('Ano do nascimento da pessoa: {} '.format(x)))\n",
    "    idade = int(input('Idade da pessoa: {} '.format(x)))\n",
    "    print('Pessoa {} Tera a idade de {} na data de {}/{}/{}'.format(x, idade, dia, mes, (idade + ano)))\n",
    "     x = x + 1"
   ]
  },
  {
   "cell_type": "markdown",
   "metadata": {},
   "source": [
    "# aula 16"
   ]
  },
  {
   "cell_type": "code",
   "execution_count": null,
   "metadata": {},
   "outputs": [],
   "source": [
    "num = int(input('Digite um numero: '))\n",
    "\n",
    "aux, reverso = num, 0\n",
    "\n",
    "while aux != 0:\n",
    "    \n",
    "    dig = aux % 10\n",
    "    reverso = reverso * 10 + aux % 10\n",
    "    aux //= 10\n",
    "\n",
    "if reverso == num:\n",
    "    print(num, \"È palindromo\")\n",
    "else:\n",
    "    print(num, \"Não È palindromo\")"
   ]
  },
  {
   "cell_type": "code",
   "execution_count": null,
   "metadata": {},
   "outputs": [],
   "source": [
    "n = int(input('Digite o tamanho da Sequencia: '))\n",
    "ant = int(input('Digite o numero 1: '))\n",
    "\n",
    "cont = seg = segMAX = 1\n",
    "\n",
    "while cont < n:\n",
    "    prox = int(input('Digite o numero %i: '%(cont+1)))\n",
    "    if prox > ant:\n",
    "        seg += 1\n",
    "    else:\n",
    "        if seg > segMAX:\n",
    "            segMAX = seg\n",
    "        seg = 1    \n",
    "            \n",
    "    cont += 1    \n",
    "    ant = prox\n",
    "    \n",
    "print(\"o maior seguimento da sequencia\", segMAX)"
   ]
  },
  {
   "cell_type": "code",
   "execution_count": null,
   "metadata": {},
   "outputs": [],
   "source": [
    "n = int(input('Digite o tamanho da Sequencia: '))\n",
    "ant = int(input('Digite o numero 1: '))\n",
    "\n",
    "cont = seg = 1\n",
    "\n",
    "while cont < n:\n",
    "    prox = int(input('Digite o numero %i: '%(cont+1)))\n",
    "    if prox != ant:\n",
    "        seg += 1\n",
    "    \n",
    "    ant = prox    \n",
    "    cont += 1    \n",
    "    \n",
    "    \n",
    "print(\"quantos seguimentos: \", seg)"
   ]
  },
  {
   "cell_type": "code",
   "execution_count": null,
   "metadata": {
    "scrolled": true
   },
   "outputs": [],
   "source": [
    "num = 1000\n",
    "\n",
    "while num < 10000:\n",
    "    aux = num\n",
    "    \n",
    "    dois_ult = aux % 100\n",
    "    \n",
    "    aux //= 100\n",
    "    \n",
    "    dois_prim = aux % 100\n",
    "    \n",
    "    if(dois_ult + dois_prim)** 2 == num:\n",
    "        print(num)\n",
    "        \n",
    "    num += 1    "
   ]
  },
  {
   "cell_type": "code",
   "execution_count": 16,
   "metadata": {},
   "outputs": [
    {
     "name": "stdout",
     "output_type": "stream",
     "text": [
      "Digite o valor P: 23\n",
      "Digite o valor Q: 258347\n",
      "23 nao e subnumero de 258347\n"
     ]
    }
   ],
   "source": [
    "p = int(input('Digite o valor P: '))\n",
    "h = int(input('Digite o valor Q: '))\n",
    "aux_p = p\n",
    "cont_d = 0\n",
    "\n",
    "while aux_p != 0:\n",
    "    aux_p //= 10\n",
    "    cont_d += 1\n",
    "    \n",
    "comparando = True\n",
    "aux_h = h\n",
    "\n",
    "while comparando:\n",
    "    subnum = aux_h % (10**cont_d)\n",
    "    if subnum == p:\n",
    "        comparando = False\n",
    "   \n",
    "    aux_h //= 10\n",
    "    \n",
    "    if aux_h == 0:\n",
    "        comparando = False\n",
    "    \n",
    "if subnum == p:\n",
    "    print('%i e subnumero de %i' %(p, h))\n",
    "else:\n",
    "    print('%i nao e subnumero de %i' %(p, h))"
   ]
  },
  {
   "cell_type": "code",
   "execution_count": null,
   "metadata": {},
   "outputs": [],
   "source": [
    "\"\"\"\n",
    "Faça um Programa para leitura de três notas parciais de um aluno.\n",
    "O programa deve calcular a média alcançada por aluno e apresentar:\n",
    "\n",
    " .\tA mensagem \"Aprovado\", se a média for maior ou igual a 7,\n",
    "        com a respectiva média alcançada;\n",
    "\n",
    "a.\tA mensagem \"Reprovado\", se a média for menor do que 7,\n",
    "        com a respectiva média alcançada;\n",
    "\n",
    "b.\tA mensagem \"Aprovado com Distinção\", se a média for igual a 10.\n",
    "\"\"\"\n",
    "\n",
    "media = float(input(\"Digite a primeira nota: \"))\n",
    "media += float(input(\"Digite a segunda nota: \"))\n",
    "media += float(input(\"Digite a terceira nota: \"))\n",
    "\n",
    "media /= 3\n",
    "\n",
    "if media >= 7 and media != 10:\n",
    "    print(\"Aprovado.\")\n",
    "    print(\"Média:\", media)\n",
    "elif media < 7:\n",
    "    print(\"Reprovado.\")\n",
    "    print(\"Média:\", media)\n",
    "else:\n",
    "    print(\"Aprovado com distanção\")"
   ]
  }
 ],
 "metadata": {
  "kernelspec": {
   "display_name": "Python 3",
   "language": "python",
   "name": "python3"
  },
  "language_info": {
   "codemirror_mode": {
    "name": "ipython",
    "version": 3
   },
   "file_extension": ".py",
   "mimetype": "text/x-python",
   "name": "python",
   "nbconvert_exporter": "python",
   "pygments_lexer": "ipython3",
   "version": "3.7.3"
  }
 },
 "nbformat": 4,
 "nbformat_minor": 2
}
