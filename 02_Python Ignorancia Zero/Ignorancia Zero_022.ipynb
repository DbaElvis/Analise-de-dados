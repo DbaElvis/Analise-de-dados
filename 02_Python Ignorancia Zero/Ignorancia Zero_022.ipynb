{
 "cells": [
  {
   "cell_type": "markdown",
   "metadata": {},
   "source": [
    "# AULA 022"
   ]
  },
  {
   "cell_type": "code",
   "execution_count": null,
   "metadata": {},
   "outputs": [],
   "source": [
    "num = int(input(\"Digite o número de temperaturas registradas: \"))\n",
    "\n",
    "soma = maior = menor = float(input(\"Digite a temperatura 1: \"))\n",
    "\n",
    "for i in range(2, num+1):\n",
    "    temp = float(input(\"Digite a temperatura %d: \"%i))\n",
    "\n",
    "    if temp > maior:\n",
    "        maior = temp\n",
    "\n",
    "    if temp < menor:\n",
    "        menor = temp\n",
    "\n",
    "    soma += temp\n",
    "\n",
    "print(\"A maior temperatura é %6.2f ºC\"%maior)\n",
    "print(\"A menor temperatura é %6.2f ºC\"%menor)\n",
    "print(\"A média das temperaturas é %6.2f ºC\"%(soma/num))"
   ]
  },
  {
   "cell_type": "code",
   "execution_count": null,
   "metadata": {},
   "outputs": [],
   "source": [
    "\"\"\"\n",
    "39.\tFaça um programa que leia dez conjuntos de dois valores,\n",
    "o primeiro representando o número do aluno e o segundo representando a sua\n",
    "altura em centímetros. Encontre o aluno mais alto e o mais baixo.\n",
    "Mostre o número do aluno mais alto e o número do aluno mais baixo, junto com\n",
    "suas alturas.\n",
    "\n",
    "\"\"\"\n",
    "\n",
    "numero_maior = numero_menor = int(input(\"Digite o seu número: \"))\n",
    "altura_maior = altura_menor = float(input(\"Digite sua altura: \"))\n",
    "\n",
    "for i in range(9):\n",
    "    numero = int(input(\"Digite o seu número: \"))\n",
    "    altura = float(input(\"Digite sua altura: \"))\n",
    "\n",
    "    if altura < altura_menor:\n",
    "        altura_menor = altura\n",
    "        numero_menor = numero\n",
    "    if altura > altura_maior:\n",
    "        altura_maior = altura\n",
    "        numero_maior = numero\n",
    "\n",
    "print(\"O Aluno de numero %i tem a maior altura(%.2f m)\"%(numero_maior, altura_maior))\n",
    "print(\"O Aluno de numero %i tem a menor altura(%i m)\"%(numero_menor, altura_menor))"
   ]
  },
  {
   "cell_type": "code",
   "execution_count": null,
   "metadata": {},
   "outputs": [],
   "source": [
    "\"\"\"\n",
    "reajustes.\n",
    "\n",
    "o\tFaça um programa que recebe o salário de um colaborador e o\n",
    "        reajuste segundo o seguinte critério, baseado no salário atual:\n",
    "\n",
    "o\tsalários até R$ 280,00 (incluindo) : aumento de 20%\n",
    "o\tsalários entre R$ 280,00 e R$ 700,00 : aumento de 15%\n",
    "o\tsalários entre R$ 700,00 e R$ 1500,00 : aumento de 10%\n",
    "o\tsalários de R$ 1500,00 em diante : aumento de 5%\n",
    "\n",
    "Após o aumento ser realizado, informe na tela:\n",
    "o\to salário antes do reajuste;\n",
    "o\to percentual de aumento aplicado;\n",
    "o\to valor do aumento;\n",
    "o\to novo salário, após o aumento.\n",
    "\n",
    "\"\"\"\n",
    "salário = float(input(\"Digite o seu salário: \"))\n",
    "if salário <= 280:\n",
    "    percentual = 20\n",
    "elif 280 < salário <= 700:\n",
    "    percentual = 15\n",
    "elif 700 < salário <= 1500:\n",
    "    percentual = 10\n",
    "else:\n",
    "    percentual = 5\n",
    "\n",
    "print(\"Salário inicial: R$%.2f\"%salário)\n",
    "print(\"Percentual aplicado: %%%i\"%percentual)\n",
    "print(\"Valor do aumento: R$%.2f\"%(salário*percentual/100))\n",
    "print(\"Novo salário: R$%g\"%(salário*(1+percentual/100)))"
   ]
  },
  {
   "cell_type": "code",
   "execution_count": null,
   "metadata": {},
   "outputs": [],
   "source": [
    "\"\"\"\n",
    "Faça um programa que calcule o número médio de alunos por turma.\n",
    "Para isto, peça a quantidade de turmas e a quantidade de alunos para cada turma.\n",
    "As turmas não podem ter mais de 40 alunos.\n",
    "\"\"\"\n",
    "\n",
    "turmas = int(input(\"Digite a quantidade de turmas: \"))\n",
    "\n",
    "soma = 0\n",
    "\n",
    "for i in range(1, turmas+1):\n",
    "    qtde = int(input(\"Digite o número de alunos da turma %d: \"%i))\n",
    "\n",
    "    while qtde > 40 or qtde < 0:\n",
    "        print(\"Número de alunos inválido.\")\n",
    "        qtde = int(input(\"Digite o número de alunos da turma %d: \"%i))\n",
    "    soma += qtde\n",
    "\n",
    "print(\"A média dos alunos é %.2d alunos por turma.\"%(soma/turmas))"
   ]
  },
  {
   "cell_type": "markdown",
   "metadata": {},
   "source": [
    "# AULA 023 - 024"
   ]
  },
  {
   "cell_type": "code",
   "execution_count": null,
   "metadata": {},
   "outputs": [],
   "source": [
    "import random\n",
    "\n",
    "#random.randrange(start, stop[, step])\n",
    "\"\"\"\n",
    "Retorna aleatóriamente um elemento de range(começo, fim, passo).\n",
    "Isso é equivalente a choice(range(começo, fim, passo)), mas não constrói um\n",
    "objeto range.\n",
    "\"\"\"\n",
    "#Exemplo\n",
    "\n",
    "for i in range(10):\n",
    "    x = random.randrange(1,7)\n",
    "    #x = random.randrange(1, 7, 2)\n",
    "    print(x)"
   ]
  },
  {
   "cell_type": "code",
   "execution_count": null,
   "metadata": {},
   "outputs": [],
   "source": [
    "import random\n",
    "\n",
    "\"\"\"\n",
    "random.randint(a, b)\n",
    "\n",
    "Retorna um inteiro N de tal forma que a <= N <= b.\n",
    "Tal como randrange(a, b+1).\n",
    "\"\"\"\n",
    "#Exemplo\n",
    "for i in range(10):\n",
    "    x = random.randint(1,7)\n",
    "    print(x)"
   ]
  },
  {
   "cell_type": "code",
   "execution_count": null,
   "metadata": {},
   "outputs": [],
   "source": [
    "import random\n",
    "\n",
    "\"\"\"\n",
    "#random.choice(seq)\n",
    "\n",
    "Retorna um elemento aleatória de uma sequência não-vazia.\n",
    "Se recebe uma sequência vazia devolve um erro do tipo IndexError.\n",
    "\"\"\"\n",
    "#Exemplo\n",
    "\n",
    "for i in range(10):\n",
    "    x = random.choice([1.7, 2.3, 3, 4, 5, 6])\n",
    "    xx = random.choice(range(1, 7))\n",
    "    print(x)\n",
    "    print(\"<-->\",xx)"
   ]
  },
  {
   "cell_type": "code",
   "execution_count": null,
   "metadata": {},
   "outputs": [],
   "source": [
    "import random\n",
    "\n",
    "\"\"\"\n",
    "random.random()\n",
    "Retorna um real entre 0.0 e 1.0.\n",
    "\"\"\"\n",
    "#Exemplo\n",
    "for i in range(10):\n",
    "    print(random.random())\n"
   ]
  },
  {
   "cell_type": "code",
   "execution_count": null,
   "metadata": {},
   "outputs": [],
   "source": [
    "import random\n",
    "\n",
    "#random.uniform(a, b)\n",
    "\"\"\"\n",
    "Retorna um real N tal que a <= N <= b ou b <= N <= a.\n",
    "\"\"\"\n",
    "#Exemplo\n",
    "\n",
    "for i in range(10):\n",
    "    x = random.uniform(1, 7)\n",
    "    #x = random.uniform(7, 1)\n",
    "    print(x)\n"
   ]
  },
  {
   "cell_type": "code",
   "execution_count": null,
   "metadata": {},
   "outputs": [],
   "source": [
    "import random\n",
    "\n",
    "testes = int(input(\"Digite o número de testes: \"))\n",
    "\n",
    "trocar = 0\n",
    "\n",
    "for i in range(testes):\n",
    "    porta = random.randrange(1, 4)\n",
    "    premio = random.randint(1, 3)\n",
    "\n",
    "    if porta != premio:\n",
    "        trocar += 1\n",
    "\n",
    "print(\"É vantajoso trocar em %.3g%% das vezes\"%(trocar*100/testes))\n",
    "print(\"Não é vantajoso trocar em %.3g%% das vezes\"%((1 - trocar/testes)*100))"
   ]
  },
  {
   "cell_type": "code",
   "execution_count": null,
   "metadata": {},
   "outputs": [],
   "source": [
    "import random\n",
    "\n",
    "print(\"Olá, bem-vindo ao nosso programa! Vamos ver se você vai ganhar um carro ou não!\")\n",
    "\n",
    "porta = int(input(\"Escolha uma porta: \"))\n",
    "#premio = random.choice([1, 2, 3])\n",
    "#premio = random.randrange(1, 4)\n",
    "premio = random.randint(1, 3)\n",
    "\n",
    "if premio != 1 and porta != 1:\n",
    "    bode = 1\n",
    "elif premio != 2 and porta != 2:\n",
    "    bode = 2\n",
    "else:\n",
    "    bode = 3\n",
    "\n",
    "print(\"Você escolheu a porta %i, mas\"%porta)\n",
    "print(\"eu lhe informo que na porta %i há um bode.\"%bode)\n",
    "\n",
    "decisão = int(input(\"Deseja trocar de porta (1 - Sim/ 0 - Não): \"))\n",
    "\n",
    "if decisão == 1:\n",
    "    if porta != 1 and bode != 1:\n",
    "        porta = 1\n",
    "    elif porta != 2 and bode != 2:\n",
    "        porta = 2\n",
    "    else:\n",
    "        porta = 3\n",
    "\n",
    "if porta == premio:\n",
    "    print(\"Ganhou um carro!\")\n",
    "else:\n",
    "    print(\"Não ganhou um carro...\")"
   ]
  },
  {
   "cell_type": "code",
   "execution_count": null,
   "metadata": {},
   "outputs": [],
   "source": []
  }
 ],
 "metadata": {
  "kernelspec": {
   "display_name": "Python 3",
   "language": "python",
   "name": "python3"
  },
  "language_info": {
   "codemirror_mode": {
    "name": "ipython",
    "version": 3
   },
   "file_extension": ".py",
   "mimetype": "text/x-python",
   "name": "python",
   "nbconvert_exporter": "python",
   "pygments_lexer": "ipython3",
   "version": "3.7.3"
  }
 },
 "nbformat": 4,
 "nbformat_minor": 2
}
